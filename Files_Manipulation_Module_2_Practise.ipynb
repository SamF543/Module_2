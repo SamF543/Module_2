{
  "cells": [
    {
      "cell_type": "markdown",
      "metadata": {
        "id": "view-in-github",
        "colab_type": "text"
      },
      "source": [
        "<a href=\"https://colab.research.google.com/github/SamF543/Module_2/blob/main/Files_Manipulation_Module_2_Practise.ipynb\" target=\"_parent\"><img src=\"https://colab.research.google.com/assets/colab-badge.svg\" alt=\"Open In Colab\"/></a>"
      ]
    },
    {
      "cell_type": "markdown",
      "metadata": {
        "id": "bDYb4uuwZ2xh"
      },
      "source": [
        "# 1.&nbsp;Set Up"
      ]
    },
    {
      "cell_type": "markdown",
      "source": [
        "This is an adaption from Sparow to Google Collab"
      ],
      "metadata": {
        "id": "Ns1SoSTJu-28"
      }
    },
    {
      "cell_type": "code",
      "execution_count": null,
      "metadata": {
        "id": "_NXz7PBlN_KU"
      },
      "outputs": [],
      "source": [
        "# Import Libraries\n",
        "import os\n",
        "import glob\n",
        "import shutil\n",
        "import sys\n",
        "from pathlib import Path\n",
        "import pandas as pd"
      ]
    },
    {
      "cell_type": "code",
      "execution_count": null,
      "metadata": {
        "id": "8GkeyXnRAA_-",
        "outputId": "68a96938-8a26-4bfb-d7a0-4e7ef886f223",
        "colab": {
          "base_uri": "https://localhost:8080/"
        }
      },
      "outputs": [
        {
          "output_type": "stream",
          "name": "stdout",
          "text": [
            "Drive already mounted at /content/gdrive; to attempt to forcibly remount, call drive.mount(\"/content/gdrive\", force_remount=True).\n"
          ]
        }
      ],
      "source": [
        "# Accessing Google Drive from Google Colab\n",
        "\n",
        "from google.colab import drive \n",
        "drive.mount('/content/gdrive')\n"
      ]
    },
    {
      "cell_type": "markdown",
      "metadata": {
        "id": "u1Ow-Eg4YHZA"
      },
      "source": [
        "# 2.&nbsp;Paths : CWD, Absolute vs Relative paths"
      ]
    },
    {
      "cell_type": "markdown",
      "metadata": {
        "id": "lqaHbSJVl6_p"
      },
      "source": [
        "## CWD: current working directory"
      ]
    },
    {
      "cell_type": "code",
      "execution_count": null,
      "metadata": {
        "id": "bbKBUTlTYHZB",
        "outputId": "4393b72b-5869-4123-aa01-a64a483cdb05",
        "colab": {
          "base_uri": "https://localhost:8080/",
          "height": 53
        }
      },
      "outputs": [
        {
          "output_type": "stream",
          "name": "stdout",
          "text": [
            "The current working directory is : \n"
          ]
        },
        {
          "output_type": "execute_result",
          "data": {
            "text/plain": [
              "'/content/gdrive/My Drive'"
            ],
            "application/vnd.google.colaboratory.intrinsic+json": {
              "type": "string"
            }
          },
          "metadata": {},
          "execution_count": 122
        }
      ],
      "source": [
        "# get absolute path to current working directory\n",
        "\n",
        "\n",
        "print('The current working directory is : ')\n",
        "os.getcwd() "
      ]
    },
    {
      "cell_type": "code",
      "execution_count": null,
      "metadata": {
        "id": "HOSQo6ofYZIi",
        "outputId": "9a58f5ce-9ace-417d-f76b-ba2b3998950b",
        "colab": {
          "base_uri": "https://localhost:8080/",
          "height": 35
        }
      },
      "outputs": [
        {
          "output_type": "execute_result",
          "data": {
            "text/plain": [
              "'/content/gdrive/My Drive'"
            ],
            "application/vnd.google.colaboratory.intrinsic+json": {
              "type": "string"
            }
          },
          "metadata": {},
          "execution_count": 123
        }
      ],
      "source": [
        "# save current working directory as cwd\n",
        "\n",
        "#change directory to 'Excel_Automation_Python' folder\n",
        "\n",
        "cwd = os.getcwd()\n",
        "cwd"
      ]
    },
    {
      "cell_type": "code",
      "execution_count": null,
      "metadata": {
        "id": "YAud5pWJjR7D",
        "outputId": "7eed9726-6e0e-4093-ea50-ac3c5df7760e",
        "colab": {
          "base_uri": "https://localhost:8080/"
        }
      },
      "outputs": [
        {
          "output_type": "execute_result",
          "data": {
            "text/plain": [
              "['Colab Notebooks', 'Module_2']"
            ]
          },
          "metadata": {},
          "execution_count": 124
        }
      ],
      "source": [
        "# List all files and directories in current directory\n",
        "\n",
        "os.listdir('.') #  ==> we have 3 directories : config, gdrive, sample_data and other files"
      ]
    },
    {
      "cell_type": "code",
      "source": [
        "# just in case if you rerun the notebook and you already have the excel files uploaded\n",
        "# ..comment out an run this cell evetually\n",
        "\n",
        "# os.unlink('UK_old.xlsx')\n",
        "# os.unlink('UK.xlsx')\n",
        "# os.unlink('FR.xlsx')\n",
        "# os.unlink('DE.xlsx')"
      ],
      "metadata": {
        "id": "92LhXyk3DePy"
      },
      "execution_count": null,
      "outputs": []
    },
    {
      "cell_type": "code",
      "execution_count": null,
      "metadata": {
        "id": "aRUp1uLfjgcx",
        "outputId": "13aedef4-1299-4273-cae1-7bce59d4e25e",
        "colab": {
          "base_uri": "https://localhost:8080/"
        }
      },
      "outputs": [
        {
          "output_type": "stream",
          "name": "stdout",
          "text": [
            "['README.md', 'anscombe.json', 'mnist_test.csv', 'california_housing_test.csv', 'mnist_train_small.csv', 'california_housing_train.csv']\n"
          ]
        }
      ],
      "source": [
        "# check containing in sample_data directory\n",
        "\n",
        "print(os.listdir('sample_data'))"
      ]
    },
    {
      "cell_type": "code",
      "source": [
        "# check containing in 'gdrive' directory\n",
        "\n",
        "print(os.listdir('gdrive'))"
      ],
      "metadata": {
        "colab": {
          "base_uri": "https://localhost:8080/"
        },
        "id": "eOPQOUk5wo6t",
        "outputId": "d437c63e-e65d-4cbc-c5f8-365487a66f06"
      },
      "execution_count": null,
      "outputs": [
        {
          "output_type": "stream",
          "name": "stdout",
          "text": [
            "['MyDrive', '.shortcut-targets-by-id', '.file-revisions-by-id', '.Trash-0']\n"
          ]
        }
      ]
    },
    {
      "cell_type": "code",
      "source": [
        "# check containing in 'MyDrive' directory  in gdrive' folder\n",
        "\n",
        "print(os.listdir('gdrive/MyDrive'))"
      ],
      "metadata": {
        "colab": {
          "base_uri": "https://localhost:8080/"
        },
        "id": "O5XArGsew366",
        "outputId": "86cb7890-a2dc-4278-e2f0-06340f553050"
      },
      "execution_count": null,
      "outputs": [
        {
          "output_type": "stream",
          "name": "stdout",
          "text": [
            "['Colab Notebooks', 'Raw_Excel_Files', 'UK.xlsx', 'FR.xlsx', 'DE.xlsx', 'UK_old.xlsx', 'Processed_Files', 'Module_2']\n"
          ]
        }
      ]
    },
    {
      "cell_type": "code",
      "source": [
        "# os.unlink('gdrive/MyDrive/UK_old.xlsx')\n",
        "# os.unlink('gdrive/MyDrive/UK.xlsx')\n",
        "# os.unlink('gdrive/MyDrive/FR.xlsx')\n",
        "# os.unlink('gdrive/MyDrive/DE.xlsx')"
      ],
      "metadata": {
        "id": "7u-sWXHwLLgL"
      },
      "execution_count": null,
      "outputs": []
    },
    {
      "cell_type": "markdown",
      "metadata": {
        "id": "1NeODryrmHWC"
      },
      "source": [
        "## Paths: Absolute & Relative"
      ]
    },
    {
      "cell_type": "markdown",
      "metadata": {
        "id": "JSOoWIiOk4Jw"
      },
      "source": [
        "**Absolute file paths** are notated by a leading forward slash or drive label. For example, /home/example_user/example_directory or C:/system32/cmd.exe. An absolute file path describes how to access a given file or directory, starting from the root of the file system. A file path is also called a pathname.\n"
      ]
    },
    {
      "cell_type": "code",
      "execution_count": null,
      "metadata": {
        "id": "W1nieMycjfI6",
        "outputId": "1e0f98b3-e503-4a2e-8237-78e5bad576a4",
        "colab": {
          "base_uri": "https://localhost:8080/"
        }
      },
      "outputs": [
        {
          "output_type": "stream",
          "name": "stdout",
          "text": [
            "In content directory we have :  ['.config', 'gdrive', 'sample_data']\n",
            "In gdrive directory we have :  ['MyDrive', '.shortcut-targets-by-id', '.file-revisions-by-id', '.Trash-0']\n",
            "In gdrive/MyDrive directory we have :  ['Colab Notebooks', 'Raw_Excel_Files', 'UK.xlsx', 'FR.xlsx', 'DE.xlsx', 'UK_old.xlsx', 'Processed_Files', 'Module_2']\n",
            "In gdrive/MyDrive/Colab Notebooks directory we have :  ['Untitled0.ipynb', 'Untitled1.ipynb', 'Python_Basics_Module_1_Practice.ipynb', 'Sam Python_Basics_Module_1_Practice.ipynb', 'Copy of Files_Manipulation_Module_2 (2).ipynb', 'Copy of Files_Manipulation_Module_2 (1).ipynb', 'Copy of Files_Manipulation_Module_2.ipynb', 'Copy of Files_Manipulation_Module_2_Practise.ipynb', 'Python_Basics_Module_1.ipynb', 'Python_Basics_Module_1_practice (1).ipynb', 'Python_Basics_Module_1_practice.ipynb', 'Copy of Python_Basics_Module_1_practice (1).ipynb', 'Copy of Copy of Python_Basics_Module_1_practice.ipynb', 'Copy of Python_Basics_Module_1_practice.ipynb', 'Copy of Copy_of_Python_Basics_Module_1_practice (1).ipynb', 'Files_Manipulation_Module_2.ipynb', 'Files_Manipulation_Module_2_Practise.ipynb', 'Copy of Copy_of_Python_Basics_Module_1_practice.ipynb', 'Copy_of_Python_Basics_Module_1_practice.ipynb']\n"
          ]
        }
      ],
      "source": [
        "# check conaining in directory with aboslute path\n",
        "\n",
        "# containing of '/content' directory\n",
        "print('In content directory we have : ', os.listdir('/content')) \n",
        "\n",
        "# containing of 'gdrive' directory\n",
        "print('In gdrive directory we have : ', os.listdir('/content/gdrive')) \n",
        "\n",
        "# containing of 'gdrive/MyDrive' directory\n",
        "print('In gdrive/MyDrive directory we have : ', os.listdir('/content/gdrive/MyDrive'))\n",
        "\n",
        "# containing of 'gdrive/MyDrive/Colab Notebooks' directory\n",
        "print('In gdrive/MyDrive/Colab Notebooks directory we have : ', os.listdir('/content/gdrive/MyDrive/Colab Notebooks'))"
      ]
    },
    {
      "cell_type": "code",
      "execution_count": null,
      "metadata": {
        "id": "aAQsaxMnurY9",
        "outputId": "f5a6b164-b0a9-403d-892b-c4cde9c54c42",
        "colab": {
          "base_uri": "https://localhost:8080/",
          "height": 35
        }
      },
      "outputs": [
        {
          "output_type": "execute_result",
          "data": {
            "text/plain": [
              "'/content/gdrive/MyDrive'"
            ],
            "application/vnd.google.colaboratory.intrinsic+json": {
              "type": "string"
            }
          },
          "metadata": {},
          "execution_count": 12
        }
      ],
      "source": [
        "# the absolute path for MyDrive directory is :\n",
        "\n",
        "absolute_path = '/content/gdrive/MyDrive'\n",
        "absolute_path"
      ]
    },
    {
      "cell_type": "markdown",
      "metadata": {
        "id": "ZkNB-oRjlG7U"
      },
      "source": [
        "**Relative file paths** are notated by a lack of a leading forward slash. For example, example_directory. A relative file path is interpreted from the perspective your current working directory. If you use a relative file path from the wrong directory, then the path will refer to a different file than you intend, or it will refer to no file at all."
      ]
    },
    {
      "cell_type": "code",
      "execution_count": null,
      "metadata": {
        "id": "xAzsO-X7urY-",
        "outputId": "b788f717-862d-49d2-ea2e-3fed49fa7941",
        "colab": {
          "base_uri": "https://localhost:8080/"
        }
      },
      "outputs": [
        {
          "output_type": "stream",
          "name": "stdout",
          "text": [
            "our courrent working directory is:  /content\n",
            "\n",
            "absolute path to MyDrive:  /content/gdrive/MyDrive\n",
            "\n",
            "relative path to MyDrive:  gdrive/MyDrive\n"
          ]
        }
      ],
      "source": [
        "# relative path don't need to use the whole absolute path, only path after the current directory path\n",
        "\n",
        "print(\"our courrent working directory is: \", cwd)\n",
        "print('')\n",
        "\n",
        "print(\"absolute path to MyDrive: \", absolute_path)\n",
        "print('')\n",
        "\n",
        "# the relative path for MyDrive directory, (we won't need to add /content/ in the path)\n",
        "relative_path = 'gdrive/MyDrive'\n",
        "print(\"relative path to MyDrive: \", relative_path)"
      ]
    },
    {
      "cell_type": "code",
      "execution_count": null,
      "metadata": {
        "id": "PmCZ28V6jz21"
      },
      "outputs": [],
      "source": [
        "# delete a notebook from Colab Notebook ==> Name_Notebook.ipynb after '/content/gdrive/MyDrive/Colab Notebooks/ + Name_Notebook.ipynb'\n",
        "\n",
        "# os.unlink('/content/gdrive/MyDrive/Colab Notebooks/Copy of Fille_Manipulation_Module_2_Practice.ipynb') # relative path as UK_old in the working directory\n"
      ]
    },
    {
      "cell_type": "markdown",
      "metadata": {
        "id": "YMsZrwvkmRWB"
      },
      "source": [
        "## Import files"
      ]
    },
    {
      "cell_type": "code",
      "execution_count": null,
      "metadata": {
        "id": "vMtWKHrYDYdH"
      },
      "outputs": [],
      "source": [
        "# import files into google Colab\n",
        "from google.colab import files\n"
      ]
    },
    {
      "cell_type": "code",
      "execution_count": null,
      "metadata": {
        "id": "_H0qa3TEP5n7",
        "outputId": "5ca4b6e8-649f-4d40-d06d-a313a60fbe43",
        "colab": {
          "base_uri": "https://localhost:8080/",
          "height": 177
        }
      },
      "outputs": [
        {
          "output_type": "display_data",
          "data": {
            "text/plain": [
              "<IPython.core.display.HTML object>"
            ],
            "text/html": [
              "\n",
              "     <input type=\"file\" id=\"files-1b44df35-8ce9-4a1d-a754-50a1779c777d\" name=\"files[]\" multiple disabled\n",
              "        style=\"border:none\" />\n",
              "     <output id=\"result-1b44df35-8ce9-4a1d-a754-50a1779c777d\">\n",
              "      Upload widget is only available when the cell has been executed in the\n",
              "      current browser session. Please rerun this cell to enable.\n",
              "      </output>\n",
              "      <script>// Copyright 2017 Google LLC\n",
              "//\n",
              "// Licensed under the Apache License, Version 2.0 (the \"License\");\n",
              "// you may not use this file except in compliance with the License.\n",
              "// You may obtain a copy of the License at\n",
              "//\n",
              "//      http://www.apache.org/licenses/LICENSE-2.0\n",
              "//\n",
              "// Unless required by applicable law or agreed to in writing, software\n",
              "// distributed under the License is distributed on an \"AS IS\" BASIS,\n",
              "// WITHOUT WARRANTIES OR CONDITIONS OF ANY KIND, either express or implied.\n",
              "// See the License for the specific language governing permissions and\n",
              "// limitations under the License.\n",
              "\n",
              "/**\n",
              " * @fileoverview Helpers for google.colab Python module.\n",
              " */\n",
              "(function(scope) {\n",
              "function span(text, styleAttributes = {}) {\n",
              "  const element = document.createElement('span');\n",
              "  element.textContent = text;\n",
              "  for (const key of Object.keys(styleAttributes)) {\n",
              "    element.style[key] = styleAttributes[key];\n",
              "  }\n",
              "  return element;\n",
              "}\n",
              "\n",
              "// Max number of bytes which will be uploaded at a time.\n",
              "const MAX_PAYLOAD_SIZE = 100 * 1024;\n",
              "\n",
              "function _uploadFiles(inputId, outputId) {\n",
              "  const steps = uploadFilesStep(inputId, outputId);\n",
              "  const outputElement = document.getElementById(outputId);\n",
              "  // Cache steps on the outputElement to make it available for the next call\n",
              "  // to uploadFilesContinue from Python.\n",
              "  outputElement.steps = steps;\n",
              "\n",
              "  return _uploadFilesContinue(outputId);\n",
              "}\n",
              "\n",
              "// This is roughly an async generator (not supported in the browser yet),\n",
              "// where there are multiple asynchronous steps and the Python side is going\n",
              "// to poll for completion of each step.\n",
              "// This uses a Promise to block the python side on completion of each step,\n",
              "// then passes the result of the previous step as the input to the next step.\n",
              "function _uploadFilesContinue(outputId) {\n",
              "  const outputElement = document.getElementById(outputId);\n",
              "  const steps = outputElement.steps;\n",
              "\n",
              "  const next = steps.next(outputElement.lastPromiseValue);\n",
              "  return Promise.resolve(next.value.promise).then((value) => {\n",
              "    // Cache the last promise value to make it available to the next\n",
              "    // step of the generator.\n",
              "    outputElement.lastPromiseValue = value;\n",
              "    return next.value.response;\n",
              "  });\n",
              "}\n",
              "\n",
              "/**\n",
              " * Generator function which is called between each async step of the upload\n",
              " * process.\n",
              " * @param {string} inputId Element ID of the input file picker element.\n",
              " * @param {string} outputId Element ID of the output display.\n",
              " * @return {!Iterable<!Object>} Iterable of next steps.\n",
              " */\n",
              "function* uploadFilesStep(inputId, outputId) {\n",
              "  const inputElement = document.getElementById(inputId);\n",
              "  inputElement.disabled = false;\n",
              "\n",
              "  const outputElement = document.getElementById(outputId);\n",
              "  outputElement.innerHTML = '';\n",
              "\n",
              "  const pickedPromise = new Promise((resolve) => {\n",
              "    inputElement.addEventListener('change', (e) => {\n",
              "      resolve(e.target.files);\n",
              "    });\n",
              "  });\n",
              "\n",
              "  const cancel = document.createElement('button');\n",
              "  inputElement.parentElement.appendChild(cancel);\n",
              "  cancel.textContent = 'Cancel upload';\n",
              "  const cancelPromise = new Promise((resolve) => {\n",
              "    cancel.onclick = () => {\n",
              "      resolve(null);\n",
              "    };\n",
              "  });\n",
              "\n",
              "  // Wait for the user to pick the files.\n",
              "  const files = yield {\n",
              "    promise: Promise.race([pickedPromise, cancelPromise]),\n",
              "    response: {\n",
              "      action: 'starting',\n",
              "    }\n",
              "  };\n",
              "\n",
              "  cancel.remove();\n",
              "\n",
              "  // Disable the input element since further picks are not allowed.\n",
              "  inputElement.disabled = true;\n",
              "\n",
              "  if (!files) {\n",
              "    return {\n",
              "      response: {\n",
              "        action: 'complete',\n",
              "      }\n",
              "    };\n",
              "  }\n",
              "\n",
              "  for (const file of files) {\n",
              "    const li = document.createElement('li');\n",
              "    li.append(span(file.name, {fontWeight: 'bold'}));\n",
              "    li.append(span(\n",
              "        `(${file.type || 'n/a'}) - ${file.size} bytes, ` +\n",
              "        `last modified: ${\n",
              "            file.lastModifiedDate ? file.lastModifiedDate.toLocaleDateString() :\n",
              "                                    'n/a'} - `));\n",
              "    const percent = span('0% done');\n",
              "    li.appendChild(percent);\n",
              "\n",
              "    outputElement.appendChild(li);\n",
              "\n",
              "    const fileDataPromise = new Promise((resolve) => {\n",
              "      const reader = new FileReader();\n",
              "      reader.onload = (e) => {\n",
              "        resolve(e.target.result);\n",
              "      };\n",
              "      reader.readAsArrayBuffer(file);\n",
              "    });\n",
              "    // Wait for the data to be ready.\n",
              "    let fileData = yield {\n",
              "      promise: fileDataPromise,\n",
              "      response: {\n",
              "        action: 'continue',\n",
              "      }\n",
              "    };\n",
              "\n",
              "    // Use a chunked sending to avoid message size limits. See b/62115660.\n",
              "    let position = 0;\n",
              "    do {\n",
              "      const length = Math.min(fileData.byteLength - position, MAX_PAYLOAD_SIZE);\n",
              "      const chunk = new Uint8Array(fileData, position, length);\n",
              "      position += length;\n",
              "\n",
              "      const base64 = btoa(String.fromCharCode.apply(null, chunk));\n",
              "      yield {\n",
              "        response: {\n",
              "          action: 'append',\n",
              "          file: file.name,\n",
              "          data: base64,\n",
              "        },\n",
              "      };\n",
              "\n",
              "      let percentDone = fileData.byteLength === 0 ?\n",
              "          100 :\n",
              "          Math.round((position / fileData.byteLength) * 100);\n",
              "      percent.textContent = `${percentDone}% done`;\n",
              "\n",
              "    } while (position < fileData.byteLength);\n",
              "  }\n",
              "\n",
              "  // All done.\n",
              "  yield {\n",
              "    response: {\n",
              "      action: 'complete',\n",
              "    }\n",
              "  };\n",
              "}\n",
              "\n",
              "scope.google = scope.google || {};\n",
              "scope.google.colab = scope.google.colab || {};\n",
              "scope.google.colab._files = {\n",
              "  _uploadFiles,\n",
              "  _uploadFilesContinue,\n",
              "};\n",
              "})(self);\n",
              "</script> "
            ]
          },
          "metadata": {}
        },
        {
          "output_type": "stream",
          "name": "stdout",
          "text": [
            "Saving DE.xlsx to DE.xlsx\n",
            "Saving FR.xlsx to FR.xlsx\n",
            "Saving UK.xlsx to UK.xlsx\n",
            "Saving UK_old.xlsx to UK_old.xlsx\n"
          ]
        }
      ],
      "source": [
        "# upload excels from your downloads : excel files \"DE.xlsx\", 'UK.xlsx\", 'FR.xlsx' and 'UK_old.xlsx'\n",
        "# ... the ones you downloaded from github https://github.com/datalover2023/Module_2\n",
        "\n",
        "\n",
        "uploaded = files.upload()"
      ]
    },
    {
      "cell_type": "code",
      "execution_count": null,
      "metadata": {
        "id": "G-CfZN5wYvew",
        "outputId": "7abb35b5-cdd3-4766-c824-623eb9d3be19",
        "colab": {
          "base_uri": "https://localhost:8080/"
        }
      },
      "outputs": [
        {
          "output_type": "execute_result",
          "data": {
            "text/plain": [
              "['.config',\n",
              " 'UK_old.xlsx',\n",
              " 'gdrive',\n",
              " 'DE.xlsx',\n",
              " 'FR.xlsx',\n",
              " 'UK.xlsx',\n",
              " 'sample_data']"
            ]
          },
          "metadata": {},
          "execution_count": 25
        }
      ],
      "source": [
        "# List all files and directories in current directory\n",
        "# you can see that the excel files were upload in your cwd\n",
        "\n",
        "os.listdir('.')"
      ]
    },
    {
      "cell_type": "markdown",
      "metadata": {
        "id": "bPlad8w9_dfJ"
      },
      "source": [
        "# 3.&nbsp;Folder hierarchy tree"
      ]
    },
    {
      "cell_type": "markdown",
      "source": [
        "To have a better feeling of the containing of your current working directory (cwd), it will be good to visualize the files hierarchy / organization in a single glimpse.\n",
        "\n",
        "To do so, here below the creation of the function **folder_tree()** that will help us to do so"
      ],
      "metadata": {
        "id": "XijsO8p12i9F"
      }
    },
    {
      "cell_type": "markdown",
      "source": [
        "**folder_tree()**"
      ],
      "metadata": {
        "id": "nhl-tdfE3X5i"
      }
    },
    {
      "cell_type": "code",
      "execution_count": null,
      "metadata": {
        "id": "74BL7BcF_dfK"
      },
      "outputs": [],
      "source": [
        "# create a function << folder tree >> to display the the hierarchy of your cwd\n",
        "\n",
        "def folder_tree(folder):\n",
        "    for dirpath, dirs, files in os.walk(cwd):\t \n",
        "        if 'checkpoints' not in dirpath:\n",
        "                path = dirpath.split('/')     \n",
        "                print ('|', (len(path))*'--', '>',os.path.basename(dirpath),':')\n",
        "                for f in files:\n",
        "                    print ('|', len(path)*'------', f)\n",
        "                      "
      ]
    },
    {
      "cell_type": "code",
      "source": [
        "# call function folder_tree on your cwd\n",
        "\n",
        "folder_tree(cwd)"
      ],
      "metadata": {
        "colab": {
          "base_uri": "https://localhost:8080/"
        },
        "id": "GKd9SFog3u2U",
        "outputId": "58559596-fee2-4d64-ed2a-60dc5e3bd684"
      },
      "execution_count": null,
      "outputs": [
        {
          "output_type": "stream",
          "name": "stdout",
          "text": [
            "| ---- > content :\n",
            "| ------------ UK_old.xlsx\n",
            "| ------------ DE.xlsx\n",
            "| ------------ FR.xlsx\n",
            "| ------------ UK.xlsx\n",
            "| ------ > .config :\n",
            "| ------------------ .last_opt_in_prompt.yaml\n",
            "| ------------------ config_sentinel\n",
            "| ------------------ active_config\n",
            "| ------------------ .last_update_check.json\n",
            "| ------------------ gce\n",
            "| ------------------ .last_survey_prompt.yaml\n",
            "| -------- > configurations :\n",
            "| ------------------------ config_default\n",
            "| -------- > logs :\n",
            "| ---------- > 2023.03.09 :\n",
            "| ------------------------------ 18.58.08.382774.log\n",
            "| ------------------------------ 18.56.44.754561.log\n",
            "| ------------------------------ 18.58.07.603569.log\n",
            "| ------------------------------ 18.57.10.794840.log\n",
            "| ------------------------------ 18.57.42.956897.log\n",
            "| ------------------------------ 18.57.34.727219.log\n",
            "| ------ > gdrive :\n",
            "| -------- > MyDrive :\n",
            "| ------------------------ UK.xlsx\n",
            "| ------------------------ FR.xlsx\n",
            "| ------------------------ DE.xlsx\n",
            "| ------------------------ UK_old.xlsx\n",
            "| ---------- > Colab Notebooks :\n",
            "| ------------------------------ Untitled0.ipynb\n",
            "| ------------------------------ Untitled1.ipynb\n",
            "| ------------------------------ Python_Basics_Module_1_Practice.ipynb\n",
            "| ------------------------------ Sam Python_Basics_Module_1_Practice.ipynb\n",
            "| ------------------------------ Copy of Files_Manipulation_Module_2 (2).ipynb\n",
            "| ------------------------------ Copy of Files_Manipulation_Module_2 (1).ipynb\n",
            "| ------------------------------ Copy of Files_Manipulation_Module_2.ipynb\n",
            "| ------------------------------ Copy of Files_Manipulation_Module_2_Practise.ipynb\n",
            "| ------------------------------ Python_Basics_Module_1.ipynb\n",
            "| ------------------------------ Python_Basics_Module_1_practice (1).ipynb\n",
            "| ------------------------------ Python_Basics_Module_1_practice.ipynb\n",
            "| ------------------------------ Copy of Python_Basics_Module_1_practice (1).ipynb\n",
            "| ------------------------------ Copy of Copy of Python_Basics_Module_1_practice.ipynb\n",
            "| ------------------------------ Copy of Python_Basics_Module_1_practice.ipynb\n",
            "| ------------------------------ Copy of Copy_of_Python_Basics_Module_1_practice (1).ipynb\n",
            "| ------------------------------ Files_Manipulation_Module_2.ipynb\n",
            "| ------------------------------ Files_Manipulation_Module_2_Practise.ipynb\n",
            "| ------------------------------ Copy of Copy_of_Python_Basics_Module_1_practice.ipynb\n",
            "| ------------------------------ Copy_of_Python_Basics_Module_1_practice.ipynb\n",
            "| ---------- > Raw_Excel_Files :\n",
            "| ------------------------------ UK.xlsx\n",
            "| ------------------------------ FR.xlsx\n",
            "| ------------------------------ DE.xlsx\n",
            "| ------------------------------ UK_old.xlsx\n",
            "| ---------- > Processed_Files :\n",
            "| ------------------------------ uk_df.xlsx\n",
            "| ------------------------------ Consolidated_by_sheet.xlsx\n",
            "| ------------------------------ Consolidation.xlsx\n",
            "| ---------- > Module_2 :\n",
            "| -------- > .shortcut-targets-by-id :\n",
            "| -------- > .file-revisions-by-id :\n",
            "| -------- > .Trash-0 :\n",
            "| ---------- > files :\n",
            "| ---------- > info :\n",
            "| ------ > sample_data :\n",
            "| ------------------ README.md\n",
            "| ------------------ anscombe.json\n",
            "| ------------------ mnist_test.csv\n",
            "| ------------------ california_housing_test.csv\n",
            "| ------------------ mnist_train_small.csv\n",
            "| ------------------ california_housing_train.csv\n"
          ]
        }
      ]
    },
    {
      "cell_type": "markdown",
      "source": [
        "**folder_tree_2()**"
      ],
      "metadata": {
        "id": "JH6Qg1Zp3h4V"
      }
    },
    {
      "cell_type": "code",
      "execution_count": null,
      "metadata": {
        "id": "knqRLZQ-Zavw"
      },
      "outputs": [],
      "source": [
        "# another way to explore your folder/files \n",
        "# create function << folder_tree_2 >>\n",
        "\n",
        "\n",
        "def folder_tree_2(folder):\n",
        "    for dirPath, dirNames, fileNames in os.walk(cwd, topdown=True):\n",
        "        if 'checkpoints' not in dirPath:\n",
        "            print(\"Directory Path: \", dirPath) \n",
        "            print(len(dirNames), \"Directories = \", dirNames )\n",
        "            print(len(fileNames), \"Files = \", fileNames )\n",
        "            print('-'*10)"
      ]
    },
    {
      "cell_type": "code",
      "source": [
        "# call function << folder_tree_2 >> on your cwd\n",
        "# it will return all Directory Paths with contained sub_directories and files\n",
        "# nb of sub_directories and files\n",
        "\n",
        "folder_tree_2(cwd)"
      ],
      "metadata": {
        "colab": {
          "base_uri": "https://localhost:8080/"
        },
        "id": "aNi6mgmI31lN",
        "outputId": "bab56936-4bbb-4884-ad85-efae7b67e572"
      },
      "execution_count": null,
      "outputs": [
        {
          "output_type": "stream",
          "name": "stdout",
          "text": [
            "Directory Path:  /content\n",
            "3 Directories =  ['.config', 'gdrive', 'sample_data']\n",
            "0 Files =  []\n",
            "----------\n",
            "Directory Path:  /content/.config\n",
            "2 Directories =  ['configurations', 'logs']\n",
            "6 Files =  ['.last_opt_in_prompt.yaml', 'config_sentinel', 'active_config', '.last_update_check.json', 'gce', '.last_survey_prompt.yaml']\n",
            "----------\n",
            "Directory Path:  /content/.config/configurations\n",
            "0 Directories =  []\n",
            "1 Files =  ['config_default']\n",
            "----------\n",
            "Directory Path:  /content/.config/logs\n",
            "1 Directories =  ['2023.03.09']\n",
            "0 Files =  []\n",
            "----------\n",
            "Directory Path:  /content/.config/logs/2023.03.09\n",
            "0 Directories =  []\n",
            "6 Files =  ['18.58.08.382774.log', '18.56.44.754561.log', '18.58.07.603569.log', '18.57.10.794840.log', '18.57.42.956897.log', '18.57.34.727219.log']\n",
            "----------\n",
            "Directory Path:  /content/gdrive\n",
            "4 Directories =  ['MyDrive', '.shortcut-targets-by-id', '.file-revisions-by-id', '.Trash-0']\n",
            "0 Files =  []\n",
            "----------\n",
            "Directory Path:  /content/gdrive/MyDrive\n",
            "4 Directories =  ['Colab Notebooks', 'Raw_Excel_Files', 'Processed_Files', 'Module_2']\n",
            "4 Files =  ['UK.xlsx', 'FR.xlsx', 'DE.xlsx', 'UK_old.xlsx']\n",
            "----------\n",
            "Directory Path:  /content/gdrive/MyDrive/Colab Notebooks\n",
            "0 Directories =  []\n",
            "19 Files =  ['Untitled0.ipynb', 'Untitled1.ipynb', 'Python_Basics_Module_1_Practice.ipynb', 'Sam Python_Basics_Module_1_Practice.ipynb', 'Copy of Files_Manipulation_Module_2 (2).ipynb', 'Copy of Files_Manipulation_Module_2 (1).ipynb', 'Copy of Files_Manipulation_Module_2.ipynb', 'Copy of Files_Manipulation_Module_2_Practise.ipynb', 'Python_Basics_Module_1.ipynb', 'Python_Basics_Module_1_practice (1).ipynb', 'Python_Basics_Module_1_practice.ipynb', 'Copy of Python_Basics_Module_1_practice (1).ipynb', 'Copy of Copy of Python_Basics_Module_1_practice.ipynb', 'Copy of Python_Basics_Module_1_practice.ipynb', 'Copy of Copy_of_Python_Basics_Module_1_practice (1).ipynb', 'Files_Manipulation_Module_2.ipynb', 'Files_Manipulation_Module_2_Practise.ipynb', 'Copy of Copy_of_Python_Basics_Module_1_practice.ipynb', 'Copy_of_Python_Basics_Module_1_practice.ipynb']\n",
            "----------\n",
            "Directory Path:  /content/gdrive/MyDrive/Raw_Excel_Files\n",
            "0 Directories =  []\n",
            "4 Files =  ['UK.xlsx', 'FR.xlsx', 'DE.xlsx', 'UK_old.xlsx']\n",
            "----------\n",
            "Directory Path:  /content/gdrive/MyDrive/Processed_Files\n",
            "0 Directories =  []\n",
            "3 Files =  ['uk_df.xlsx', 'Consolidated_by_sheet.xlsx', 'Consolidation.xlsx']\n",
            "----------\n",
            "Directory Path:  /content/gdrive/MyDrive/Module_2\n",
            "0 Directories =  []\n",
            "0 Files =  []\n",
            "----------\n",
            "Directory Path:  /content/gdrive/.shortcut-targets-by-id\n",
            "0 Directories =  []\n",
            "0 Files =  []\n",
            "----------\n",
            "Directory Path:  /content/gdrive/.file-revisions-by-id\n",
            "0 Directories =  []\n",
            "0 Files =  []\n",
            "----------\n",
            "Directory Path:  /content/gdrive/.Trash-0\n",
            "2 Directories =  ['files', 'info']\n",
            "0 Files =  []\n",
            "----------\n",
            "Directory Path:  /content/gdrive/.Trash-0/files\n",
            "0 Directories =  []\n",
            "0 Files =  []\n",
            "----------\n",
            "Directory Path:  /content/gdrive/.Trash-0/info\n",
            "0 Directories =  []\n",
            "0 Files =  []\n",
            "----------\n",
            "Directory Path:  /content/sample_data\n",
            "0 Directories =  []\n",
            "6 Files =  ['README.md', 'anscombe.json', 'mnist_test.csv', 'california_housing_test.csv', 'mnist_train_small.csv', 'california_housing_train.csv']\n",
            "----------\n"
          ]
        }
      ]
    },
    {
      "cell_type": "markdown",
      "metadata": {
        "id": "FCmGQXHAsiwd"
      },
      "source": [
        "# 4.&nbsp;Looking for Files with extensions"
      ]
    },
    {
      "cell_type": "code",
      "execution_count": null,
      "metadata": {
        "id": "pOhA88_hwXk7",
        "outputId": "cbd72688-a2ae-4463-f989-15f24c6fd834",
        "colab": {
          "base_uri": "https://localhost:8080/"
        }
      },
      "outputs": [
        {
          "output_type": "stream",
          "name": "stdout",
          "text": [
            "there are 4 excel files: \n"
          ]
        },
        {
          "output_type": "execute_result",
          "data": {
            "text/plain": [
              "['UK_old.xlsx', 'DE.xlsx', 'FR.xlsx', 'UK.xlsx']"
            ]
          },
          "metadata": {},
          "execution_count": 28
        }
      ],
      "source": [
        "# create a list  \"excel_files\" with all files that have the extension excel_files in the working directory\n",
        "\n",
        "excel_files=[]\n",
        "for file in os.listdir('.'):\n",
        "    if file.endswith('.xlsx'): # or '.csv' if your'looinkg for csv files\n",
        "            excel_files.append(file)\n",
        "            \n",
        "# it will print out excel names present in current directory folder = 'Basics_Python\"\n",
        "print( 'there are', len(excel_files), \"excel files: \")\n",
        "excel_files"
      ]
    },
    {
      "cell_type": "code",
      "execution_count": null,
      "metadata": {
        "id": "T9-EafJPwlNw",
        "outputId": "d7eb25ba-8c06-4ec1-d5a7-ae3f244a4972",
        "colab": {
          "base_uri": "https://localhost:8080/"
        }
      },
      "outputs": [
        {
          "output_type": "stream",
          "name": "stdout",
          "text": [
            "['/content/UK_old.xlsx', '/content/DE.xlsx', '/content/FR.xlsx', '/content/UK.xlsx']\n",
            "\n",
            "File names with their paths:\n",
            "/content/UK_old.xlsx\n",
            "/content/DE.xlsx\n",
            "/content/FR.xlsx\n",
            "/content/UK.xlsx\n"
          ]
        }
      ],
      "source": [
        "# check the absolute path of all excel files\n",
        "\n",
        "# we'll use \"glob\" package that works with file paths\n",
        "# glob package is usefull to return all file paths that match a specific pattern\n",
        "\n",
        "# create a list where are stored the paths of every excel file\n",
        "\n",
        "# in the working directory here stored in the variable cwd... \n",
        "# find all files that have the extension .xlsx ...\n",
        "# and then concatenate the working directory path + excel file name ...\n",
        "# we will obtain the absolute path to each excel file ...\n",
        "# and then store them all into a list called \"filespaths\"\n",
        "\n",
        "\n",
        "# create a list that from cwd, will pick up every the ABSOLUTE PATH for files with extention .xlsx\n",
        "filespaths = glob.glob(cwd + \"/*.xlsx\")  \n",
        "print(filespaths)\n",
        "print(\"\")\n",
        "\n",
        "# print out excel paths one by one\n",
        "print('File names with their paths:')\n",
        "for path in filespaths:\n",
        "    print(path)"
      ]
    },
    {
      "cell_type": "markdown",
      "metadata": {
        "id": "cVcMXwSp_dfS"
      },
      "source": [
        "# 4.&nbsp;Change working directory"
      ]
    },
    {
      "cell_type": "code",
      "execution_count": null,
      "metadata": {
        "id": "PMh-IFyIurZD",
        "colab": {
          "base_uri": "https://localhost:8080/",
          "height": 35
        },
        "outputId": "1bb26b71-c51c-4dd8-f252-309c74ee7a7a"
      },
      "outputs": [
        {
          "output_type": "execute_result",
          "data": {
            "text/plain": [
              "'/content'"
            ],
            "application/vnd.google.colaboratory.intrinsic+json": {
              "type": "string"
            }
          },
          "metadata": {},
          "execution_count": 30
        }
      ],
      "source": [
        "# our cwd for now is /content directory\n",
        "cwd"
      ]
    },
    {
      "cell_type": "code",
      "execution_count": null,
      "metadata": {
        "id": "XQ-pL1_8XKud",
        "outputId": "51b636b0-0d08-4e62-ee31-9c7f340810d8",
        "colab": {
          "base_uri": "https://localhost:8080/",
          "height": 35
        }
      },
      "outputs": [
        {
          "output_type": "execute_result",
          "data": {
            "text/plain": [
              "'/content/gdrive/MyDrive'"
            ],
            "application/vnd.google.colaboratory.intrinsic+json": {
              "type": "string"
            }
          },
          "metadata": {},
          "execution_count": 31
        }
      ],
      "source": [
        "# if you want to change the current working directory (cwd) \n",
        "\n",
        "# change cwd to folder MyDrive (that is in directory content/gdrive)\n",
        "os.chdir('gdrive/MyDrive')\n",
        "# check the new current working directory now\n",
        "cwd = os.getcwd()\n",
        "cwd"
      ]
    },
    {
      "cell_type": "code",
      "execution_count": null,
      "metadata": {
        "id": "WJW-tAbOXabC",
        "outputId": "ddd6c49c-8d61-4f1b-a4a4-e3596d896c9a",
        "colab": {
          "base_uri": "https://localhost:8080/"
        }
      },
      "outputs": [
        {
          "output_type": "execute_result",
          "data": {
            "text/plain": [
              "['Colab Notebooks',\n",
              " 'Raw_Excel_Files',\n",
              " 'UK.xlsx',\n",
              " 'FR.xlsx',\n",
              " 'DE.xlsx',\n",
              " 'UK_old.xlsx',\n",
              " 'Processed_Files',\n",
              " 'Module_2']"
            ]
          },
          "metadata": {},
          "execution_count": 32
        }
      ],
      "source": [
        "# List all files and directories in the new current directory << MyDrive >>\n",
        "os.listdir('.')"
      ]
    },
    {
      "cell_type": "markdown",
      "metadata": {
        "id": "klW5vu46w_Kj"
      },
      "source": [
        "# 5.&nbsp;Manipulate Directories"
      ]
    },
    {
      "cell_type": "markdown",
      "metadata": {
        "id": "PVVj46wU1IDj"
      },
      "source": [
        "## Create a new folder"
      ]
    },
    {
      "cell_type": "code",
      "execution_count": null,
      "metadata": {
        "id": "bFIMYI_UxCJ2",
        "outputId": "1aa0ac20-f5eb-4387-939a-f38d2d66523e",
        "colab": {
          "base_uri": "https://localhost:8080/"
        }
      },
      "outputs": [
        {
          "output_type": "stream",
          "name": "stdout",
          "text": [
            "/content/gdrive/MyDrive/Raw_Files\n"
          ]
        }
      ],
      "source": [
        "# create a new folder called \"Raw_Files\"\n",
        "\n",
        "# First: \n",
        "# write the path to the \"Raw_Files\" sub_directory\n",
        "folder = cwd + '/' + 'Raw_Files' # == > /content/gdrive/MyDrive/Raw_Files\n",
        "print(folder)"
      ]
    },
    {
      "cell_type": "code",
      "execution_count": null,
      "metadata": {
        "id": "iRBuF0-PurZF"
      },
      "outputs": [],
      "source": [
        "# Second:\n",
        "# create the folder at the indicated path\n",
        "os.makedirs(folder) # create an empty folder called << Raw_Files >>"
      ]
    },
    {
      "cell_type": "code",
      "execution_count": null,
      "metadata": {
        "id": "WYSDSulCyvEm",
        "outputId": "cb1ff1b3-2de9-4593-cc78-b0668338f682",
        "colab": {
          "base_uri": "https://localhost:8080/"
        }
      },
      "outputs": [
        {
          "output_type": "execute_result",
          "data": {
            "text/plain": [
              "['Colab Notebooks',\n",
              " 'Raw_Excel_Files',\n",
              " 'UK.xlsx',\n",
              " 'FR.xlsx',\n",
              " 'DE.xlsx',\n",
              " 'UK_old.xlsx',\n",
              " 'Processed_Files',\n",
              " 'Module_2',\n",
              " 'Raw_Files']"
            ]
          },
          "metadata": {},
          "execution_count": 35
        }
      ],
      "source": [
        "# now check the sub_directories in cwd with os.listdir()\n",
        "\n",
        "os.listdir('.')"
      ]
    },
    {
      "cell_type": "markdown",
      "metadata": {
        "id": "C1Umqr6K1P12"
      },
      "source": [
        "## Rename Folders"
      ]
    },
    {
      "cell_type": "code",
      "execution_count": null,
      "metadata": {
        "id": "MoC3H5lP_dfI",
        "outputId": "254c6998-8053-463c-b533-1f1bc9de3326",
        "colab": {
          "base_uri": "https://localhost:8080/"
        }
      },
      "outputs": [
        {
          "output_type": "execute_result",
          "data": {
            "text/plain": [
              "['Colab Notebooks',\n",
              " 'UK.xlsx',\n",
              " 'FR.xlsx',\n",
              " 'DE.xlsx',\n",
              " 'UK_old.xlsx',\n",
              " 'Processed_Files',\n",
              " 'Module_2',\n",
              " 'Raw_Excel_Files']"
            ]
          },
          "metadata": {},
          "execution_count": 36
        }
      ],
      "source": [
        "# rename folder <<Raw_Files>> in  <<Raw_Excel_Files folder>>\n",
        "\n",
        "new_name= 'Raw_Excel_Files' # variable containing the new name value\n",
        "\n",
        "os.rename(folder, new_name) # it will rename \"Raw_Files\" into 'Raw_Excel_Files'\n",
        "\n",
        "# now check the sub_directories in cwd with os.listdir()\n",
        "\n",
        "os.listdir('.')"
      ]
    },
    {
      "cell_type": "markdown",
      "metadata": {
        "id": "DAPHBheo1VPS"
      },
      "source": [
        "## Nested Folders"
      ]
    },
    {
      "cell_type": "code",
      "execution_count": null,
      "metadata": {
        "id": "_Oq-PpDbxE-t",
        "outputId": "4690f846-18c6-4fca-b904-ea08ddd65905",
        "colab": {
          "base_uri": "https://localhost:8080/",
          "height": 35
        }
      },
      "outputs": [
        {
          "output_type": "execute_result",
          "data": {
            "text/plain": [
              "'/content/gdrive/MyDrive/New_Folder/Inner_folder'"
            ],
            "application/vnd.google.colaboratory.intrinsic+json": {
              "type": "string"
            }
          },
          "metadata": {},
          "execution_count": 37
        }
      ],
      "source": [
        "# Create a nested folder (folder in the folder)\n",
        "\n",
        "other = cwd + '/' + 'New_Folder' + '/' +'Inner_folder' \n",
        "os.makedirs(other)\n",
        "other # the folder \"New_Folder\" will contain another empty folder \"Inner Folder\""
      ]
    },
    {
      "cell_type": "code",
      "execution_count": null,
      "metadata": {
        "id": "08SG9wSL1eIW",
        "outputId": "f5005126-82df-4d3d-bea9-faad5a996749",
        "colab": {
          "base_uri": "https://localhost:8080/"
        }
      },
      "outputs": [
        {
          "output_type": "execute_result",
          "data": {
            "text/plain": [
              "['Colab Notebooks',\n",
              " 'UK.xlsx',\n",
              " 'FR.xlsx',\n",
              " 'DE.xlsx',\n",
              " 'UK_old.xlsx',\n",
              " 'Processed_Files',\n",
              " 'Module_2',\n",
              " 'Raw_Excel_Files',\n",
              " 'New_Folder']"
            ]
          },
          "metadata": {},
          "execution_count": 38
        }
      ],
      "source": [
        "# now check the sub_directories in cwd with os.listdir()\n",
        "\n",
        "os.listdir('.')"
      ]
    },
    {
      "cell_type": "markdown",
      "metadata": {
        "id": "pt37qb5y_dfL"
      },
      "source": [
        "## Navigate in tree hierarchy"
      ]
    },
    {
      "cell_type": "code",
      "source": [
        "cwd"
      ],
      "metadata": {
        "colab": {
          "base_uri": "https://localhost:8080/",
          "height": 35
        },
        "id": "mhJmepfC8NrN",
        "outputId": "f6687f8a-1ba5-4ad4-a933-ede859515ff0"
      },
      "execution_count": null,
      "outputs": [
        {
          "output_type": "execute_result",
          "data": {
            "text/plain": [
              "'/content/gdrive/MyDrive'"
            ],
            "application/vnd.google.colaboratory.intrinsic+json": {
              "type": "string"
            }
          },
          "metadata": {},
          "execution_count": 33
        }
      ]
    },
    {
      "cell_type": "code",
      "execution_count": null,
      "metadata": {
        "id": "tPrUfZ8d_dfM",
        "outputId": "d43103c2-4fa7-4ff7-9971-17c2af55e6e6",
        "colab": {
          "base_uri": "https://localhost:8080/"
        }
      },
      "outputs": [
        {
          "output_type": "execute_result",
          "data": {
            "text/plain": [
              "['Colab Notebooks',\n",
              " 'UK.xlsx',\n",
              " 'FR.xlsx',\n",
              " 'DE.xlsx',\n",
              " 'UK_old.xlsx',\n",
              " 'Processed_Files',\n",
              " 'Module_2',\n",
              " 'Raw_Excel_Files',\n",
              " 'New_Folder']"
            ]
          },
          "metadata": {},
          "execution_count": 39
        }
      ],
      "source": [
        "# list all files in the current directoy \"MyDrive\"\n",
        "\n",
        "os.listdir('.')"
      ]
    },
    {
      "cell_type": "code",
      "execution_count": null,
      "metadata": {
        "id": "kw2WlP2e_dfN",
        "outputId": "e17a3110-1721-46e1-909e-e9f895ffe654",
        "colab": {
          "base_uri": "https://localhost:8080/"
        }
      },
      "outputs": [
        {
          "output_type": "stream",
          "name": "stdout",
          "text": [
            "['Inner_folder']\n"
          ]
        }
      ],
      "source": [
        "# list files inside a specific folder (get children)\n",
        "\n",
        "print (os.listdir('New_Folder'))\n"
      ]
    },
    {
      "cell_type": "code",
      "execution_count": null,
      "metadata": {
        "id": "pImwa3TA_dfN",
        "outputId": "10b7d4e9-4024-427c-d7f3-7ccf8467cd0d",
        "colab": {
          "base_uri": "https://localhost:8080/"
        }
      },
      "outputs": [
        {
          "output_type": "stream",
          "name": "stdout",
          "text": [
            "New_Folder\n"
          ]
        }
      ],
      "source": [
        "# get parent of a scpecific folder (go back with 1 level)\n",
        "\n",
        "# save relative path to Inner_Folder\n",
        "new_folder = 'New_Folder/Inner_Folder' \n",
        "\n",
        "# prit parent of Inner_Folder\n",
        "print(Path(new_folder).parents[0])\n"
      ]
    },
    {
      "cell_type": "code",
      "execution_count": null,
      "metadata": {
        "id": "yHEx2ok__dfO",
        "outputId": "3d22f0aa-87f0-4fd4-a288-7364c45cca0f",
        "colab": {
          "base_uri": "https://localhost:8080/"
        }
      },
      "outputs": [
        {
          "output_type": "stream",
          "name": "stdout",
          "text": [
            ".\n"
          ]
        }
      ],
      "source": [
        "# get grand parent of a scpecific folder (go up with 2 levels)\n",
        "\n",
        "print(Path(new_folder).parents[1])"
      ]
    },
    {
      "cell_type": "code",
      "execution_count": null,
      "metadata": {
        "id": "sd5ghfUK_dfM",
        "outputId": "b8b57ea4-ec97-448a-c995-599466c08a76",
        "colab": {
          "base_uri": "https://localhost:8080/"
        }
      },
      "outputs": [
        {
          "output_type": "execute_result",
          "data": {
            "text/plain": [
              "['MyDrive', '.shortcut-targets-by-id', '.file-revisions-by-id', '.Trash-0']"
            ]
          },
          "metadata": {},
          "execution_count": 45
        }
      ],
      "source": [
        "# move up in the hierarchy to list the files from the upper level \n",
        "\n",
        "os.listdir('..')"
      ]
    },
    {
      "cell_type": "markdown",
      "metadata": {
        "id": "bgTrGUaYFzMk"
      },
      "source": [
        "## Paths to the folders"
      ]
    },
    {
      "cell_type": "code",
      "execution_count": null,
      "metadata": {
        "id": "PYkdqlQOurZJ",
        "outputId": "0d160b0c-05d3-499b-f506-aa6c22589b3e",
        "colab": {
          "base_uri": "https://localhost:8080/",
          "height": 35
        }
      },
      "outputs": [
        {
          "output_type": "execute_result",
          "data": {
            "text/plain": [
              "'/content/gdrive/MyDrive'"
            ],
            "application/vnd.google.colaboratory.intrinsic+json": {
              "type": "string"
            }
          },
          "metadata": {},
          "execution_count": 46
        }
      ],
      "source": [
        "# our current working directory now is\n",
        "cwd"
      ]
    },
    {
      "cell_type": "code",
      "execution_count": null,
      "metadata": {
        "id": "P8uJTXfcCFI4",
        "outputId": "e93cae5c-d5c1-43ae-edd3-11f9d2ad2d52",
        "colab": {
          "base_uri": "https://localhost:8080/"
        }
      },
      "outputs": [
        {
          "output_type": "stream",
          "name": "stdout",
          "text": [
            "Absolute path of file:       /content/gdrive/MyDrive/Raw_Excel_Files\n",
            "Abs. path of the file dir.:  /content/gdrive/MyDrive\n",
            "Relative path of file:       Raw_Excel_Files\n"
          ]
        }
      ],
      "source": [
        "# Find Paths\n",
        "\n",
        "# Absolute path ==> the whole path with the file name included\n",
        "print('Absolute path of file:      ',  os.path.abspath('Raw_Excel_Files'))\n",
        "\n",
        "# Absolute directoryname ==> upper directories (parents)\n",
        "print('Abs. path of the file dir.: ',  os.path.dirname(os.path.abspath('Raw_Excel_Files')))\n",
        "\n",
        "# relative path ==> only the final file name\n",
        "print('Relative path of file:      ', os.path.relpath('Raw_Excel_Files') )"
      ]
    },
    {
      "cell_type": "markdown",
      "metadata": {
        "id": "Jgviz2daz65q"
      },
      "source": [
        "# 6.&nbsp;Copy File\n"
      ]
    },
    {
      "cell_type": "code",
      "execution_count": null,
      "metadata": {
        "id": "IMcy5Fj_5qXR",
        "outputId": "462210de-08f5-41c1-9553-89e049e4c8c9",
        "colab": {
          "base_uri": "https://localhost:8080/"
        }
      },
      "outputs": [
        {
          "output_type": "execute_result",
          "data": {
            "text/plain": [
              "['Colab Notebooks',\n",
              " 'UK.xlsx',\n",
              " 'FR.xlsx',\n",
              " 'DE.xlsx',\n",
              " 'UK_old.xlsx',\n",
              " 'Processed_Files',\n",
              " 'Module_2',\n",
              " 'Raw_Excel_Files',\n",
              " 'New_Folder']"
            ]
          },
          "metadata": {},
          "execution_count": 48
        }
      ],
      "source": [
        "# reminder of containing in cwd: MyDrive\n",
        "\n",
        "os.listdir('.')"
      ]
    },
    {
      "cell_type": "markdown",
      "metadata": {
        "id": "r0RDXm1dKgH2"
      },
      "source": [
        "## Copy a single file"
      ]
    },
    {
      "cell_type": "code",
      "source": [
        "# reminder of the containing of /content directory\n",
        "# the imported excel files are in this directory \n",
        "\n",
        "os.listdir('/content')"
      ],
      "metadata": {
        "colab": {
          "base_uri": "https://localhost:8080/"
        },
        "id": "qkd07KoyFDdB",
        "outputId": "9d0cc5ea-8f02-47ad-a9a7-56017f2f34e6"
      },
      "execution_count": null,
      "outputs": [
        {
          "output_type": "execute_result",
          "data": {
            "text/plain": [
              "['.config',\n",
              " 'UK_old.xlsx',\n",
              " 'gdrive',\n",
              " 'DE.xlsx',\n",
              " 'FR.xlsx',\n",
              " 'UK.xlsx',\n",
              " 'sample_data']"
            ]
          },
          "metadata": {},
          "execution_count": 49
        }
      ]
    },
    {
      "cell_type": "code",
      "source": [
        "# the absolute path to those excels:\n",
        "\n",
        "# ['/content/DE.xlsx', '/content/UK.xlsx', '/content/FR.xlsx', '/content/UK_old.xlsx']\n",
        "\n",
        "# DE.xlsx\n",
        "print(os.path.abspath('/content/DE.xlsx'))\n",
        "\n",
        "# UK.xlsx\n",
        "print(os.path.abspath('/content/UK.xlsx'))\n",
        "\n",
        "# FR.xlsx\n",
        "print(os.path.abspath('/content/FR.xlsx'))\n",
        "\n",
        "# UK_old.xlsx\n",
        "print(os.path.abspath('/content/UK_old.xlsx'))"
      ],
      "metadata": {
        "colab": {
          "base_uri": "https://localhost:8080/"
        },
        "id": "TRX0m8uYE9nk",
        "outputId": "2ed7596a-7ca0-443f-95e4-e11e50e914c5"
      },
      "execution_count": null,
      "outputs": [
        {
          "output_type": "stream",
          "name": "stdout",
          "text": [
            "/content/DE.xlsx\n",
            "/content/UK.xlsx\n",
            "/content/FR.xlsx\n",
            "/content/UK_old.xlsx\n"
          ]
        }
      ]
    },
    {
      "cell_type": "code",
      "execution_count": null,
      "metadata": {
        "id": "jIlgijfL_dfO"
      },
      "outputs": [],
      "source": [
        "# copy one file in another folder\n",
        "\n",
        "# we want to copy UK.xlsx file from content dir  in 'Raw_Excel_Files' folder\n",
        "\n",
        "# destination WHERE we want to copy \n",
        "dest = 'Raw_Excel_Files'\n",
        "\n",
        "# source file : WHAT we want to copy\n",
        "src=  '/content/UK.xlsx' # source ==> the path to the file that we want to copy (we use absoute path as UK.xlsx is outside cwd)"
      ]
    },
    {
      "cell_type": "code",
      "execution_count": null,
      "metadata": {
        "id": "bWw3YvhHxguf",
        "outputId": "5a39be7d-d4b4-4674-f642-0ba65f4136b3",
        "colab": {
          "base_uri": "https://localhost:8080/",
          "height": 35
        }
      },
      "outputs": [
        {
          "output_type": "execute_result",
          "data": {
            "text/plain": [
              "'Raw_Excel_Files/UK.xlsx'"
            ],
            "application/vnd.google.colaboratory.intrinsic+json": {
              "type": "string"
            }
          },
          "metadata": {},
          "execution_count": 52
        }
      ],
      "source": [
        "# work with shutil package\n",
        "''' Shutil module offers high-level operation on a file like a copy, create, move\n",
        "and remote operation on the file '''\n",
        "\n",
        "#  copy the file from the source <<src>> in the folder we want << dest >>\n",
        "shutil.copy(src, # what file we want to copy, more specifically its path\n",
        "            dest) # path to the folder we want to paste the copied file"
      ]
    },
    {
      "cell_type": "code",
      "execution_count": null,
      "metadata": {
        "id": "wQKytxOX1SSm",
        "outputId": "0e148d13-71c4-4050-c348-4c279b9a09ff",
        "colab": {
          "base_uri": "https://localhost:8080/",
          "height": 35
        }
      },
      "outputs": [
        {
          "output_type": "execute_result",
          "data": {
            "text/plain": [
              "'Raw_Excel_Files/FR.xlsx'"
            ],
            "application/vnd.google.colaboratory.intrinsic+json": {
              "type": "string"
            }
          },
          "metadata": {},
          "execution_count": 53
        }
      ],
      "source": [
        "# file that we want to copy : FR.xlsx\n",
        "src='/content/FR.xlsx'\n",
        "\n",
        "# copy the file in the folder we want\n",
        "shutil.copy(src, dest)"
      ]
    },
    {
      "cell_type": "code",
      "execution_count": null,
      "metadata": {
        "id": "ry059DRi_dfR",
        "outputId": "a0598927-fe36-4a34-9511-95297ca6ac6a",
        "colab": {
          "base_uri": "https://localhost:8080/",
          "height": 35
        }
      },
      "outputs": [
        {
          "output_type": "execute_result",
          "data": {
            "text/plain": [
              "'Raw_Excel_Files/DE.xlsx'"
            ],
            "application/vnd.google.colaboratory.intrinsic+json": {
              "type": "string"
            }
          },
          "metadata": {},
          "execution_count": 54
        }
      ],
      "source": [
        "# file that we want to copy : DE.xlsx\n",
        "src='/content/DE.xlsx'\n",
        "\n",
        "# copy the file in the folder we want\n",
        "shutil.copy(src, dest)"
      ]
    },
    {
      "cell_type": "code",
      "source": [
        "# file that we want to copy : DE.xlsx\n",
        "src='/content/UK_old.xlsx'\n",
        "\n",
        "# copy the file in the folder we want\n",
        "shutil.copy(src, dest)"
      ],
      "metadata": {
        "colab": {
          "base_uri": "https://localhost:8080/",
          "height": 35
        },
        "id": "tesMSSSqL8RV",
        "outputId": "71f330d9-708c-4d05-c919-a1169f8810e5"
      },
      "execution_count": null,
      "outputs": [
        {
          "output_type": "execute_result",
          "data": {
            "text/plain": [
              "'Raw_Excel_Files/UK_old.xlsx'"
            ],
            "application/vnd.google.colaboratory.intrinsic+json": {
              "type": "string"
            }
          },
          "metadata": {},
          "execution_count": 55
        }
      ]
    },
    {
      "cell_type": "code",
      "execution_count": null,
      "metadata": {
        "id": "-WJNe2zk-aAS",
        "outputId": "84ff5542-a44c-4b3c-cddf-100e4bc9a46c",
        "colab": {
          "base_uri": "https://localhost:8080/"
        }
      },
      "outputs": [
        {
          "output_type": "execute_result",
          "data": {
            "text/plain": [
              "['UK.xlsx', 'FR.xlsx', 'DE.xlsx', 'UK_old.xlsx']"
            ]
          },
          "metadata": {},
          "execution_count": 56
        }
      ],
      "source": [
        "# and now look at the containing of Raw_Excel_Files'\n",
        "\n",
        "os.listdir('Raw_Excel_Files')"
      ]
    },
    {
      "cell_type": "markdown",
      "metadata": {
        "id": "30Bfuo5yKlhn"
      },
      "source": [
        "## Copy multiple files at once"
      ]
    },
    {
      "cell_type": "code",
      "execution_count": null,
      "metadata": {
        "id": "LiRv6xydD8wf",
        "outputId": "254e5b56-c81d-4cd1-de55-af8224bbb3cb",
        "colab": {
          "base_uri": "https://localhost:8080/"
        }
      },
      "outputs": [
        {
          "output_type": "execute_result",
          "data": {
            "text/plain": [
              "['/content/gdrive/MyDrive/Raw_Excel_Files/UK.xlsx',\n",
              " '/content/gdrive/MyDrive/Raw_Excel_Files/FR.xlsx',\n",
              " '/content/gdrive/MyDrive/Raw_Excel_Files/DE.xlsx',\n",
              " '/content/gdrive/MyDrive/Raw_Excel_Files/UK_old.xlsx']"
            ]
          },
          "metadata": {},
          "execution_count": 57
        }
      ],
      "source": [
        "# find all absolute paths to our xlsx files in 'Raw_Excel_Files' with glob\n",
        "\n",
        "path = 'Raw_Excel_Files'\n",
        "\n",
        "# create a list filespaths that ..\n",
        "# ... will contain the paths to all files with extension .xlsx\n",
        "filespaths = glob.glob(os.path.abspath(path) + \"/*.xlsx\")\n",
        "filespaths"
      ]
    },
    {
      "cell_type": "code",
      "execution_count": null,
      "metadata": {
        "id": "uLyk4wtMurZM",
        "outputId": "6f493169-bbfd-491a-d2c4-24c52ff1cd75",
        "colab": {
          "base_uri": "https://localhost:8080/",
          "height": 35
        }
      },
      "outputs": [
        {
          "output_type": "execute_result",
          "data": {
            "text/plain": [
              "'/content/gdrive/MyDrive'"
            ],
            "application/vnd.google.colaboratory.intrinsic+json": {
              "type": "string"
            }
          },
          "metadata": {},
          "execution_count": 58
        }
      ],
      "source": [
        "cwd"
      ]
    },
    {
      "cell_type": "code",
      "execution_count": null,
      "metadata": {
        "id": "bdsQE7Fh_dfR",
        "outputId": "358315bd-a6d2-478f-d0d5-34db033882a0",
        "colab": {
          "base_uri": "https://localhost:8080/"
        }
      },
      "outputs": [
        {
          "output_type": "stream",
          "name": "stdout",
          "text": [
            "['/content/gdrive/MyDrive/Raw_Excel_Files/UK.xlsx', '/content/gdrive/MyDrive/Raw_Excel_Files/FR.xlsx', '/content/gdrive/MyDrive/Raw_Excel_Files/DE.xlsx', '/content/gdrive/MyDrive/Raw_Excel_Files/UK_old.xlsx']\n",
            "/content/gdrive/MyDrive\n",
            "/content/gdrive/MyDrive/Raw_Excel_Files/UK.xlsx\n",
            "/content/gdrive/MyDrive/Raw_Excel_Files/FR.xlsx\n",
            "/content/gdrive/MyDrive/Raw_Excel_Files/DE.xlsx\n",
            "/content/gdrive/MyDrive/Raw_Excel_Files/UK_old.xlsx\n"
          ]
        }
      ],
      "source": [
        "# copy the multiple files in the folder we want\n",
        "\n",
        "dest = cwd # we want to copy our file in cwd MyDrive\n",
        "\n",
        "# we want to copy all excel files in Raw_Excel_Files in dest\n",
        "print(filespaths)\n",
        "print(dest)\n",
        "\n",
        "for file in filespaths:\n",
        "    print(file)\n",
        "    shutil.copy(file, dest)"
      ]
    },
    {
      "cell_type": "code",
      "execution_count": null,
      "metadata": {
        "id": "qCs2wZZFE9RZ",
        "outputId": "d82855d1-d9d6-46ac-d39b-be5003535598",
        "colab": {
          "base_uri": "https://localhost:8080/"
        }
      },
      "outputs": [
        {
          "output_type": "execute_result",
          "data": {
            "text/plain": [
              "['Colab Notebooks',\n",
              " 'UK.xlsx',\n",
              " 'FR.xlsx',\n",
              " 'DE.xlsx',\n",
              " 'UK_old.xlsx',\n",
              " 'Processed_Files',\n",
              " 'Module_2',\n",
              " 'Raw_Excel_Files',\n",
              " 'New_Folder']"
            ]
          },
          "metadata": {},
          "execution_count": 60
        }
      ],
      "source": [
        "# check the cwd containing again to notify the presense of excel files\n",
        "os.listdir('.')\n"
      ]
    },
    {
      "cell_type": "markdown",
      "metadata": {
        "id": "ot-XcKgS0vli"
      },
      "source": [
        "# 7.&nbsp;Move File"
      ]
    },
    {
      "cell_type": "code",
      "execution_count": null,
      "metadata": {
        "id": "MC1Fq8YA_dfT",
        "outputId": "960201be-b0c8-43c8-c78c-e3d70b9cb599",
        "colab": {
          "base_uri": "https://localhost:8080/"
        }
      },
      "outputs": [
        {
          "output_type": "stream",
          "name": "stdout",
          "text": [
            "/content/gdrive/MyDrive/Old_Files\n"
          ]
        },
        {
          "output_type": "execute_result",
          "data": {
            "text/plain": [
              "['Colab Notebooks',\n",
              " 'UK.xlsx',\n",
              " 'FR.xlsx',\n",
              " 'DE.xlsx',\n",
              " 'UK_old.xlsx',\n",
              " 'Processed_Files',\n",
              " 'Module_2',\n",
              " 'Raw_Excel_Files',\n",
              " 'New_Folder',\n",
              " 'Old_Files']"
            ]
          },
          "metadata": {},
          "execution_count": 61
        }
      ],
      "source": [
        "# create a folder << Old_Files >> where we would like to move files \n",
        "\n",
        "# First: write the path to folder\n",
        "folder_1 = cwd + '/' + 'Old_Files'\n",
        "print(folder_1)\n",
        "\n",
        "# Second: create the folder at the indicated path\n",
        "os.makedirs(folder_1)\n",
        "\n",
        "# check cwd\n",
        "os.listdir('.')"
      ]
    },
    {
      "cell_type": "code",
      "execution_count": null,
      "metadata": {
        "id": "aRJI5bND0ySA",
        "outputId": "1b863216-13d9-4c4b-a3bb-38e6811ded62",
        "colab": {
          "base_uri": "https://localhost:8080/",
          "height": 35
        }
      },
      "outputs": [
        {
          "output_type": "execute_result",
          "data": {
            "text/plain": [
              "'/content/gdrive/MyDrive/Old_Files/UK_old.xlsx'"
            ],
            "application/vnd.google.colaboratory.intrinsic+json": {
              "type": "string"
            }
          },
          "metadata": {},
          "execution_count": 62
        }
      ],
      "source": [
        "# folder_to_move (it would be like cut/paste\n",
        "\n",
        "file_to_move = '/content/UK_old.xlsx' # from directory content\n",
        "\n",
        "\n",
        "shutil.move(file_to_move, # file/folder to cut\n",
        "           folder_1) # folder where to move = '/content/gdrive/MyDrive/Old_Files/UK_old.xlsx'         "
      ]
    },
    {
      "cell_type": "code",
      "execution_count": null,
      "metadata": {
        "id": "ttTigdwturZO",
        "outputId": "796f13ff-5791-454e-c364-07ec2ac9a94a",
        "colab": {
          "base_uri": "https://localhost:8080/"
        }
      },
      "outputs": [
        {
          "output_type": "stream",
          "name": "stdout",
          "text": [
            "MyDrive:  ['Colab Notebooks', 'UK.xlsx', 'FR.xlsx', 'DE.xlsx', 'UK_old.xlsx', 'Processed_Files', 'Module_2', 'Raw_Excel_Files', 'New_Folder', 'Old_Files']\n",
            "\n",
            "Old_Files:  ['UK_old.xlsx']\n"
          ]
        }
      ],
      "source": [
        "# check directory content\n",
        "print('MyDrive: ', os.listdir('.'))  # now UK_old.xlsx has disapeared for content\n",
        "\n",
        "print('')\n",
        "# check directory Module_2/Old_Files\n",
        "print('Old_Files: ', os.listdir('Old_Files'))  # now UK_old.xlsx has disapeared for content"
      ]
    },
    {
      "cell_type": "markdown",
      "metadata": {
        "id": "mXx48d0W2427"
      },
      "source": [
        "# 5.&nbsp;Delete Files"
      ]
    },
    {
      "cell_type": "code",
      "execution_count": null,
      "metadata": {
        "id": "RYdN0l___dfU",
        "outputId": "f87db60d-f906-43c2-af7c-3cb387ebe702",
        "colab": {
          "base_uri": "https://localhost:8080/",
          "height": 35
        }
      },
      "outputs": [
        {
          "output_type": "execute_result",
          "data": {
            "text/plain": [
              "'/content/gdrive/MyDrive'"
            ],
            "application/vnd.google.colaboratory.intrinsic+json": {
              "type": "string"
            }
          },
          "metadata": {},
          "execution_count": 67
        }
      ],
      "source": [
        "# reminder of cwd\n",
        "cwd"
      ]
    },
    {
      "cell_type": "code",
      "execution_count": null,
      "metadata": {
        "id": "etZpw10PN-tG",
        "outputId": "e5c8132f-59c4-4434-972d-fc0eda7a55b3",
        "colab": {
          "base_uri": "https://localhost:8080/"
        }
      },
      "outputs": [
        {
          "output_type": "execute_result",
          "data": {
            "text/plain": [
              "['UK_old.xlsx']"
            ]
          },
          "metadata": {},
          "execution_count": 68
        }
      ],
      "source": [
        "# check Old_Files containing\n",
        "\n",
        "os.listdir('Old_Files')"
      ]
    },
    {
      "cell_type": "markdown",
      "metadata": {
        "id": "6GbgsaVwPd8U"
      },
      "source": [
        "## Delete file"
      ]
    },
    {
      "cell_type": "code",
      "execution_count": null,
      "metadata": {
        "id": "rOYRvWSr2a0q",
        "outputId": "1eeca1b2-bd8e-42bc-b1c4-46a19914443e",
        "colab": {
          "base_uri": "https://localhost:8080/"
        }
      },
      "outputs": [
        {
          "output_type": "execute_result",
          "data": {
            "text/plain": [
              "[]"
            ]
          },
          "metadata": {},
          "execution_count": 69
        }
      ],
      "source": [
        "# delete a file UK_old.xlsx from Old_Files with os.unlink\n",
        "\n",
        "os.unlink('Old_Files/UK_old.xlsx') # relative path as UK_old in the working directory\n",
        "\n",
        "# check again Old_Files containing\n",
        "os.listdir('Old_Files')"
      ]
    },
    {
      "cell_type": "code",
      "execution_count": null,
      "metadata": {
        "id": "wm39NbJfOmXB",
        "outputId": "e0b74d7b-5845-4eab-a954-30593ac546d4",
        "colab": {
          "base_uri": "https://localhost:8080/"
        }
      },
      "outputs": [
        {
          "output_type": "execute_result",
          "data": {
            "text/plain": [
              "['Colab Notebooks',\n",
              " 'UK.xlsx',\n",
              " 'FR.xlsx',\n",
              " 'DE.xlsx',\n",
              " 'UK_old.xlsx',\n",
              " 'Processed_Files',\n",
              " 'Module_2',\n",
              " 'Raw_Excel_Files',\n",
              " 'New_Folder',\n",
              " 'Old_Files']"
            ]
          },
          "metadata": {},
          "execution_count": 70
        }
      ],
      "source": [
        "# check cwd\n",
        "os.listdir('.')"
      ]
    },
    {
      "cell_type": "markdown",
      "metadata": {
        "id": "x-R9sj0KPijH"
      },
      "source": [
        "## Delete folder"
      ]
    },
    {
      "cell_type": "markdown",
      "metadata": {
        "id": "Xjcn3nbyOy8t"
      },
      "source": [
        "There is a diference when deleting EMPTY and NOT empty folders:\n",
        "\n",
        "\n",
        "\n",
        "1.   For ***EMPTY** use .rmdir function *from package os*\n",
        "2.   For ***NOT EMPTY** use .rmtree function *from package shutil*"
      ]
    },
    {
      "cell_type": "markdown",
      "metadata": {
        "id": "LhodrGvWPoQg"
      },
      "source": [
        "**EMPTY folder**"
      ]
    },
    {
      "cell_type": "code",
      "execution_count": null,
      "metadata": {
        "id": "DxLnN3ya3KWN"
      },
      "outputs": [],
      "source": [
        "# delete empty folder 'Old_Files' from cwd with os.rmdir\n",
        "\n",
        "folder_to_remove= 'Old_Files'\n",
        "os.rmdir(folder_to_remove)"
      ]
    },
    {
      "cell_type": "code",
      "source": [
        "os.listdir('.')"
      ],
      "metadata": {
        "colab": {
          "base_uri": "https://localhost:8080/"
        },
        "id": "XMamTyXIhZKS",
        "outputId": "62ab9210-cc79-4859-9d06-e17a55f9cbd5"
      },
      "execution_count": null,
      "outputs": [
        {
          "output_type": "execute_result",
          "data": {
            "text/plain": [
              "['Colab Notebooks',\n",
              " 'UK.xlsx',\n",
              " 'FR.xlsx',\n",
              " 'DE.xlsx',\n",
              " 'UK_old.xlsx',\n",
              " 'Processed_Files',\n",
              " 'Module_2',\n",
              " 'Raw_Excel_Files',\n",
              " 'New_Folder']"
            ]
          },
          "metadata": {},
          "execution_count": 73
        }
      ]
    },
    {
      "cell_type": "markdown",
      "metadata": {
        "id": "xMzy2OziPth0"
      },
      "source": [
        "*** NOT EMPTY folder**"
      ]
    },
    {
      "cell_type": "code",
      "execution_count": null,
      "metadata": {
        "id": "HJXGMKc8QKsS",
        "outputId": "a96f816d-0d9d-4b7f-d65b-5136c56e1593",
        "colab": {
          "base_uri": "https://localhost:8080/"
        }
      },
      "outputs": [
        {
          "output_type": "stream",
          "name": "stdout",
          "text": [
            "['Inner_folder']\n"
          ]
        }
      ],
      "source": [
        "# list files inside a specific folder (get children)\n",
        "\n",
        "print (os.listdir('New_Folder'))"
      ]
    },
    {
      "cell_type": "code",
      "execution_count": null,
      "metadata": {
        "id": "uVBmXk4gQXGC",
        "outputId": "43daf518-3030-417d-dd2a-5c0ff7a5db23",
        "colab": {
          "base_uri": "https://localhost:8080/"
        }
      },
      "outputs": [
        {
          "output_type": "stream",
          "name": "stdout",
          "text": [
            "New_Folder\n"
          ]
        }
      ],
      "source": [
        "# save path to New_FOlder\n",
        "inner_folder = 'New_Folder/Inner_folder'\n",
        "\n",
        "# prit parent of Inner_Folder\n",
        "print(Path(inner_folder).parents[0])"
      ]
    },
    {
      "cell_type": "code",
      "execution_count": null,
      "metadata": {
        "id": "eV1B39qb3iCB",
        "outputId": "9d2fd369-6c6e-4900-9c72-9228db9d24e3",
        "colab": {
          "base_uri": "https://localhost:8080/"
        }
      },
      "outputs": [
        {
          "output_type": "execute_result",
          "data": {
            "text/plain": [
              "['Colab Notebooks',\n",
              " 'UK.xlsx',\n",
              " 'FR.xlsx',\n",
              " 'DE.xlsx',\n",
              " 'UK_old.xlsx',\n",
              " 'Processed_Files',\n",
              " 'Module_2',\n",
              " 'Raw_Excel_Files']"
            ]
          },
          "metadata": {},
          "execution_count": 76
        }
      ],
      "source": [
        "# delete NOT empty folder\n",
        "\n",
        "# New_Folder contains another file 'Inner_folder'\n",
        "\n",
        "shutil.rmtree('New_Folder') \n",
        "\n",
        "# check again cwd containing to certify that folder has disapeared\n",
        "\n",
        "os.listdir('.')"
      ]
    },
    {
      "cell_type": "markdown",
      "metadata": {
        "id": "0fgLzMm584mg"
      },
      "source": [
        "# 6.&nbsp;Work with Excel Files\n"
      ]
    },
    {
      "cell_type": "code",
      "execution_count": null,
      "metadata": {
        "id": "Eml73ZwN9Z-V"
      },
      "outputs": [],
      "source": [
        "# Create a folder 'Processed_Files' in the cwd where we'll store all processed files \n",
        "\n",
        "des = cwd + '/' + 'Processed_Files'\n",
        "os.makedirs(des)"
      ]
    },
    {
      "cell_type": "markdown",
      "metadata": {
        "id": "7EImbUAb-oBT"
      },
      "source": [
        "\n",
        "\n",
        "1.  First read each excel files and put them into pandas dataframe\n",
        "2.  Consolidate all excel files into a single excel with separate sheet by country\n",
        "3.  Consolidate all excels into a single excel sheet\n",
        "\n"
      ]
    },
    {
      "cell_type": "markdown",
      "metadata": {
        "id": "Z1bvAVLN_dfX"
      },
      "source": [
        "## Read excels"
      ]
    },
    {
      "cell_type": "code",
      "execution_count": null,
      "metadata": {
        "id": "5Vlm5_yr89UT"
      },
      "outputs": [],
      "source": [
        "# if the excel file has too many rows, when visualising the data, not all columns are displayed\n",
        "# to overcome this we use .set_option method\n",
        "\n",
        "# set visible all columns\n",
        "pd.set_option('display.max_columns', None)"
      ]
    },
    {
      "cell_type": "code",
      "source": [
        "os.listdir('Raw_Excel_Files')"
      ],
      "metadata": {
        "colab": {
          "base_uri": "https://localhost:8080/"
        },
        "id": "wIF5VSTHiHPT",
        "outputId": "9882923c-3f29-4000-8cc0-2c1053a1040a"
      },
      "execution_count": null,
      "outputs": [
        {
          "output_type": "execute_result",
          "data": {
            "text/plain": [
              "['UK.xlsx', 'FR.xlsx', 'DE.xlsx', 'UK_old.xlsx']"
            ]
          },
          "metadata": {},
          "execution_count": 80
        }
      ]
    },
    {
      "cell_type": "code",
      "execution_count": null,
      "metadata": {
        "id": "7qNp7_9l9ORl",
        "colab": {
          "base_uri": "https://localhost:8080/",
          "height": 496
        },
        "outputId": "8491284b-7f69-41ca-b711-e348888ed0ef"
      },
      "outputs": [
        {
          "output_type": "stream",
          "name": "stdout",
          "text": [
            "Dataframe Shape:  (673, 14)\n",
            "Index(['Date', 'Name', 'Mannschaft', 'Rohe Präsenz (min)', 'Pause (Minuten)',\n",
            "       'Nettopräsenz (Min.)', 'Behandlung (min)', 'DMT', 'Productiviy',\n",
            "       'Processed tickets', 'Closed Tickets', 'FTE (processed)',\n",
            "       'FTE (presence)', 'FTE weighted'],\n",
            "      dtype='object')\n"
          ]
        },
        {
          "output_type": "execute_result",
          "data": {
            "text/plain": [
              "        Date        Name Mannschaft  Rohe Präsenz (min)  Pause (Minuten)  \\\n",
              "0 2022-04-12  Employee_1     TEAM_1                 102                0   \n",
              "1 2022-04-13  Employee_1     TEAM_1                 299                0   \n",
              "2 2022-04-19  Employee_1     TEAM_1                 478                0   \n",
              "3 2022-04-20  Employee_1     TEAM_1                 427                0   \n",
              "4 2022-04-21  Employee_1     TEAM_1                 482                0   \n",
              "\n",
              "   Nettopräsenz (Min.)  Behandlung (min)       DMT  Productiviy  \\\n",
              "0                  102                 4  00:02:08          0.6   \n",
              "1                  299               168  00:42:00          0.4   \n",
              "2                  478               275  00:16:12          2.0   \n",
              "3                  427               142  00:12:56          1.4   \n",
              "4                  482               129  00:16:12          1.0   \n",
              "\n",
              "   Processed tickets  Closed Tickets  FTE (processed)  FTE (presence)  \\\n",
              "0                  2               1             0.00            0.25   \n",
              "1                  4               2             0.50            0.75   \n",
              "2                 17              16             0.75            1.00   \n",
              "3                 11              10             0.50            1.00   \n",
              "4                  8               8             0.50            1.00   \n",
              "\n",
              "   FTE weighted  \n",
              "0          0.00  \n",
              "1          0.50  \n",
              "2          0.75  \n",
              "3          0.50  \n",
              "4          0.50  "
            ],
            "text/html": [
              "\n",
              "  <div id=\"df-a4381b8f-0b96-4a82-ac2e-19869e669c2a\">\n",
              "    <div class=\"colab-df-container\">\n",
              "      <div>\n",
              "<style scoped>\n",
              "    .dataframe tbody tr th:only-of-type {\n",
              "        vertical-align: middle;\n",
              "    }\n",
              "\n",
              "    .dataframe tbody tr th {\n",
              "        vertical-align: top;\n",
              "    }\n",
              "\n",
              "    .dataframe thead th {\n",
              "        text-align: right;\n",
              "    }\n",
              "</style>\n",
              "<table border=\"1\" class=\"dataframe\">\n",
              "  <thead>\n",
              "    <tr style=\"text-align: right;\">\n",
              "      <th></th>\n",
              "      <th>Date</th>\n",
              "      <th>Name</th>\n",
              "      <th>Mannschaft</th>\n",
              "      <th>Rohe Präsenz (min)</th>\n",
              "      <th>Pause (Minuten)</th>\n",
              "      <th>Nettopräsenz (Min.)</th>\n",
              "      <th>Behandlung (min)</th>\n",
              "      <th>DMT</th>\n",
              "      <th>Productiviy</th>\n",
              "      <th>Processed tickets</th>\n",
              "      <th>Closed Tickets</th>\n",
              "      <th>FTE (processed)</th>\n",
              "      <th>FTE (presence)</th>\n",
              "      <th>FTE weighted</th>\n",
              "    </tr>\n",
              "  </thead>\n",
              "  <tbody>\n",
              "    <tr>\n",
              "      <th>0</th>\n",
              "      <td>2022-04-12</td>\n",
              "      <td>Employee_1</td>\n",
              "      <td>TEAM_1</td>\n",
              "      <td>102</td>\n",
              "      <td>0</td>\n",
              "      <td>102</td>\n",
              "      <td>4</td>\n",
              "      <td>00:02:08</td>\n",
              "      <td>0.6</td>\n",
              "      <td>2</td>\n",
              "      <td>1</td>\n",
              "      <td>0.00</td>\n",
              "      <td>0.25</td>\n",
              "      <td>0.00</td>\n",
              "    </tr>\n",
              "    <tr>\n",
              "      <th>1</th>\n",
              "      <td>2022-04-13</td>\n",
              "      <td>Employee_1</td>\n",
              "      <td>TEAM_1</td>\n",
              "      <td>299</td>\n",
              "      <td>0</td>\n",
              "      <td>299</td>\n",
              "      <td>168</td>\n",
              "      <td>00:42:00</td>\n",
              "      <td>0.4</td>\n",
              "      <td>4</td>\n",
              "      <td>2</td>\n",
              "      <td>0.50</td>\n",
              "      <td>0.75</td>\n",
              "      <td>0.50</td>\n",
              "    </tr>\n",
              "    <tr>\n",
              "      <th>2</th>\n",
              "      <td>2022-04-19</td>\n",
              "      <td>Employee_1</td>\n",
              "      <td>TEAM_1</td>\n",
              "      <td>478</td>\n",
              "      <td>0</td>\n",
              "      <td>478</td>\n",
              "      <td>275</td>\n",
              "      <td>00:16:12</td>\n",
              "      <td>2.0</td>\n",
              "      <td>17</td>\n",
              "      <td>16</td>\n",
              "      <td>0.75</td>\n",
              "      <td>1.00</td>\n",
              "      <td>0.75</td>\n",
              "    </tr>\n",
              "    <tr>\n",
              "      <th>3</th>\n",
              "      <td>2022-04-20</td>\n",
              "      <td>Employee_1</td>\n",
              "      <td>TEAM_1</td>\n",
              "      <td>427</td>\n",
              "      <td>0</td>\n",
              "      <td>427</td>\n",
              "      <td>142</td>\n",
              "      <td>00:12:56</td>\n",
              "      <td>1.4</td>\n",
              "      <td>11</td>\n",
              "      <td>10</td>\n",
              "      <td>0.50</td>\n",
              "      <td>1.00</td>\n",
              "      <td>0.50</td>\n",
              "    </tr>\n",
              "    <tr>\n",
              "      <th>4</th>\n",
              "      <td>2022-04-21</td>\n",
              "      <td>Employee_1</td>\n",
              "      <td>TEAM_1</td>\n",
              "      <td>482</td>\n",
              "      <td>0</td>\n",
              "      <td>482</td>\n",
              "      <td>129</td>\n",
              "      <td>00:16:12</td>\n",
              "      <td>1.0</td>\n",
              "      <td>8</td>\n",
              "      <td>8</td>\n",
              "      <td>0.50</td>\n",
              "      <td>1.00</td>\n",
              "      <td>0.50</td>\n",
              "    </tr>\n",
              "  </tbody>\n",
              "</table>\n",
              "</div>\n",
              "      <button class=\"colab-df-convert\" onclick=\"convertToInteractive('df-a4381b8f-0b96-4a82-ac2e-19869e669c2a')\"\n",
              "              title=\"Convert this dataframe to an interactive table.\"\n",
              "              style=\"display:none;\">\n",
              "        \n",
              "  <svg xmlns=\"http://www.w3.org/2000/svg\" height=\"24px\"viewBox=\"0 0 24 24\"\n",
              "       width=\"24px\">\n",
              "    <path d=\"M0 0h24v24H0V0z\" fill=\"none\"/>\n",
              "    <path d=\"M18.56 5.44l.94 2.06.94-2.06 2.06-.94-2.06-.94-.94-2.06-.94 2.06-2.06.94zm-11 1L8.5 8.5l.94-2.06 2.06-.94-2.06-.94L8.5 2.5l-.94 2.06-2.06.94zm10 10l.94 2.06.94-2.06 2.06-.94-2.06-.94-.94-2.06-.94 2.06-2.06.94z\"/><path d=\"M17.41 7.96l-1.37-1.37c-.4-.4-.92-.59-1.43-.59-.52 0-1.04.2-1.43.59L10.3 9.45l-7.72 7.72c-.78.78-.78 2.05 0 2.83L4 21.41c.39.39.9.59 1.41.59.51 0 1.02-.2 1.41-.59l7.78-7.78 2.81-2.81c.8-.78.8-2.07 0-2.86zM5.41 20L4 18.59l7.72-7.72 1.47 1.35L5.41 20z\"/>\n",
              "  </svg>\n",
              "      </button>\n",
              "      \n",
              "  <style>\n",
              "    .colab-df-container {\n",
              "      display:flex;\n",
              "      flex-wrap:wrap;\n",
              "      gap: 12px;\n",
              "    }\n",
              "\n",
              "    .colab-df-convert {\n",
              "      background-color: #E8F0FE;\n",
              "      border: none;\n",
              "      border-radius: 50%;\n",
              "      cursor: pointer;\n",
              "      display: none;\n",
              "      fill: #1967D2;\n",
              "      height: 32px;\n",
              "      padding: 0 0 0 0;\n",
              "      width: 32px;\n",
              "    }\n",
              "\n",
              "    .colab-df-convert:hover {\n",
              "      background-color: #E2EBFA;\n",
              "      box-shadow: 0px 1px 2px rgba(60, 64, 67, 0.3), 0px 1px 3px 1px rgba(60, 64, 67, 0.15);\n",
              "      fill: #174EA6;\n",
              "    }\n",
              "\n",
              "    [theme=dark] .colab-df-convert {\n",
              "      background-color: #3B4455;\n",
              "      fill: #D2E3FC;\n",
              "    }\n",
              "\n",
              "    [theme=dark] .colab-df-convert:hover {\n",
              "      background-color: #434B5C;\n",
              "      box-shadow: 0px 1px 3px 1px rgba(0, 0, 0, 0.15);\n",
              "      filter: drop-shadow(0px 1px 2px rgba(0, 0, 0, 0.3));\n",
              "      fill: #FFFFFF;\n",
              "    }\n",
              "  </style>\n",
              "\n",
              "      <script>\n",
              "        const buttonEl =\n",
              "          document.querySelector('#df-a4381b8f-0b96-4a82-ac2e-19869e669c2a button.colab-df-convert');\n",
              "        buttonEl.style.display =\n",
              "          google.colab.kernel.accessAllowed ? 'block' : 'none';\n",
              "\n",
              "        async function convertToInteractive(key) {\n",
              "          const element = document.querySelector('#df-a4381b8f-0b96-4a82-ac2e-19869e669c2a');\n",
              "          const dataTable =\n",
              "            await google.colab.kernel.invokeFunction('convertToInteractive',\n",
              "                                                     [key], {});\n",
              "          if (!dataTable) return;\n",
              "\n",
              "          const docLinkHtml = 'Like what you see? Visit the ' +\n",
              "            '<a target=\"_blank\" href=https://colab.research.google.com/notebooks/data_table.ipynb>data table notebook</a>'\n",
              "            + ' to learn more about interactive tables.';\n",
              "          element.innerHTML = '';\n",
              "          dataTable['output_type'] = 'display_data';\n",
              "          await google.colab.output.renderOutput(dataTable, element);\n",
              "          const docLink = document.createElement('div');\n",
              "          docLink.innerHTML = docLinkHtml;\n",
              "          element.appendChild(docLink);\n",
              "        }\n",
              "      </script>\n",
              "    </div>\n",
              "  </div>\n",
              "  "
            ]
          },
          "metadata": {},
          "execution_count": 81
        }
      ],
      "source": [
        "# DE.xlsx file from Raw_Excel_Files folder\n",
        "\n",
        "# store the nme of the file in filename variable\n",
        "filename = 'Raw_Excel_Files/DE.xlsx'\n",
        "# read the excel file with .read_excel method\n",
        "de = pd.read_excel(filename, # the file we want to read\n",
        "                   index_col=None, # do not add column index\n",
        "                   header=0) # the first row to be used as headers (column names)\n",
        "\n",
        "# check dataframe shape\n",
        "print('Dataframe Shape: ', de.shape)\n",
        "print(de.columns)\n",
        "\n",
        "de.head()"
      ]
    },
    {
      "cell_type": "code",
      "execution_count": null,
      "metadata": {
        "id": "q-ZJeXh4_KBz",
        "colab": {
          "base_uri": "https://localhost:8080/",
          "height": 409
        },
        "outputId": "7b83206a-291a-4789-d4e8-78dd9f6e9c5e"
      },
      "outputs": [
        {
          "output_type": "stream",
          "name": "stdout",
          "text": [
            "Dataframe Shape:  (673, 15)\n"
          ]
        },
        {
          "output_type": "execute_result",
          "data": {
            "text/plain": [
              "        Date        Name Mannschaft  Rohe Präsenz (min)  Pause (Minuten)  \\\n",
              "0 2022-04-12  Employee_1     TEAM_1                 102                0   \n",
              "1 2022-04-13  Employee_1     TEAM_1                 299                0   \n",
              "2 2022-04-19  Employee_1     TEAM_1                 478                0   \n",
              "3 2022-04-20  Employee_1     TEAM_1                 427                0   \n",
              "4 2022-04-21  Employee_1     TEAM_1                 482                0   \n",
              "\n",
              "   Nettopräsenz (Min.)  Behandlung (min)       DMT  Productiviy  \\\n",
              "0                  102                 4  00:02:08          0.6   \n",
              "1                  299               168  00:42:00          0.4   \n",
              "2                  478               275  00:16:12          2.0   \n",
              "3                  427               142  00:12:56          1.4   \n",
              "4                  482               129  00:16:12          1.0   \n",
              "\n",
              "   Processed tickets  Closed Tickets  FTE (processed)  FTE (presence)  \\\n",
              "0                  2               1             0.00            0.25   \n",
              "1                  4               2             0.50            0.75   \n",
              "2                 17              16             0.75            1.00   \n",
              "3                 11              10             0.50            1.00   \n",
              "4                  8               8             0.50            1.00   \n",
              "\n",
              "   FTE weighted Country  \n",
              "0          0.00      DE  \n",
              "1          0.50      DE  \n",
              "2          0.75      DE  \n",
              "3          0.50      DE  \n",
              "4          0.50      DE  "
            ],
            "text/html": [
              "\n",
              "  <div id=\"df-49c8b397-bf53-47cf-b6f7-8b2d4b727355\">\n",
              "    <div class=\"colab-df-container\">\n",
              "      <div>\n",
              "<style scoped>\n",
              "    .dataframe tbody tr th:only-of-type {\n",
              "        vertical-align: middle;\n",
              "    }\n",
              "\n",
              "    .dataframe tbody tr th {\n",
              "        vertical-align: top;\n",
              "    }\n",
              "\n",
              "    .dataframe thead th {\n",
              "        text-align: right;\n",
              "    }\n",
              "</style>\n",
              "<table border=\"1\" class=\"dataframe\">\n",
              "  <thead>\n",
              "    <tr style=\"text-align: right;\">\n",
              "      <th></th>\n",
              "      <th>Date</th>\n",
              "      <th>Name</th>\n",
              "      <th>Mannschaft</th>\n",
              "      <th>Rohe Präsenz (min)</th>\n",
              "      <th>Pause (Minuten)</th>\n",
              "      <th>Nettopräsenz (Min.)</th>\n",
              "      <th>Behandlung (min)</th>\n",
              "      <th>DMT</th>\n",
              "      <th>Productiviy</th>\n",
              "      <th>Processed tickets</th>\n",
              "      <th>Closed Tickets</th>\n",
              "      <th>FTE (processed)</th>\n",
              "      <th>FTE (presence)</th>\n",
              "      <th>FTE weighted</th>\n",
              "      <th>Country</th>\n",
              "    </tr>\n",
              "  </thead>\n",
              "  <tbody>\n",
              "    <tr>\n",
              "      <th>0</th>\n",
              "      <td>2022-04-12</td>\n",
              "      <td>Employee_1</td>\n",
              "      <td>TEAM_1</td>\n",
              "      <td>102</td>\n",
              "      <td>0</td>\n",
              "      <td>102</td>\n",
              "      <td>4</td>\n",
              "      <td>00:02:08</td>\n",
              "      <td>0.6</td>\n",
              "      <td>2</td>\n",
              "      <td>1</td>\n",
              "      <td>0.00</td>\n",
              "      <td>0.25</td>\n",
              "      <td>0.00</td>\n",
              "      <td>DE</td>\n",
              "    </tr>\n",
              "    <tr>\n",
              "      <th>1</th>\n",
              "      <td>2022-04-13</td>\n",
              "      <td>Employee_1</td>\n",
              "      <td>TEAM_1</td>\n",
              "      <td>299</td>\n",
              "      <td>0</td>\n",
              "      <td>299</td>\n",
              "      <td>168</td>\n",
              "      <td>00:42:00</td>\n",
              "      <td>0.4</td>\n",
              "      <td>4</td>\n",
              "      <td>2</td>\n",
              "      <td>0.50</td>\n",
              "      <td>0.75</td>\n",
              "      <td>0.50</td>\n",
              "      <td>DE</td>\n",
              "    </tr>\n",
              "    <tr>\n",
              "      <th>2</th>\n",
              "      <td>2022-04-19</td>\n",
              "      <td>Employee_1</td>\n",
              "      <td>TEAM_1</td>\n",
              "      <td>478</td>\n",
              "      <td>0</td>\n",
              "      <td>478</td>\n",
              "      <td>275</td>\n",
              "      <td>00:16:12</td>\n",
              "      <td>2.0</td>\n",
              "      <td>17</td>\n",
              "      <td>16</td>\n",
              "      <td>0.75</td>\n",
              "      <td>1.00</td>\n",
              "      <td>0.75</td>\n",
              "      <td>DE</td>\n",
              "    </tr>\n",
              "    <tr>\n",
              "      <th>3</th>\n",
              "      <td>2022-04-20</td>\n",
              "      <td>Employee_1</td>\n",
              "      <td>TEAM_1</td>\n",
              "      <td>427</td>\n",
              "      <td>0</td>\n",
              "      <td>427</td>\n",
              "      <td>142</td>\n",
              "      <td>00:12:56</td>\n",
              "      <td>1.4</td>\n",
              "      <td>11</td>\n",
              "      <td>10</td>\n",
              "      <td>0.50</td>\n",
              "      <td>1.00</td>\n",
              "      <td>0.50</td>\n",
              "      <td>DE</td>\n",
              "    </tr>\n",
              "    <tr>\n",
              "      <th>4</th>\n",
              "      <td>2022-04-21</td>\n",
              "      <td>Employee_1</td>\n",
              "      <td>TEAM_1</td>\n",
              "      <td>482</td>\n",
              "      <td>0</td>\n",
              "      <td>482</td>\n",
              "      <td>129</td>\n",
              "      <td>00:16:12</td>\n",
              "      <td>1.0</td>\n",
              "      <td>8</td>\n",
              "      <td>8</td>\n",
              "      <td>0.50</td>\n",
              "      <td>1.00</td>\n",
              "      <td>0.50</td>\n",
              "      <td>DE</td>\n",
              "    </tr>\n",
              "  </tbody>\n",
              "</table>\n",
              "</div>\n",
              "      <button class=\"colab-df-convert\" onclick=\"convertToInteractive('df-49c8b397-bf53-47cf-b6f7-8b2d4b727355')\"\n",
              "              title=\"Convert this dataframe to an interactive table.\"\n",
              "              style=\"display:none;\">\n",
              "        \n",
              "  <svg xmlns=\"http://www.w3.org/2000/svg\" height=\"24px\"viewBox=\"0 0 24 24\"\n",
              "       width=\"24px\">\n",
              "    <path d=\"M0 0h24v24H0V0z\" fill=\"none\"/>\n",
              "    <path d=\"M18.56 5.44l.94 2.06.94-2.06 2.06-.94-2.06-.94-.94-2.06-.94 2.06-2.06.94zm-11 1L8.5 8.5l.94-2.06 2.06-.94-2.06-.94L8.5 2.5l-.94 2.06-2.06.94zm10 10l.94 2.06.94-2.06 2.06-.94-2.06-.94-.94-2.06-.94 2.06-2.06.94z\"/><path d=\"M17.41 7.96l-1.37-1.37c-.4-.4-.92-.59-1.43-.59-.52 0-1.04.2-1.43.59L10.3 9.45l-7.72 7.72c-.78.78-.78 2.05 0 2.83L4 21.41c.39.39.9.59 1.41.59.51 0 1.02-.2 1.41-.59l7.78-7.78 2.81-2.81c.8-.78.8-2.07 0-2.86zM5.41 20L4 18.59l7.72-7.72 1.47 1.35L5.41 20z\"/>\n",
              "  </svg>\n",
              "      </button>\n",
              "      \n",
              "  <style>\n",
              "    .colab-df-container {\n",
              "      display:flex;\n",
              "      flex-wrap:wrap;\n",
              "      gap: 12px;\n",
              "    }\n",
              "\n",
              "    .colab-df-convert {\n",
              "      background-color: #E8F0FE;\n",
              "      border: none;\n",
              "      border-radius: 50%;\n",
              "      cursor: pointer;\n",
              "      display: none;\n",
              "      fill: #1967D2;\n",
              "      height: 32px;\n",
              "      padding: 0 0 0 0;\n",
              "      width: 32px;\n",
              "    }\n",
              "\n",
              "    .colab-df-convert:hover {\n",
              "      background-color: #E2EBFA;\n",
              "      box-shadow: 0px 1px 2px rgba(60, 64, 67, 0.3), 0px 1px 3px 1px rgba(60, 64, 67, 0.15);\n",
              "      fill: #174EA6;\n",
              "    }\n",
              "\n",
              "    [theme=dark] .colab-df-convert {\n",
              "      background-color: #3B4455;\n",
              "      fill: #D2E3FC;\n",
              "    }\n",
              "\n",
              "    [theme=dark] .colab-df-convert:hover {\n",
              "      background-color: #434B5C;\n",
              "      box-shadow: 0px 1px 3px 1px rgba(0, 0, 0, 0.15);\n",
              "      filter: drop-shadow(0px 1px 2px rgba(0, 0, 0, 0.3));\n",
              "      fill: #FFFFFF;\n",
              "    }\n",
              "  </style>\n",
              "\n",
              "      <script>\n",
              "        const buttonEl =\n",
              "          document.querySelector('#df-49c8b397-bf53-47cf-b6f7-8b2d4b727355 button.colab-df-convert');\n",
              "        buttonEl.style.display =\n",
              "          google.colab.kernel.accessAllowed ? 'block' : 'none';\n",
              "\n",
              "        async function convertToInteractive(key) {\n",
              "          const element = document.querySelector('#df-49c8b397-bf53-47cf-b6f7-8b2d4b727355');\n",
              "          const dataTable =\n",
              "            await google.colab.kernel.invokeFunction('convertToInteractive',\n",
              "                                                     [key], {});\n",
              "          if (!dataTable) return;\n",
              "\n",
              "          const docLinkHtml = 'Like what you see? Visit the ' +\n",
              "            '<a target=\"_blank\" href=https://colab.research.google.com/notebooks/data_table.ipynb>data table notebook</a>'\n",
              "            + ' to learn more about interactive tables.';\n",
              "          element.innerHTML = '';\n",
              "          dataTable['output_type'] = 'display_data';\n",
              "          await google.colab.output.renderOutput(dataTable, element);\n",
              "          const docLink = document.createElement('div');\n",
              "          docLink.innerHTML = docLinkHtml;\n",
              "          element.appendChild(docLink);\n",
              "        }\n",
              "      </script>\n",
              "    </div>\n",
              "  </div>\n",
              "  "
            ]
          },
          "metadata": {},
          "execution_count": 82
        }
      ],
      "source": [
        "# add a column 'Country' to diferentiate the data in the consilidated dataframe\n",
        "de['Country']= 'DE'\n",
        "\n",
        "# check dataframe shape after adding the new column\n",
        "print('Dataframe Shape: ', de.shape)\n",
        "\n",
        "# visualize first rows\n",
        "de.head()"
      ]
    },
    {
      "cell_type": "code",
      "execution_count": null,
      "metadata": {
        "id": "EJdbhRHx-gDK",
        "colab": {
          "base_uri": "https://localhost:8080/"
        },
        "outputId": "7fb48741-7cbf-4911-e98c-12f04dbd50bb"
      },
      "outputs": [
        {
          "output_type": "stream",
          "name": "stdout",
          "text": [
            "nb of columns:  15\n",
            "nb of rows:  673\n"
          ]
        },
        {
          "output_type": "execute_result",
          "data": {
            "text/plain": [
              "Index(['Date', 'Name', 'Mannschaft', 'Rohe Präsenz (min)', 'Pause (Minuten)',\n",
              "       'Nettopräsenz (Min.)', 'Behandlung (min)', 'DMT', 'Productiviy',\n",
              "       'Processed tickets', 'Closed Tickets', 'FTE (processed)',\n",
              "       'FTE (presence)', 'FTE weighted', 'Country'],\n",
              "      dtype='object')"
            ]
          },
          "metadata": {},
          "execution_count": 83
        }
      ],
      "source": [
        "print('nb of columns: ', len(de.columns))\n",
        "print('nb of rows: ', len(de))\n",
        "de.columns"
      ]
    },
    {
      "cell_type": "code",
      "execution_count": null,
      "metadata": {
        "id": "8epCZNIl_Put",
        "colab": {
          "base_uri": "https://localhost:8080/",
          "height": 531
        },
        "outputId": "3f31c793-c2e8-4b3e-d9c9-57d5fd4b4a09"
      },
      "outputs": [
        {
          "output_type": "stream",
          "name": "stdout",
          "text": [
            "Dataframe Shape:  (267, 15)\n",
            "nb of columns:  15\n",
            "nb of rows:  267\n",
            "column names:  Index(['Date', 'Nom/Prénom', 'EQUIPE', 'Présence brute (min)', 'Pause (min)',\n",
            "       'Présente nette (min)', 'Traitement (min)', 'DMT',\n",
            "       'Productivité horaire', 'Tickets traités', 'Tickets clos',\n",
            "       'FTE (traitement)', 'FTE (présence)', 'FTE pondéré', 'Country'],\n",
            "      dtype='object')\n"
          ]
        },
        {
          "output_type": "execute_result",
          "data": {
            "text/plain": [
              "        Date  Nom/Prénom  EQUIPE  Présence brute (min)  Pause (min)  \\\n",
              "0 2022-04-12  Employee_1  TEAM_1                   102            0   \n",
              "1 2022-04-19  Employee_1  TEAM_1                   478            0   \n",
              "2 2022-04-20  Employee_1  TEAM_1                   427            0   \n",
              "3 2022-04-21  Employee_1  TEAM_1                   482            0   \n",
              "4 2022-04-22  Employee_1  TEAM_1                   476            0   \n",
              "\n",
              "   Présente nette (min)  Traitement (min)       DMT  Productivité horaire  \\\n",
              "0                   102                 4  0.001481                   0.6   \n",
              "1                   478               275  0.011250                   2.0   \n",
              "2                   427               142  0.008981                   1.4   \n",
              "3                   482               129  0.011250                   1.0   \n",
              "4                   476               117  0.013634                   0.8   \n",
              "\n",
              "   Tickets traités  Tickets clos  FTE (traitement)  FTE (présence)  \\\n",
              "0                2             1              0.00            0.25   \n",
              "1               17            16              0.75            1.00   \n",
              "2               11            10              0.50            1.00   \n",
              "3                8             8              0.50            1.00   \n",
              "4                6             6              0.25            1.00   \n",
              "\n",
              "   FTE pondéré Country  \n",
              "0         0.00      FR  \n",
              "1         0.75      FR  \n",
              "2         0.50      FR  \n",
              "3         0.50      FR  \n",
              "4         0.25      FR  "
            ],
            "text/html": [
              "\n",
              "  <div id=\"df-84a35252-2a5c-4391-b660-a3f8fc45519a\">\n",
              "    <div class=\"colab-df-container\">\n",
              "      <div>\n",
              "<style scoped>\n",
              "    .dataframe tbody tr th:only-of-type {\n",
              "        vertical-align: middle;\n",
              "    }\n",
              "\n",
              "    .dataframe tbody tr th {\n",
              "        vertical-align: top;\n",
              "    }\n",
              "\n",
              "    .dataframe thead th {\n",
              "        text-align: right;\n",
              "    }\n",
              "</style>\n",
              "<table border=\"1\" class=\"dataframe\">\n",
              "  <thead>\n",
              "    <tr style=\"text-align: right;\">\n",
              "      <th></th>\n",
              "      <th>Date</th>\n",
              "      <th>Nom/Prénom</th>\n",
              "      <th>EQUIPE</th>\n",
              "      <th>Présence brute (min)</th>\n",
              "      <th>Pause (min)</th>\n",
              "      <th>Présente nette (min)</th>\n",
              "      <th>Traitement (min)</th>\n",
              "      <th>DMT</th>\n",
              "      <th>Productivité horaire</th>\n",
              "      <th>Tickets traités</th>\n",
              "      <th>Tickets clos</th>\n",
              "      <th>FTE (traitement)</th>\n",
              "      <th>FTE (présence)</th>\n",
              "      <th>FTE pondéré</th>\n",
              "      <th>Country</th>\n",
              "    </tr>\n",
              "  </thead>\n",
              "  <tbody>\n",
              "    <tr>\n",
              "      <th>0</th>\n",
              "      <td>2022-04-12</td>\n",
              "      <td>Employee_1</td>\n",
              "      <td>TEAM_1</td>\n",
              "      <td>102</td>\n",
              "      <td>0</td>\n",
              "      <td>102</td>\n",
              "      <td>4</td>\n",
              "      <td>0.001481</td>\n",
              "      <td>0.6</td>\n",
              "      <td>2</td>\n",
              "      <td>1</td>\n",
              "      <td>0.00</td>\n",
              "      <td>0.25</td>\n",
              "      <td>0.00</td>\n",
              "      <td>FR</td>\n",
              "    </tr>\n",
              "    <tr>\n",
              "      <th>1</th>\n",
              "      <td>2022-04-19</td>\n",
              "      <td>Employee_1</td>\n",
              "      <td>TEAM_1</td>\n",
              "      <td>478</td>\n",
              "      <td>0</td>\n",
              "      <td>478</td>\n",
              "      <td>275</td>\n",
              "      <td>0.011250</td>\n",
              "      <td>2.0</td>\n",
              "      <td>17</td>\n",
              "      <td>16</td>\n",
              "      <td>0.75</td>\n",
              "      <td>1.00</td>\n",
              "      <td>0.75</td>\n",
              "      <td>FR</td>\n",
              "    </tr>\n",
              "    <tr>\n",
              "      <th>2</th>\n",
              "      <td>2022-04-20</td>\n",
              "      <td>Employee_1</td>\n",
              "      <td>TEAM_1</td>\n",
              "      <td>427</td>\n",
              "      <td>0</td>\n",
              "      <td>427</td>\n",
              "      <td>142</td>\n",
              "      <td>0.008981</td>\n",
              "      <td>1.4</td>\n",
              "      <td>11</td>\n",
              "      <td>10</td>\n",
              "      <td>0.50</td>\n",
              "      <td>1.00</td>\n",
              "      <td>0.50</td>\n",
              "      <td>FR</td>\n",
              "    </tr>\n",
              "    <tr>\n",
              "      <th>3</th>\n",
              "      <td>2022-04-21</td>\n",
              "      <td>Employee_1</td>\n",
              "      <td>TEAM_1</td>\n",
              "      <td>482</td>\n",
              "      <td>0</td>\n",
              "      <td>482</td>\n",
              "      <td>129</td>\n",
              "      <td>0.011250</td>\n",
              "      <td>1.0</td>\n",
              "      <td>8</td>\n",
              "      <td>8</td>\n",
              "      <td>0.50</td>\n",
              "      <td>1.00</td>\n",
              "      <td>0.50</td>\n",
              "      <td>FR</td>\n",
              "    </tr>\n",
              "    <tr>\n",
              "      <th>4</th>\n",
              "      <td>2022-04-22</td>\n",
              "      <td>Employee_1</td>\n",
              "      <td>TEAM_1</td>\n",
              "      <td>476</td>\n",
              "      <td>0</td>\n",
              "      <td>476</td>\n",
              "      <td>117</td>\n",
              "      <td>0.013634</td>\n",
              "      <td>0.8</td>\n",
              "      <td>6</td>\n",
              "      <td>6</td>\n",
              "      <td>0.25</td>\n",
              "      <td>1.00</td>\n",
              "      <td>0.25</td>\n",
              "      <td>FR</td>\n",
              "    </tr>\n",
              "  </tbody>\n",
              "</table>\n",
              "</div>\n",
              "      <button class=\"colab-df-convert\" onclick=\"convertToInteractive('df-84a35252-2a5c-4391-b660-a3f8fc45519a')\"\n",
              "              title=\"Convert this dataframe to an interactive table.\"\n",
              "              style=\"display:none;\">\n",
              "        \n",
              "  <svg xmlns=\"http://www.w3.org/2000/svg\" height=\"24px\"viewBox=\"0 0 24 24\"\n",
              "       width=\"24px\">\n",
              "    <path d=\"M0 0h24v24H0V0z\" fill=\"none\"/>\n",
              "    <path d=\"M18.56 5.44l.94 2.06.94-2.06 2.06-.94-2.06-.94-.94-2.06-.94 2.06-2.06.94zm-11 1L8.5 8.5l.94-2.06 2.06-.94-2.06-.94L8.5 2.5l-.94 2.06-2.06.94zm10 10l.94 2.06.94-2.06 2.06-.94-2.06-.94-.94-2.06-.94 2.06-2.06.94z\"/><path d=\"M17.41 7.96l-1.37-1.37c-.4-.4-.92-.59-1.43-.59-.52 0-1.04.2-1.43.59L10.3 9.45l-7.72 7.72c-.78.78-.78 2.05 0 2.83L4 21.41c.39.39.9.59 1.41.59.51 0 1.02-.2 1.41-.59l7.78-7.78 2.81-2.81c.8-.78.8-2.07 0-2.86zM5.41 20L4 18.59l7.72-7.72 1.47 1.35L5.41 20z\"/>\n",
              "  </svg>\n",
              "      </button>\n",
              "      \n",
              "  <style>\n",
              "    .colab-df-container {\n",
              "      display:flex;\n",
              "      flex-wrap:wrap;\n",
              "      gap: 12px;\n",
              "    }\n",
              "\n",
              "    .colab-df-convert {\n",
              "      background-color: #E8F0FE;\n",
              "      border: none;\n",
              "      border-radius: 50%;\n",
              "      cursor: pointer;\n",
              "      display: none;\n",
              "      fill: #1967D2;\n",
              "      height: 32px;\n",
              "      padding: 0 0 0 0;\n",
              "      width: 32px;\n",
              "    }\n",
              "\n",
              "    .colab-df-convert:hover {\n",
              "      background-color: #E2EBFA;\n",
              "      box-shadow: 0px 1px 2px rgba(60, 64, 67, 0.3), 0px 1px 3px 1px rgba(60, 64, 67, 0.15);\n",
              "      fill: #174EA6;\n",
              "    }\n",
              "\n",
              "    [theme=dark] .colab-df-convert {\n",
              "      background-color: #3B4455;\n",
              "      fill: #D2E3FC;\n",
              "    }\n",
              "\n",
              "    [theme=dark] .colab-df-convert:hover {\n",
              "      background-color: #434B5C;\n",
              "      box-shadow: 0px 1px 3px 1px rgba(0, 0, 0, 0.15);\n",
              "      filter: drop-shadow(0px 1px 2px rgba(0, 0, 0, 0.3));\n",
              "      fill: #FFFFFF;\n",
              "    }\n",
              "  </style>\n",
              "\n",
              "      <script>\n",
              "        const buttonEl =\n",
              "          document.querySelector('#df-84a35252-2a5c-4391-b660-a3f8fc45519a button.colab-df-convert');\n",
              "        buttonEl.style.display =\n",
              "          google.colab.kernel.accessAllowed ? 'block' : 'none';\n",
              "\n",
              "        async function convertToInteractive(key) {\n",
              "          const element = document.querySelector('#df-84a35252-2a5c-4391-b660-a3f8fc45519a');\n",
              "          const dataTable =\n",
              "            await google.colab.kernel.invokeFunction('convertToInteractive',\n",
              "                                                     [key], {});\n",
              "          if (!dataTable) return;\n",
              "\n",
              "          const docLinkHtml = 'Like what you see? Visit the ' +\n",
              "            '<a target=\"_blank\" href=https://colab.research.google.com/notebooks/data_table.ipynb>data table notebook</a>'\n",
              "            + ' to learn more about interactive tables.';\n",
              "          element.innerHTML = '';\n",
              "          dataTable['output_type'] = 'display_data';\n",
              "          await google.colab.output.renderOutput(dataTable, element);\n",
              "          const docLink = document.createElement('div');\n",
              "          docLink.innerHTML = docLinkHtml;\n",
              "          element.appendChild(docLink);\n",
              "        }\n",
              "      </script>\n",
              "    </div>\n",
              "  </div>\n",
              "  "
            ]
          },
          "metadata": {},
          "execution_count": 84
        }
      ],
      "source": [
        "# FR\n",
        "filename = 'Raw_Excel_Files/FR.xlsx'\n",
        "fr = pd.read_excel(filename, index_col=None, header=0)\n",
        "\n",
        "\n",
        "# add a column 'Country' to diferentiate the data in the consilidated dataframe\n",
        "fr['Country']= 'FR'\n",
        "\n",
        "# check dataframe shape, dimensions after adding the new column\n",
        "print('Dataframe Shape: ', fr.shape)\n",
        "print('nb of columns: ', len(fr.columns))\n",
        "print('nb of rows: ', len(fr))\n",
        "\n",
        "# print column names \n",
        "print('column names: ', fr.columns)\n",
        "\n",
        "# visualize first rows\n",
        "fr.head()"
      ]
    },
    {
      "cell_type": "code",
      "execution_count": null,
      "metadata": {
        "id": "qmpsNlOW_lzx",
        "colab": {
          "base_uri": "https://localhost:8080/",
          "height": 531
        },
        "outputId": "e66636a6-e095-4636-f72b-3dc61c2aa64a"
      },
      "outputs": [
        {
          "output_type": "stream",
          "name": "stdout",
          "text": [
            "Dataframe Shape:  (269, 15)\n",
            "nb of columns:  15\n",
            "nb of rows:  269\n",
            "column names:  Index(['Date', 'Name', 'Team', 'Presence', 'Pause (min)', 'Presence net (min)',\n",
            "       'Processed (min)', 'DMT', 'Productivity hours', 'Processed tickets',\n",
            "       'Closed tickets', 'FTE (process)', 'FTE (presence)', 'FTE weighted',\n",
            "       'Country'],\n",
            "      dtype='object')\n"
          ]
        },
        {
          "output_type": "execute_result",
          "data": {
            "text/plain": [
              "        Date        Name    Team  Presence  Pause (min)  Presence net (min)  \\\n",
              "0 2022-04-12  Employee_1  TEAM_1     102.0          0.0                 102   \n",
              "1 2022-04-19  Employee_1  TEAM_1     478.0          0.0                 478   \n",
              "2 2022-04-20  Employee_1  TEAM_1       4.0          0.0                 427   \n",
              "3 2022-04-21  Employee_1  TEAM_1     482.0          0.0                 482   \n",
              "4 2022-04-22  Employee_1  TEAM_1     476.0          0.0                 476   \n",
              "\n",
              "   Processed (min)       DMT  Productivity hours  Processed tickets  \\\n",
              "0                4  0.001481                 0.6                  2   \n",
              "1              275  0.011250                 2.0                 17   \n",
              "2              142  0.008981                 1.4                 11   \n",
              "3              129  0.011250                 1.0                  8   \n",
              "4              117  0.013634                 0.8                  6   \n",
              "\n",
              "   Closed tickets  FTE (process)  FTE (presence)  FTE weighted Country  \n",
              "0               1           0.00            0.25          0.00      UK  \n",
              "1              16           0.75            1.00          0.75      UK  \n",
              "2              10           0.50            1.00          0.50      UK  \n",
              "3               8           0.50            1.00          0.50      UK  \n",
              "4               6           0.25            1.00          0.25      UK  "
            ],
            "text/html": [
              "\n",
              "  <div id=\"df-95ea3eb3-0cda-4bc7-852a-80b144425477\">\n",
              "    <div class=\"colab-df-container\">\n",
              "      <div>\n",
              "<style scoped>\n",
              "    .dataframe tbody tr th:only-of-type {\n",
              "        vertical-align: middle;\n",
              "    }\n",
              "\n",
              "    .dataframe tbody tr th {\n",
              "        vertical-align: top;\n",
              "    }\n",
              "\n",
              "    .dataframe thead th {\n",
              "        text-align: right;\n",
              "    }\n",
              "</style>\n",
              "<table border=\"1\" class=\"dataframe\">\n",
              "  <thead>\n",
              "    <tr style=\"text-align: right;\">\n",
              "      <th></th>\n",
              "      <th>Date</th>\n",
              "      <th>Name</th>\n",
              "      <th>Team</th>\n",
              "      <th>Presence</th>\n",
              "      <th>Pause (min)</th>\n",
              "      <th>Presence net (min)</th>\n",
              "      <th>Processed (min)</th>\n",
              "      <th>DMT</th>\n",
              "      <th>Productivity hours</th>\n",
              "      <th>Processed tickets</th>\n",
              "      <th>Closed tickets</th>\n",
              "      <th>FTE (process)</th>\n",
              "      <th>FTE (presence)</th>\n",
              "      <th>FTE weighted</th>\n",
              "      <th>Country</th>\n",
              "    </tr>\n",
              "  </thead>\n",
              "  <tbody>\n",
              "    <tr>\n",
              "      <th>0</th>\n",
              "      <td>2022-04-12</td>\n",
              "      <td>Employee_1</td>\n",
              "      <td>TEAM_1</td>\n",
              "      <td>102.0</td>\n",
              "      <td>0.0</td>\n",
              "      <td>102</td>\n",
              "      <td>4</td>\n",
              "      <td>0.001481</td>\n",
              "      <td>0.6</td>\n",
              "      <td>2</td>\n",
              "      <td>1</td>\n",
              "      <td>0.00</td>\n",
              "      <td>0.25</td>\n",
              "      <td>0.00</td>\n",
              "      <td>UK</td>\n",
              "    </tr>\n",
              "    <tr>\n",
              "      <th>1</th>\n",
              "      <td>2022-04-19</td>\n",
              "      <td>Employee_1</td>\n",
              "      <td>TEAM_1</td>\n",
              "      <td>478.0</td>\n",
              "      <td>0.0</td>\n",
              "      <td>478</td>\n",
              "      <td>275</td>\n",
              "      <td>0.011250</td>\n",
              "      <td>2.0</td>\n",
              "      <td>17</td>\n",
              "      <td>16</td>\n",
              "      <td>0.75</td>\n",
              "      <td>1.00</td>\n",
              "      <td>0.75</td>\n",
              "      <td>UK</td>\n",
              "    </tr>\n",
              "    <tr>\n",
              "      <th>2</th>\n",
              "      <td>2022-04-20</td>\n",
              "      <td>Employee_1</td>\n",
              "      <td>TEAM_1</td>\n",
              "      <td>4.0</td>\n",
              "      <td>0.0</td>\n",
              "      <td>427</td>\n",
              "      <td>142</td>\n",
              "      <td>0.008981</td>\n",
              "      <td>1.4</td>\n",
              "      <td>11</td>\n",
              "      <td>10</td>\n",
              "      <td>0.50</td>\n",
              "      <td>1.00</td>\n",
              "      <td>0.50</td>\n",
              "      <td>UK</td>\n",
              "    </tr>\n",
              "    <tr>\n",
              "      <th>3</th>\n",
              "      <td>2022-04-21</td>\n",
              "      <td>Employee_1</td>\n",
              "      <td>TEAM_1</td>\n",
              "      <td>482.0</td>\n",
              "      <td>0.0</td>\n",
              "      <td>482</td>\n",
              "      <td>129</td>\n",
              "      <td>0.011250</td>\n",
              "      <td>1.0</td>\n",
              "      <td>8</td>\n",
              "      <td>8</td>\n",
              "      <td>0.50</td>\n",
              "      <td>1.00</td>\n",
              "      <td>0.50</td>\n",
              "      <td>UK</td>\n",
              "    </tr>\n",
              "    <tr>\n",
              "      <th>4</th>\n",
              "      <td>2022-04-22</td>\n",
              "      <td>Employee_1</td>\n",
              "      <td>TEAM_1</td>\n",
              "      <td>476.0</td>\n",
              "      <td>0.0</td>\n",
              "      <td>476</td>\n",
              "      <td>117</td>\n",
              "      <td>0.013634</td>\n",
              "      <td>0.8</td>\n",
              "      <td>6</td>\n",
              "      <td>6</td>\n",
              "      <td>0.25</td>\n",
              "      <td>1.00</td>\n",
              "      <td>0.25</td>\n",
              "      <td>UK</td>\n",
              "    </tr>\n",
              "  </tbody>\n",
              "</table>\n",
              "</div>\n",
              "      <button class=\"colab-df-convert\" onclick=\"convertToInteractive('df-95ea3eb3-0cda-4bc7-852a-80b144425477')\"\n",
              "              title=\"Convert this dataframe to an interactive table.\"\n",
              "              style=\"display:none;\">\n",
              "        \n",
              "  <svg xmlns=\"http://www.w3.org/2000/svg\" height=\"24px\"viewBox=\"0 0 24 24\"\n",
              "       width=\"24px\">\n",
              "    <path d=\"M0 0h24v24H0V0z\" fill=\"none\"/>\n",
              "    <path d=\"M18.56 5.44l.94 2.06.94-2.06 2.06-.94-2.06-.94-.94-2.06-.94 2.06-2.06.94zm-11 1L8.5 8.5l.94-2.06 2.06-.94-2.06-.94L8.5 2.5l-.94 2.06-2.06.94zm10 10l.94 2.06.94-2.06 2.06-.94-2.06-.94-.94-2.06-.94 2.06-2.06.94z\"/><path d=\"M17.41 7.96l-1.37-1.37c-.4-.4-.92-.59-1.43-.59-.52 0-1.04.2-1.43.59L10.3 9.45l-7.72 7.72c-.78.78-.78 2.05 0 2.83L4 21.41c.39.39.9.59 1.41.59.51 0 1.02-.2 1.41-.59l7.78-7.78 2.81-2.81c.8-.78.8-2.07 0-2.86zM5.41 20L4 18.59l7.72-7.72 1.47 1.35L5.41 20z\"/>\n",
              "  </svg>\n",
              "      </button>\n",
              "      \n",
              "  <style>\n",
              "    .colab-df-container {\n",
              "      display:flex;\n",
              "      flex-wrap:wrap;\n",
              "      gap: 12px;\n",
              "    }\n",
              "\n",
              "    .colab-df-convert {\n",
              "      background-color: #E8F0FE;\n",
              "      border: none;\n",
              "      border-radius: 50%;\n",
              "      cursor: pointer;\n",
              "      display: none;\n",
              "      fill: #1967D2;\n",
              "      height: 32px;\n",
              "      padding: 0 0 0 0;\n",
              "      width: 32px;\n",
              "    }\n",
              "\n",
              "    .colab-df-convert:hover {\n",
              "      background-color: #E2EBFA;\n",
              "      box-shadow: 0px 1px 2px rgba(60, 64, 67, 0.3), 0px 1px 3px 1px rgba(60, 64, 67, 0.15);\n",
              "      fill: #174EA6;\n",
              "    }\n",
              "\n",
              "    [theme=dark] .colab-df-convert {\n",
              "      background-color: #3B4455;\n",
              "      fill: #D2E3FC;\n",
              "    }\n",
              "\n",
              "    [theme=dark] .colab-df-convert:hover {\n",
              "      background-color: #434B5C;\n",
              "      box-shadow: 0px 1px 3px 1px rgba(0, 0, 0, 0.15);\n",
              "      filter: drop-shadow(0px 1px 2px rgba(0, 0, 0, 0.3));\n",
              "      fill: #FFFFFF;\n",
              "    }\n",
              "  </style>\n",
              "\n",
              "      <script>\n",
              "        const buttonEl =\n",
              "          document.querySelector('#df-95ea3eb3-0cda-4bc7-852a-80b144425477 button.colab-df-convert');\n",
              "        buttonEl.style.display =\n",
              "          google.colab.kernel.accessAllowed ? 'block' : 'none';\n",
              "\n",
              "        async function convertToInteractive(key) {\n",
              "          const element = document.querySelector('#df-95ea3eb3-0cda-4bc7-852a-80b144425477');\n",
              "          const dataTable =\n",
              "            await google.colab.kernel.invokeFunction('convertToInteractive',\n",
              "                                                     [key], {});\n",
              "          if (!dataTable) return;\n",
              "\n",
              "          const docLinkHtml = 'Like what you see? Visit the ' +\n",
              "            '<a target=\"_blank\" href=https://colab.research.google.com/notebooks/data_table.ipynb>data table notebook</a>'\n",
              "            + ' to learn more about interactive tables.';\n",
              "          element.innerHTML = '';\n",
              "          dataTable['output_type'] = 'display_data';\n",
              "          await google.colab.output.renderOutput(dataTable, element);\n",
              "          const docLink = document.createElement('div');\n",
              "          docLink.innerHTML = docLinkHtml;\n",
              "          element.appendChild(docLink);\n",
              "        }\n",
              "      </script>\n",
              "    </div>\n",
              "  </div>\n",
              "  "
            ]
          },
          "metadata": {},
          "execution_count": 85
        }
      ],
      "source": [
        "# UK\n",
        "filename = 'Raw_Excel_Files/UK.xlsx'\n",
        "uk = pd.read_excel(filename, index_col=None, header=0)\n",
        "\n",
        "\n",
        "# add a column 'Country' to diferentiate the data in the consilidated dataframe\n",
        "uk['Country']= 'UK'\n",
        "\n",
        "# check dataframe shape, dimensions after adding the new column\n",
        "print('Dataframe Shape: ', uk.shape)\n",
        "print('nb of columns: ', len(uk.columns))\n",
        "print('nb of rows: ', len(uk))\n",
        "\n",
        "# print column names \n",
        "print('column names: ', uk.columns)\n",
        "\n",
        "# visualize first rows\n",
        "uk.head()"
      ]
    },
    {
      "cell_type": "code",
      "execution_count": null,
      "metadata": {
        "id": "4Ux4Edm3urZV"
      },
      "outputs": [],
      "source": [
        "# save uk df as an excel in the Processed_Files folder\n",
        "\n",
        "uk.to_excel(\"Processed_Files/uk_df.xlsx\",\n",
        "             sheet_name='UK') "
      ]
    },
    {
      "cell_type": "code",
      "source": [
        "# and now in Processed_Files folder you'll have the new excel file \"uk_df.xlsx\" that you just created \n",
        "os.listdir('Processed_Files')"
      ],
      "metadata": {
        "colab": {
          "base_uri": "https://localhost:8080/"
        },
        "id": "ELjUGJ9cOSH4",
        "outputId": "39821eda-8bb7-462a-c70a-ce7c67b02566"
      },
      "execution_count": null,
      "outputs": [
        {
          "output_type": "execute_result",
          "data": {
            "text/plain": [
              "['uk_df.xlsx']"
            ]
          },
          "metadata": {},
          "execution_count": 87
        }
      ]
    },
    {
      "cell_type": "code",
      "source": [
        "#download file to local machine\n",
        "files.download(\"Processed_Files/uk_df.xlsx\")"
      ],
      "metadata": {
        "colab": {
          "base_uri": "https://localhost:8080/",
          "height": 17
        },
        "id": "5kEDtQrTjaQJ",
        "outputId": "e2aa1b5d-b255-4104-e4ad-483e7b951fe2"
      },
      "execution_count": null,
      "outputs": [
        {
          "output_type": "display_data",
          "data": {
            "text/plain": [
              "<IPython.core.display.Javascript object>"
            ],
            "application/javascript": [
              "\n",
              "    async function download(id, filename, size) {\n",
              "      if (!google.colab.kernel.accessAllowed) {\n",
              "        return;\n",
              "      }\n",
              "      const div = document.createElement('div');\n",
              "      const label = document.createElement('label');\n",
              "      label.textContent = `Downloading \"${filename}\": `;\n",
              "      div.appendChild(label);\n",
              "      const progress = document.createElement('progress');\n",
              "      progress.max = size;\n",
              "      div.appendChild(progress);\n",
              "      document.body.appendChild(div);\n",
              "\n",
              "      const buffers = [];\n",
              "      let downloaded = 0;\n",
              "\n",
              "      const channel = await google.colab.kernel.comms.open(id);\n",
              "      // Send a message to notify the kernel that we're ready.\n",
              "      channel.send({})\n",
              "\n",
              "      for await (const message of channel.messages) {\n",
              "        // Send a message to notify the kernel that we're ready.\n",
              "        channel.send({})\n",
              "        if (message.buffers) {\n",
              "          for (const buffer of message.buffers) {\n",
              "            buffers.push(buffer);\n",
              "            downloaded += buffer.byteLength;\n",
              "            progress.value = downloaded;\n",
              "          }\n",
              "        }\n",
              "      }\n",
              "      const blob = new Blob(buffers, {type: 'application/binary'});\n",
              "      const a = document.createElement('a');\n",
              "      a.href = window.URL.createObjectURL(blob);\n",
              "      a.download = filename;\n",
              "      div.appendChild(a);\n",
              "      a.click();\n",
              "      div.remove();\n",
              "    }\n",
              "  "
            ]
          },
          "metadata": {}
        },
        {
          "output_type": "display_data",
          "data": {
            "text/plain": [
              "<IPython.core.display.Javascript object>"
            ],
            "application/javascript": [
              "download(\"download_e4b977bd-da44-40f0-a742-e73157fcb41e\", \"uk_df.xlsx\", 24386)"
            ]
          },
          "metadata": {}
        }
      ]
    },
    {
      "cell_type": "markdown",
      "metadata": {
        "id": "oVUypWR__dfa"
      },
      "source": [
        "## Single excel file with separate sheet by country"
      ]
    },
    {
      "cell_type": "markdown",
      "metadata": {
        "id": "1PfPXAglA_5-"
      },
      "source": [
        "Create an excel file where country would be on a separate sheet"
      ]
    },
    {
      "cell_type": "code",
      "execution_count": null,
      "metadata": {
        "id": "m9lLicSB_rER"
      },
      "outputs": [],
      "source": [
        "# create excel writer in the Processed_Files folder with the name 'Consolidation_by_sheet'\n",
        "writer = pd.ExcelWriter('Processed_Files/Consolidated_by_sheet.xlsx')\n",
        "# write dataframe to excel sheet named 'marks'\n",
        "uk.to_excel(writer, 'UK')\n",
        "fr.to_excel(writer, 'FR')\n",
        "de.to_excel(writer, 'DE')\n",
        "\n",
        "# - > !!!! save and close the excel file (important)\n",
        "writer.save()\n",
        "writer.close()"
      ]
    },
    {
      "cell_type": "code",
      "source": [
        "#download file to local machine\n",
        "files.download(\"Processed_Files/Consolidated_by_sheet.xlsx\")"
      ],
      "metadata": {
        "colab": {
          "base_uri": "https://localhost:8080/",
          "height": 17
        },
        "id": "3NZP8au8kPlK",
        "outputId": "068cf328-d2b7-4a80-97a5-b211c883e58c"
      },
      "execution_count": null,
      "outputs": [
        {
          "output_type": "display_data",
          "data": {
            "text/plain": [
              "<IPython.core.display.Javascript object>"
            ],
            "application/javascript": [
              "\n",
              "    async function download(id, filename, size) {\n",
              "      if (!google.colab.kernel.accessAllowed) {\n",
              "        return;\n",
              "      }\n",
              "      const div = document.createElement('div');\n",
              "      const label = document.createElement('label');\n",
              "      label.textContent = `Downloading \"${filename}\": `;\n",
              "      div.appendChild(label);\n",
              "      const progress = document.createElement('progress');\n",
              "      progress.max = size;\n",
              "      div.appendChild(progress);\n",
              "      document.body.appendChild(div);\n",
              "\n",
              "      const buffers = [];\n",
              "      let downloaded = 0;\n",
              "\n",
              "      const channel = await google.colab.kernel.comms.open(id);\n",
              "      // Send a message to notify the kernel that we're ready.\n",
              "      channel.send({})\n",
              "\n",
              "      for await (const message of channel.messages) {\n",
              "        // Send a message to notify the kernel that we're ready.\n",
              "        channel.send({})\n",
              "        if (message.buffers) {\n",
              "          for (const buffer of message.buffers) {\n",
              "            buffers.push(buffer);\n",
              "            downloaded += buffer.byteLength;\n",
              "            progress.value = downloaded;\n",
              "          }\n",
              "        }\n",
              "      }\n",
              "      const blob = new Blob(buffers, {type: 'application/binary'});\n",
              "      const a = document.createElement('a');\n",
              "      a.href = window.URL.createObjectURL(blob);\n",
              "      a.download = filename;\n",
              "      div.appendChild(a);\n",
              "      a.click();\n",
              "      div.remove();\n",
              "    }\n",
              "  "
            ]
          },
          "metadata": {}
        },
        {
          "output_type": "display_data",
          "data": {
            "text/plain": [
              "<IPython.core.display.Javascript object>"
            ],
            "application/javascript": [
              "download(\"download_9e1c9e95-4205-4e87-bde3-368b9adb997d\", \"Consolidated_by_sheet.xlsx\", 184714)"
            ]
          },
          "metadata": {}
        }
      ]
    },
    {
      "cell_type": "code",
      "source": [
        "# and now in Processed_Files folder you'll have the new excel file \"Consolidated_by_sheet.xlsx\" that you just created \n",
        "os.listdir('Processed_Files')"
      ],
      "metadata": {
        "colab": {
          "base_uri": "https://localhost:8080/"
        },
        "id": "MoPSu6oXO_WE",
        "outputId": "bab0c77f-0d8e-43bd-e53d-23574abf4452"
      },
      "execution_count": null,
      "outputs": [
        {
          "output_type": "execute_result",
          "data": {
            "text/plain": [
              "['uk_df.xlsx', 'Consolidated_by_sheet.xlsx']"
            ]
          },
          "metadata": {},
          "execution_count": 75
        }
      ]
    },
    {
      "cell_type": "markdown",
      "metadata": {
        "id": "RyLObXdTBH1N"
      },
      "source": [
        "## Consolidate all excels into a single excel sheet"
      ]
    },
    {
      "cell_type": "code",
      "execution_count": null,
      "metadata": {
        "id": "qWGHukDy_dfb",
        "colab": {
          "base_uri": "https://localhost:8080/",
          "height": 409
        },
        "outputId": "b2dc91e9-d26f-47a7-aca9-d352dee9a822"
      },
      "outputs": [
        {
          "output_type": "stream",
          "name": "stdout",
          "text": [
            "(1209, 34)\n"
          ]
        },
        {
          "output_type": "execute_result",
          "data": {
            "text/plain": [
              "        Date        Name Mannschaft  Rohe Präsenz (min)  Pause (Minuten)  \\\n",
              "0 2022-04-12  Employee_1     TEAM_1               102.0              0.0   \n",
              "1 2022-04-13  Employee_1     TEAM_1               299.0              0.0   \n",
              "2 2022-04-19  Employee_1     TEAM_1               478.0              0.0   \n",
              "3 2022-04-20  Employee_1     TEAM_1               427.0              0.0   \n",
              "4 2022-04-21  Employee_1     TEAM_1               482.0              0.0   \n",
              "\n",
              "   Nettopräsenz (Min.)  Behandlung (min)       DMT  Productiviy  \\\n",
              "0                102.0               4.0  00:02:08          0.6   \n",
              "1                299.0             168.0  00:42:00          0.4   \n",
              "2                478.0             275.0  00:16:12          2.0   \n",
              "3                427.0             142.0  00:12:56          1.4   \n",
              "4                482.0             129.0  00:16:12          1.0   \n",
              "\n",
              "   Processed tickets  Closed Tickets  FTE (processed)  FTE (presence)  \\\n",
              "0                2.0             1.0             0.00            0.25   \n",
              "1                4.0             2.0             0.50            0.75   \n",
              "2               17.0            16.0             0.75            1.00   \n",
              "3               11.0            10.0             0.50            1.00   \n",
              "4                8.0             8.0             0.50            1.00   \n",
              "\n",
              "   FTE weighted Country Nom/Prénom EQUIPE  Présence brute (min)  Pause (min)  \\\n",
              "0          0.00      DE        NaN    NaN                   NaN          NaN   \n",
              "1          0.50      DE        NaN    NaN                   NaN          NaN   \n",
              "2          0.75      DE        NaN    NaN                   NaN          NaN   \n",
              "3          0.50      DE        NaN    NaN                   NaN          NaN   \n",
              "4          0.50      DE        NaN    NaN                   NaN          NaN   \n",
              "\n",
              "   Présente nette (min)  Traitement (min)  Productivité horaire  \\\n",
              "0                   NaN               NaN                   NaN   \n",
              "1                   NaN               NaN                   NaN   \n",
              "2                   NaN               NaN                   NaN   \n",
              "3                   NaN               NaN                   NaN   \n",
              "4                   NaN               NaN                   NaN   \n",
              "\n",
              "   Tickets traités  Tickets clos  FTE (traitement)  FTE (présence)  \\\n",
              "0              NaN           NaN               NaN             NaN   \n",
              "1              NaN           NaN               NaN             NaN   \n",
              "2              NaN           NaN               NaN             NaN   \n",
              "3              NaN           NaN               NaN             NaN   \n",
              "4              NaN           NaN               NaN             NaN   \n",
              "\n",
              "   FTE pondéré Team  Presence  Presence net (min)  Processed (min)  \\\n",
              "0          NaN  NaN       NaN                 NaN              NaN   \n",
              "1          NaN  NaN       NaN                 NaN              NaN   \n",
              "2          NaN  NaN       NaN                 NaN              NaN   \n",
              "3          NaN  NaN       NaN                 NaN              NaN   \n",
              "4          NaN  NaN       NaN                 NaN              NaN   \n",
              "\n",
              "   Productivity hours  Closed tickets  FTE (process)  \n",
              "0                 NaN             NaN            NaN  \n",
              "1                 NaN             NaN            NaN  \n",
              "2                 NaN             NaN            NaN  \n",
              "3                 NaN             NaN            NaN  \n",
              "4                 NaN             NaN            NaN  "
            ],
            "text/html": [
              "\n",
              "  <div id=\"df-0eb5dfd9-863b-494e-8be5-8401232dae94\">\n",
              "    <div class=\"colab-df-container\">\n",
              "      <div>\n",
              "<style scoped>\n",
              "    .dataframe tbody tr th:only-of-type {\n",
              "        vertical-align: middle;\n",
              "    }\n",
              "\n",
              "    .dataframe tbody tr th {\n",
              "        vertical-align: top;\n",
              "    }\n",
              "\n",
              "    .dataframe thead th {\n",
              "        text-align: right;\n",
              "    }\n",
              "</style>\n",
              "<table border=\"1\" class=\"dataframe\">\n",
              "  <thead>\n",
              "    <tr style=\"text-align: right;\">\n",
              "      <th></th>\n",
              "      <th>Date</th>\n",
              "      <th>Name</th>\n",
              "      <th>Mannschaft</th>\n",
              "      <th>Rohe Präsenz (min)</th>\n",
              "      <th>Pause (Minuten)</th>\n",
              "      <th>Nettopräsenz (Min.)</th>\n",
              "      <th>Behandlung (min)</th>\n",
              "      <th>DMT</th>\n",
              "      <th>Productiviy</th>\n",
              "      <th>Processed tickets</th>\n",
              "      <th>Closed Tickets</th>\n",
              "      <th>FTE (processed)</th>\n",
              "      <th>FTE (presence)</th>\n",
              "      <th>FTE weighted</th>\n",
              "      <th>Country</th>\n",
              "      <th>Nom/Prénom</th>\n",
              "      <th>EQUIPE</th>\n",
              "      <th>Présence brute (min)</th>\n",
              "      <th>Pause (min)</th>\n",
              "      <th>Présente nette (min)</th>\n",
              "      <th>Traitement (min)</th>\n",
              "      <th>Productivité horaire</th>\n",
              "      <th>Tickets traités</th>\n",
              "      <th>Tickets clos</th>\n",
              "      <th>FTE (traitement)</th>\n",
              "      <th>FTE (présence)</th>\n",
              "      <th>FTE pondéré</th>\n",
              "      <th>Team</th>\n",
              "      <th>Presence</th>\n",
              "      <th>Presence net (min)</th>\n",
              "      <th>Processed (min)</th>\n",
              "      <th>Productivity hours</th>\n",
              "      <th>Closed tickets</th>\n",
              "      <th>FTE (process)</th>\n",
              "    </tr>\n",
              "  </thead>\n",
              "  <tbody>\n",
              "    <tr>\n",
              "      <th>0</th>\n",
              "      <td>2022-04-12</td>\n",
              "      <td>Employee_1</td>\n",
              "      <td>TEAM_1</td>\n",
              "      <td>102.0</td>\n",
              "      <td>0.0</td>\n",
              "      <td>102.0</td>\n",
              "      <td>4.0</td>\n",
              "      <td>00:02:08</td>\n",
              "      <td>0.6</td>\n",
              "      <td>2.0</td>\n",
              "      <td>1.0</td>\n",
              "      <td>0.00</td>\n",
              "      <td>0.25</td>\n",
              "      <td>0.00</td>\n",
              "      <td>DE</td>\n",
              "      <td>NaN</td>\n",
              "      <td>NaN</td>\n",
              "      <td>NaN</td>\n",
              "      <td>NaN</td>\n",
              "      <td>NaN</td>\n",
              "      <td>NaN</td>\n",
              "      <td>NaN</td>\n",
              "      <td>NaN</td>\n",
              "      <td>NaN</td>\n",
              "      <td>NaN</td>\n",
              "      <td>NaN</td>\n",
              "      <td>NaN</td>\n",
              "      <td>NaN</td>\n",
              "      <td>NaN</td>\n",
              "      <td>NaN</td>\n",
              "      <td>NaN</td>\n",
              "      <td>NaN</td>\n",
              "      <td>NaN</td>\n",
              "      <td>NaN</td>\n",
              "    </tr>\n",
              "    <tr>\n",
              "      <th>1</th>\n",
              "      <td>2022-04-13</td>\n",
              "      <td>Employee_1</td>\n",
              "      <td>TEAM_1</td>\n",
              "      <td>299.0</td>\n",
              "      <td>0.0</td>\n",
              "      <td>299.0</td>\n",
              "      <td>168.0</td>\n",
              "      <td>00:42:00</td>\n",
              "      <td>0.4</td>\n",
              "      <td>4.0</td>\n",
              "      <td>2.0</td>\n",
              "      <td>0.50</td>\n",
              "      <td>0.75</td>\n",
              "      <td>0.50</td>\n",
              "      <td>DE</td>\n",
              "      <td>NaN</td>\n",
              "      <td>NaN</td>\n",
              "      <td>NaN</td>\n",
              "      <td>NaN</td>\n",
              "      <td>NaN</td>\n",
              "      <td>NaN</td>\n",
              "      <td>NaN</td>\n",
              "      <td>NaN</td>\n",
              "      <td>NaN</td>\n",
              "      <td>NaN</td>\n",
              "      <td>NaN</td>\n",
              "      <td>NaN</td>\n",
              "      <td>NaN</td>\n",
              "      <td>NaN</td>\n",
              "      <td>NaN</td>\n",
              "      <td>NaN</td>\n",
              "      <td>NaN</td>\n",
              "      <td>NaN</td>\n",
              "      <td>NaN</td>\n",
              "    </tr>\n",
              "    <tr>\n",
              "      <th>2</th>\n",
              "      <td>2022-04-19</td>\n",
              "      <td>Employee_1</td>\n",
              "      <td>TEAM_1</td>\n",
              "      <td>478.0</td>\n",
              "      <td>0.0</td>\n",
              "      <td>478.0</td>\n",
              "      <td>275.0</td>\n",
              "      <td>00:16:12</td>\n",
              "      <td>2.0</td>\n",
              "      <td>17.0</td>\n",
              "      <td>16.0</td>\n",
              "      <td>0.75</td>\n",
              "      <td>1.00</td>\n",
              "      <td>0.75</td>\n",
              "      <td>DE</td>\n",
              "      <td>NaN</td>\n",
              "      <td>NaN</td>\n",
              "      <td>NaN</td>\n",
              "      <td>NaN</td>\n",
              "      <td>NaN</td>\n",
              "      <td>NaN</td>\n",
              "      <td>NaN</td>\n",
              "      <td>NaN</td>\n",
              "      <td>NaN</td>\n",
              "      <td>NaN</td>\n",
              "      <td>NaN</td>\n",
              "      <td>NaN</td>\n",
              "      <td>NaN</td>\n",
              "      <td>NaN</td>\n",
              "      <td>NaN</td>\n",
              "      <td>NaN</td>\n",
              "      <td>NaN</td>\n",
              "      <td>NaN</td>\n",
              "      <td>NaN</td>\n",
              "    </tr>\n",
              "    <tr>\n",
              "      <th>3</th>\n",
              "      <td>2022-04-20</td>\n",
              "      <td>Employee_1</td>\n",
              "      <td>TEAM_1</td>\n",
              "      <td>427.0</td>\n",
              "      <td>0.0</td>\n",
              "      <td>427.0</td>\n",
              "      <td>142.0</td>\n",
              "      <td>00:12:56</td>\n",
              "      <td>1.4</td>\n",
              "      <td>11.0</td>\n",
              "      <td>10.0</td>\n",
              "      <td>0.50</td>\n",
              "      <td>1.00</td>\n",
              "      <td>0.50</td>\n",
              "      <td>DE</td>\n",
              "      <td>NaN</td>\n",
              "      <td>NaN</td>\n",
              "      <td>NaN</td>\n",
              "      <td>NaN</td>\n",
              "      <td>NaN</td>\n",
              "      <td>NaN</td>\n",
              "      <td>NaN</td>\n",
              "      <td>NaN</td>\n",
              "      <td>NaN</td>\n",
              "      <td>NaN</td>\n",
              "      <td>NaN</td>\n",
              "      <td>NaN</td>\n",
              "      <td>NaN</td>\n",
              "      <td>NaN</td>\n",
              "      <td>NaN</td>\n",
              "      <td>NaN</td>\n",
              "      <td>NaN</td>\n",
              "      <td>NaN</td>\n",
              "      <td>NaN</td>\n",
              "    </tr>\n",
              "    <tr>\n",
              "      <th>4</th>\n",
              "      <td>2022-04-21</td>\n",
              "      <td>Employee_1</td>\n",
              "      <td>TEAM_1</td>\n",
              "      <td>482.0</td>\n",
              "      <td>0.0</td>\n",
              "      <td>482.0</td>\n",
              "      <td>129.0</td>\n",
              "      <td>00:16:12</td>\n",
              "      <td>1.0</td>\n",
              "      <td>8.0</td>\n",
              "      <td>8.0</td>\n",
              "      <td>0.50</td>\n",
              "      <td>1.00</td>\n",
              "      <td>0.50</td>\n",
              "      <td>DE</td>\n",
              "      <td>NaN</td>\n",
              "      <td>NaN</td>\n",
              "      <td>NaN</td>\n",
              "      <td>NaN</td>\n",
              "      <td>NaN</td>\n",
              "      <td>NaN</td>\n",
              "      <td>NaN</td>\n",
              "      <td>NaN</td>\n",
              "      <td>NaN</td>\n",
              "      <td>NaN</td>\n",
              "      <td>NaN</td>\n",
              "      <td>NaN</td>\n",
              "      <td>NaN</td>\n",
              "      <td>NaN</td>\n",
              "      <td>NaN</td>\n",
              "      <td>NaN</td>\n",
              "      <td>NaN</td>\n",
              "      <td>NaN</td>\n",
              "      <td>NaN</td>\n",
              "    </tr>\n",
              "  </tbody>\n",
              "</table>\n",
              "</div>\n",
              "      <button class=\"colab-df-convert\" onclick=\"convertToInteractive('df-0eb5dfd9-863b-494e-8be5-8401232dae94')\"\n",
              "              title=\"Convert this dataframe to an interactive table.\"\n",
              "              style=\"display:none;\">\n",
              "        \n",
              "  <svg xmlns=\"http://www.w3.org/2000/svg\" height=\"24px\"viewBox=\"0 0 24 24\"\n",
              "       width=\"24px\">\n",
              "    <path d=\"M0 0h24v24H0V0z\" fill=\"none\"/>\n",
              "    <path d=\"M18.56 5.44l.94 2.06.94-2.06 2.06-.94-2.06-.94-.94-2.06-.94 2.06-2.06.94zm-11 1L8.5 8.5l.94-2.06 2.06-.94-2.06-.94L8.5 2.5l-.94 2.06-2.06.94zm10 10l.94 2.06.94-2.06 2.06-.94-2.06-.94-.94-2.06-.94 2.06-2.06.94z\"/><path d=\"M17.41 7.96l-1.37-1.37c-.4-.4-.92-.59-1.43-.59-.52 0-1.04.2-1.43.59L10.3 9.45l-7.72 7.72c-.78.78-.78 2.05 0 2.83L4 21.41c.39.39.9.59 1.41.59.51 0 1.02-.2 1.41-.59l7.78-7.78 2.81-2.81c.8-.78.8-2.07 0-2.86zM5.41 20L4 18.59l7.72-7.72 1.47 1.35L5.41 20z\"/>\n",
              "  </svg>\n",
              "      </button>\n",
              "      \n",
              "  <style>\n",
              "    .colab-df-container {\n",
              "      display:flex;\n",
              "      flex-wrap:wrap;\n",
              "      gap: 12px;\n",
              "    }\n",
              "\n",
              "    .colab-df-convert {\n",
              "      background-color: #E8F0FE;\n",
              "      border: none;\n",
              "      border-radius: 50%;\n",
              "      cursor: pointer;\n",
              "      display: none;\n",
              "      fill: #1967D2;\n",
              "      height: 32px;\n",
              "      padding: 0 0 0 0;\n",
              "      width: 32px;\n",
              "    }\n",
              "\n",
              "    .colab-df-convert:hover {\n",
              "      background-color: #E2EBFA;\n",
              "      box-shadow: 0px 1px 2px rgba(60, 64, 67, 0.3), 0px 1px 3px 1px rgba(60, 64, 67, 0.15);\n",
              "      fill: #174EA6;\n",
              "    }\n",
              "\n",
              "    [theme=dark] .colab-df-convert {\n",
              "      background-color: #3B4455;\n",
              "      fill: #D2E3FC;\n",
              "    }\n",
              "\n",
              "    [theme=dark] .colab-df-convert:hover {\n",
              "      background-color: #434B5C;\n",
              "      box-shadow: 0px 1px 3px 1px rgba(0, 0, 0, 0.15);\n",
              "      filter: drop-shadow(0px 1px 2px rgba(0, 0, 0, 0.3));\n",
              "      fill: #FFFFFF;\n",
              "    }\n",
              "  </style>\n",
              "\n",
              "      <script>\n",
              "        const buttonEl =\n",
              "          document.querySelector('#df-0eb5dfd9-863b-494e-8be5-8401232dae94 button.colab-df-convert');\n",
              "        buttonEl.style.display =\n",
              "          google.colab.kernel.accessAllowed ? 'block' : 'none';\n",
              "\n",
              "        async function convertToInteractive(key) {\n",
              "          const element = document.querySelector('#df-0eb5dfd9-863b-494e-8be5-8401232dae94');\n",
              "          const dataTable =\n",
              "            await google.colab.kernel.invokeFunction('convertToInteractive',\n",
              "                                                     [key], {});\n",
              "          if (!dataTable) return;\n",
              "\n",
              "          const docLinkHtml = 'Like what you see? Visit the ' +\n",
              "            '<a target=\"_blank\" href=https://colab.research.google.com/notebooks/data_table.ipynb>data table notebook</a>'\n",
              "            + ' to learn more about interactive tables.';\n",
              "          element.innerHTML = '';\n",
              "          dataTable['output_type'] = 'display_data';\n",
              "          await google.colab.output.renderOutput(dataTable, element);\n",
              "          const docLink = document.createElement('div');\n",
              "          docLink.innerHTML = docLinkHtml;\n",
              "          element.appendChild(docLink);\n",
              "        }\n",
              "      </script>\n",
              "    </div>\n",
              "  </div>\n",
              "  "
            ]
          },
          "metadata": {},
          "execution_count": 92
        }
      ],
      "source": [
        "frames = [de, fr, uk]\n",
        "\n",
        "df_concat = pd.concat(frames)\n",
        "\n",
        "print(df_concat.shape)\n",
        "\n",
        "# display first rows\n",
        "df_concat.head()"
      ]
    },
    {
      "cell_type": "code",
      "execution_count": null,
      "metadata": {
        "id": "uCKOn1kI_dfb",
        "colab": {
          "base_uri": "https://localhost:8080/",
          "height": 392
        },
        "outputId": "be4c7d90-3b26-47d4-e346-07b40aff9c1b"
      },
      "outputs": [
        {
          "output_type": "execute_result",
          "data": {
            "text/plain": [
              "          Date         Name Mannschaft  Rohe Präsenz (min)  Pause (Minuten)  \\\n",
              "264 2022-04-14  Employee_24        NaN                 NaN              NaN   \n",
              "265 2022-04-24  Employee_24        NaN                 NaN              NaN   \n",
              "266 2022-04-29  Employee_24        NaN                 NaN              NaN   \n",
              "267 2022-04-24  Employee_25        NaN                 NaN              NaN   \n",
              "268 2022-04-29  Employee_26        NaN                 NaN              NaN   \n",
              "\n",
              "     Nettopräsenz (Min.)  Behandlung (min)       DMT  Productiviy  \\\n",
              "264                  NaN               NaN       NaN          NaN   \n",
              "265                  NaN               NaN  0.008461          NaN   \n",
              "266                  NaN               NaN  0.003194          NaN   \n",
              "267                  NaN               NaN  0.008461          NaN   \n",
              "268                  NaN               NaN  0.003194          NaN   \n",
              "\n",
              "     Processed tickets  Closed Tickets  FTE (processed)  FTE (presence)  \\\n",
              "264                0.0             NaN              NaN             0.5   \n",
              "265                3.0             NaN              NaN             0.5   \n",
              "266               14.0             NaN              NaN             1.0   \n",
              "267                3.0             NaN              NaN             0.5   \n",
              "268               14.0             NaN              NaN             1.0   \n",
              "\n",
              "     FTE weighted Country Nom/Prénom EQUIPE  Présence brute (min)  \\\n",
              "264          0.00      UK        NaN    NaN                   NaN   \n",
              "265          0.00      UK        NaN    NaN                   NaN   \n",
              "266          0.25      UK        NaN    NaN                   NaN   \n",
              "267          0.00      UK        NaN    NaN                   NaN   \n",
              "268          0.25      UK        NaN    NaN                   NaN   \n",
              "\n",
              "     Pause (min)  Présente nette (min)  Traitement (min)  \\\n",
              "264          0.0                   NaN               NaN   \n",
              "265          0.0                   NaN               NaN   \n",
              "266          0.0                   NaN               NaN   \n",
              "267          0.0                   NaN               NaN   \n",
              "268          0.0                   NaN               NaN   \n",
              "\n",
              "     Productivité horaire  Tickets traités  Tickets clos  FTE (traitement)  \\\n",
              "264                   NaN              NaN           NaN               NaN   \n",
              "265                   NaN              NaN           NaN               NaN   \n",
              "266                   NaN              NaN           NaN               NaN   \n",
              "267                   NaN              NaN           NaN               NaN   \n",
              "268                   NaN              NaN           NaN               NaN   \n",
              "\n",
              "     FTE (présence)  FTE pondéré    Team  Presence  Presence net (min)  \\\n",
              "264             NaN          NaN  TEAM_4    123.00               123.0   \n",
              "265             NaN          NaN  TEAM_4    184.00               184.0   \n",
              "266             NaN          NaN  TEAM_4    441.00               441.0   \n",
              "267             NaN          NaN  TEAM_5      1.60               184.0   \n",
              "268             NaN          NaN  TEAM_5      3.41               441.0   \n",
              "\n",
              "     Processed (min)  Productivity hours  Closed tickets  FTE (process)  \n",
              "264              0.0                 0.0             0.0           0.00  \n",
              "265             36.0                 1.3             3.0           0.00  \n",
              "266             64.0                 1.5            11.0           0.25  \n",
              "267             36.0                 1.3             3.0           0.00  \n",
              "268             64.0                 1.5            11.0           0.25  "
            ],
            "text/html": [
              "\n",
              "  <div id=\"df-d495d92d-1d4f-4e04-b789-96b6137e096e\">\n",
              "    <div class=\"colab-df-container\">\n",
              "      <div>\n",
              "<style scoped>\n",
              "    .dataframe tbody tr th:only-of-type {\n",
              "        vertical-align: middle;\n",
              "    }\n",
              "\n",
              "    .dataframe tbody tr th {\n",
              "        vertical-align: top;\n",
              "    }\n",
              "\n",
              "    .dataframe thead th {\n",
              "        text-align: right;\n",
              "    }\n",
              "</style>\n",
              "<table border=\"1\" class=\"dataframe\">\n",
              "  <thead>\n",
              "    <tr style=\"text-align: right;\">\n",
              "      <th></th>\n",
              "      <th>Date</th>\n",
              "      <th>Name</th>\n",
              "      <th>Mannschaft</th>\n",
              "      <th>Rohe Präsenz (min)</th>\n",
              "      <th>Pause (Minuten)</th>\n",
              "      <th>Nettopräsenz (Min.)</th>\n",
              "      <th>Behandlung (min)</th>\n",
              "      <th>DMT</th>\n",
              "      <th>Productiviy</th>\n",
              "      <th>Processed tickets</th>\n",
              "      <th>Closed Tickets</th>\n",
              "      <th>FTE (processed)</th>\n",
              "      <th>FTE (presence)</th>\n",
              "      <th>FTE weighted</th>\n",
              "      <th>Country</th>\n",
              "      <th>Nom/Prénom</th>\n",
              "      <th>EQUIPE</th>\n",
              "      <th>Présence brute (min)</th>\n",
              "      <th>Pause (min)</th>\n",
              "      <th>Présente nette (min)</th>\n",
              "      <th>Traitement (min)</th>\n",
              "      <th>Productivité horaire</th>\n",
              "      <th>Tickets traités</th>\n",
              "      <th>Tickets clos</th>\n",
              "      <th>FTE (traitement)</th>\n",
              "      <th>FTE (présence)</th>\n",
              "      <th>FTE pondéré</th>\n",
              "      <th>Team</th>\n",
              "      <th>Presence</th>\n",
              "      <th>Presence net (min)</th>\n",
              "      <th>Processed (min)</th>\n",
              "      <th>Productivity hours</th>\n",
              "      <th>Closed tickets</th>\n",
              "      <th>FTE (process)</th>\n",
              "    </tr>\n",
              "  </thead>\n",
              "  <tbody>\n",
              "    <tr>\n",
              "      <th>264</th>\n",
              "      <td>2022-04-14</td>\n",
              "      <td>Employee_24</td>\n",
              "      <td>NaN</td>\n",
              "      <td>NaN</td>\n",
              "      <td>NaN</td>\n",
              "      <td>NaN</td>\n",
              "      <td>NaN</td>\n",
              "      <td>NaN</td>\n",
              "      <td>NaN</td>\n",
              "      <td>0.0</td>\n",
              "      <td>NaN</td>\n",
              "      <td>NaN</td>\n",
              "      <td>0.5</td>\n",
              "      <td>0.00</td>\n",
              "      <td>UK</td>\n",
              "      <td>NaN</td>\n",
              "      <td>NaN</td>\n",
              "      <td>NaN</td>\n",
              "      <td>0.0</td>\n",
              "      <td>NaN</td>\n",
              "      <td>NaN</td>\n",
              "      <td>NaN</td>\n",
              "      <td>NaN</td>\n",
              "      <td>NaN</td>\n",
              "      <td>NaN</td>\n",
              "      <td>NaN</td>\n",
              "      <td>NaN</td>\n",
              "      <td>TEAM_4</td>\n",
              "      <td>123.00</td>\n",
              "      <td>123.0</td>\n",
              "      <td>0.0</td>\n",
              "      <td>0.0</td>\n",
              "      <td>0.0</td>\n",
              "      <td>0.00</td>\n",
              "    </tr>\n",
              "    <tr>\n",
              "      <th>265</th>\n",
              "      <td>2022-04-24</td>\n",
              "      <td>Employee_24</td>\n",
              "      <td>NaN</td>\n",
              "      <td>NaN</td>\n",
              "      <td>NaN</td>\n",
              "      <td>NaN</td>\n",
              "      <td>NaN</td>\n",
              "      <td>0.008461</td>\n",
              "      <td>NaN</td>\n",
              "      <td>3.0</td>\n",
              "      <td>NaN</td>\n",
              "      <td>NaN</td>\n",
              "      <td>0.5</td>\n",
              "      <td>0.00</td>\n",
              "      <td>UK</td>\n",
              "      <td>NaN</td>\n",
              "      <td>NaN</td>\n",
              "      <td>NaN</td>\n",
              "      <td>0.0</td>\n",
              "      <td>NaN</td>\n",
              "      <td>NaN</td>\n",
              "      <td>NaN</td>\n",
              "      <td>NaN</td>\n",
              "      <td>NaN</td>\n",
              "      <td>NaN</td>\n",
              "      <td>NaN</td>\n",
              "      <td>NaN</td>\n",
              "      <td>TEAM_4</td>\n",
              "      <td>184.00</td>\n",
              "      <td>184.0</td>\n",
              "      <td>36.0</td>\n",
              "      <td>1.3</td>\n",
              "      <td>3.0</td>\n",
              "      <td>0.00</td>\n",
              "    </tr>\n",
              "    <tr>\n",
              "      <th>266</th>\n",
              "      <td>2022-04-29</td>\n",
              "      <td>Employee_24</td>\n",
              "      <td>NaN</td>\n",
              "      <td>NaN</td>\n",
              "      <td>NaN</td>\n",
              "      <td>NaN</td>\n",
              "      <td>NaN</td>\n",
              "      <td>0.003194</td>\n",
              "      <td>NaN</td>\n",
              "      <td>14.0</td>\n",
              "      <td>NaN</td>\n",
              "      <td>NaN</td>\n",
              "      <td>1.0</td>\n",
              "      <td>0.25</td>\n",
              "      <td>UK</td>\n",
              "      <td>NaN</td>\n",
              "      <td>NaN</td>\n",
              "      <td>NaN</td>\n",
              "      <td>0.0</td>\n",
              "      <td>NaN</td>\n",
              "      <td>NaN</td>\n",
              "      <td>NaN</td>\n",
              "      <td>NaN</td>\n",
              "      <td>NaN</td>\n",
              "      <td>NaN</td>\n",
              "      <td>NaN</td>\n",
              "      <td>NaN</td>\n",
              "      <td>TEAM_4</td>\n",
              "      <td>441.00</td>\n",
              "      <td>441.0</td>\n",
              "      <td>64.0</td>\n",
              "      <td>1.5</td>\n",
              "      <td>11.0</td>\n",
              "      <td>0.25</td>\n",
              "    </tr>\n",
              "    <tr>\n",
              "      <th>267</th>\n",
              "      <td>2022-04-24</td>\n",
              "      <td>Employee_25</td>\n",
              "      <td>NaN</td>\n",
              "      <td>NaN</td>\n",
              "      <td>NaN</td>\n",
              "      <td>NaN</td>\n",
              "      <td>NaN</td>\n",
              "      <td>0.008461</td>\n",
              "      <td>NaN</td>\n",
              "      <td>3.0</td>\n",
              "      <td>NaN</td>\n",
              "      <td>NaN</td>\n",
              "      <td>0.5</td>\n",
              "      <td>0.00</td>\n",
              "      <td>UK</td>\n",
              "      <td>NaN</td>\n",
              "      <td>NaN</td>\n",
              "      <td>NaN</td>\n",
              "      <td>0.0</td>\n",
              "      <td>NaN</td>\n",
              "      <td>NaN</td>\n",
              "      <td>NaN</td>\n",
              "      <td>NaN</td>\n",
              "      <td>NaN</td>\n",
              "      <td>NaN</td>\n",
              "      <td>NaN</td>\n",
              "      <td>NaN</td>\n",
              "      <td>TEAM_5</td>\n",
              "      <td>1.60</td>\n",
              "      <td>184.0</td>\n",
              "      <td>36.0</td>\n",
              "      <td>1.3</td>\n",
              "      <td>3.0</td>\n",
              "      <td>0.00</td>\n",
              "    </tr>\n",
              "    <tr>\n",
              "      <th>268</th>\n",
              "      <td>2022-04-29</td>\n",
              "      <td>Employee_26</td>\n",
              "      <td>NaN</td>\n",
              "      <td>NaN</td>\n",
              "      <td>NaN</td>\n",
              "      <td>NaN</td>\n",
              "      <td>NaN</td>\n",
              "      <td>0.003194</td>\n",
              "      <td>NaN</td>\n",
              "      <td>14.0</td>\n",
              "      <td>NaN</td>\n",
              "      <td>NaN</td>\n",
              "      <td>1.0</td>\n",
              "      <td>0.25</td>\n",
              "      <td>UK</td>\n",
              "      <td>NaN</td>\n",
              "      <td>NaN</td>\n",
              "      <td>NaN</td>\n",
              "      <td>0.0</td>\n",
              "      <td>NaN</td>\n",
              "      <td>NaN</td>\n",
              "      <td>NaN</td>\n",
              "      <td>NaN</td>\n",
              "      <td>NaN</td>\n",
              "      <td>NaN</td>\n",
              "      <td>NaN</td>\n",
              "      <td>NaN</td>\n",
              "      <td>TEAM_5</td>\n",
              "      <td>3.41</td>\n",
              "      <td>441.0</td>\n",
              "      <td>64.0</td>\n",
              "      <td>1.5</td>\n",
              "      <td>11.0</td>\n",
              "      <td>0.25</td>\n",
              "    </tr>\n",
              "  </tbody>\n",
              "</table>\n",
              "</div>\n",
              "      <button class=\"colab-df-convert\" onclick=\"convertToInteractive('df-d495d92d-1d4f-4e04-b789-96b6137e096e')\"\n",
              "              title=\"Convert this dataframe to an interactive table.\"\n",
              "              style=\"display:none;\">\n",
              "        \n",
              "  <svg xmlns=\"http://www.w3.org/2000/svg\" height=\"24px\"viewBox=\"0 0 24 24\"\n",
              "       width=\"24px\">\n",
              "    <path d=\"M0 0h24v24H0V0z\" fill=\"none\"/>\n",
              "    <path d=\"M18.56 5.44l.94 2.06.94-2.06 2.06-.94-2.06-.94-.94-2.06-.94 2.06-2.06.94zm-11 1L8.5 8.5l.94-2.06 2.06-.94-2.06-.94L8.5 2.5l-.94 2.06-2.06.94zm10 10l.94 2.06.94-2.06 2.06-.94-2.06-.94-.94-2.06-.94 2.06-2.06.94z\"/><path d=\"M17.41 7.96l-1.37-1.37c-.4-.4-.92-.59-1.43-.59-.52 0-1.04.2-1.43.59L10.3 9.45l-7.72 7.72c-.78.78-.78 2.05 0 2.83L4 21.41c.39.39.9.59 1.41.59.51 0 1.02-.2 1.41-.59l7.78-7.78 2.81-2.81c.8-.78.8-2.07 0-2.86zM5.41 20L4 18.59l7.72-7.72 1.47 1.35L5.41 20z\"/>\n",
              "  </svg>\n",
              "      </button>\n",
              "      \n",
              "  <style>\n",
              "    .colab-df-container {\n",
              "      display:flex;\n",
              "      flex-wrap:wrap;\n",
              "      gap: 12px;\n",
              "    }\n",
              "\n",
              "    .colab-df-convert {\n",
              "      background-color: #E8F0FE;\n",
              "      border: none;\n",
              "      border-radius: 50%;\n",
              "      cursor: pointer;\n",
              "      display: none;\n",
              "      fill: #1967D2;\n",
              "      height: 32px;\n",
              "      padding: 0 0 0 0;\n",
              "      width: 32px;\n",
              "    }\n",
              "\n",
              "    .colab-df-convert:hover {\n",
              "      background-color: #E2EBFA;\n",
              "      box-shadow: 0px 1px 2px rgba(60, 64, 67, 0.3), 0px 1px 3px 1px rgba(60, 64, 67, 0.15);\n",
              "      fill: #174EA6;\n",
              "    }\n",
              "\n",
              "    [theme=dark] .colab-df-convert {\n",
              "      background-color: #3B4455;\n",
              "      fill: #D2E3FC;\n",
              "    }\n",
              "\n",
              "    [theme=dark] .colab-df-convert:hover {\n",
              "      background-color: #434B5C;\n",
              "      box-shadow: 0px 1px 3px 1px rgba(0, 0, 0, 0.15);\n",
              "      filter: drop-shadow(0px 1px 2px rgba(0, 0, 0, 0.3));\n",
              "      fill: #FFFFFF;\n",
              "    }\n",
              "  </style>\n",
              "\n",
              "      <script>\n",
              "        const buttonEl =\n",
              "          document.querySelector('#df-d495d92d-1d4f-4e04-b789-96b6137e096e button.colab-df-convert');\n",
              "        buttonEl.style.display =\n",
              "          google.colab.kernel.accessAllowed ? 'block' : 'none';\n",
              "\n",
              "        async function convertToInteractive(key) {\n",
              "          const element = document.querySelector('#df-d495d92d-1d4f-4e04-b789-96b6137e096e');\n",
              "          const dataTable =\n",
              "            await google.colab.kernel.invokeFunction('convertToInteractive',\n",
              "                                                     [key], {});\n",
              "          if (!dataTable) return;\n",
              "\n",
              "          const docLinkHtml = 'Like what you see? Visit the ' +\n",
              "            '<a target=\"_blank\" href=https://colab.research.google.com/notebooks/data_table.ipynb>data table notebook</a>'\n",
              "            + ' to learn more about interactive tables.';\n",
              "          element.innerHTML = '';\n",
              "          dataTable['output_type'] = 'display_data';\n",
              "          await google.colab.output.renderOutput(dataTable, element);\n",
              "          const docLink = document.createElement('div');\n",
              "          docLink.innerHTML = docLinkHtml;\n",
              "          element.appendChild(docLink);\n",
              "        }\n",
              "      </script>\n",
              "    </div>\n",
              "  </div>\n",
              "  "
            ]
          },
          "metadata": {},
          "execution_count": 94
        }
      ],
      "source": [
        "# diplay last rows\n",
        "df_concat.tail()"
      ]
    },
    {
      "cell_type": "code",
      "execution_count": null,
      "metadata": {
        "id": "t_eBZayU_dfc",
        "colab": {
          "base_uri": "https://localhost:8080/"
        },
        "outputId": "e6533c2d-f149-4e98-8ad1-614056c7ed64"
      },
      "outputs": [
        {
          "output_type": "stream",
          "name": "stdout",
          "text": [
            "Column nb of DE:  15 Index(['Date', 'Name', 'Mannschaft', 'Rohe Präsenz (min)', 'Pause (Minuten)',\n",
            "       'Nettopräsenz (Min.)', 'Behandlung (min)', 'DMT', 'Productiviy',\n",
            "       'Processed tickets', 'Closed Tickets', 'FTE (processed)',\n",
            "       'FTE (presence)', 'FTE weighted', 'Country'],\n",
            "      dtype='object')\n",
            "Column nb of FR:  15 Index(['Date', 'Nom/Prénom', 'EQUIPE', 'Présence brute (min)', 'Pause (min)',\n",
            "       'Présente nette (min)', 'Traitement (min)', 'DMT',\n",
            "       'Productivité horaire', 'Tickets traités', 'Tickets clos',\n",
            "       'FTE (traitement)', 'FTE (présence)', 'FTE pondéré', 'Country'],\n",
            "      dtype='object')\n",
            "Column nb of UK:  15 Index(['Date', 'Name', 'Team', 'Presence', 'Pause (min)', 'Presence net (min)',\n",
            "       'Processed (min)', 'DMT', 'Productivity hours', 'Processed tickets',\n",
            "       'Closed tickets', 'FTE (process)', 'FTE (presence)', 'FTE weighted',\n",
            "       'Country'],\n",
            "      dtype='object')\n"
          ]
        }
      ],
      "source": [
        "# to consolidate multiple dataframes, there are 3 rules:\n",
        "# they have to have the same nb of columns (here all 3 df have 15 columns)\n",
        "# to concatenate by column names, all df have to have the same column names\n",
        "# the dfs must have same column order\n",
        "\n",
        "print(\"Column nb of DE: \", len(de.columns), de.columns)\n",
        "print(\"Column nb of FR: \", len(fr.columns), fr.columns)\n",
        "print(\"Column nb of UK: \", len(uk.columns), uk.columns)"
      ]
    },
    {
      "cell_type": "code",
      "execution_count": null,
      "metadata": {
        "id": "ncF6rqze_dfc",
        "colab": {
          "base_uri": "https://localhost:8080/"
        },
        "outputId": "32879b57-3acf-4807-bdaf-48377089c57b"
      },
      "outputs": [
        {
          "output_type": "stream",
          "name": "stdout",
          "text": [
            "Column nb of DE:  15 Index(['Date', 'Name', 'Team', 'Presence', 'Pause (min)', 'Presence net (min)',\n",
            "       'Processed (min)', 'DMT', 'Productivity hours', 'Processed tickets',\n",
            "       'Closed tickets', 'FTE (process)', 'FTE (presence)', 'FTE weighted',\n",
            "       'Country'],\n",
            "      dtype='object')\n",
            "Column nb of FR:  15 Index(['Date', 'Name', 'Team', 'Presence', 'Pause (min)', 'Presence net (min)',\n",
            "       'Processed (min)', 'DMT', 'Productivity hours', 'Processed tickets',\n",
            "       'Closed tickets', 'FTE (process)', 'FTE (presence)', 'FTE weighted',\n",
            "       'Country'],\n",
            "      dtype='object')\n",
            "Column nb of UK:  15 Index(['Date', 'Name', 'Team', 'Presence', 'Pause (min)', 'Presence net (min)',\n",
            "       'Processed (min)', 'DMT', 'Productivity hours', 'Processed tickets',\n",
            "       'Closed tickets', 'FTE (process)', 'FTE (presence)', 'FTE weighted',\n",
            "       'Country'],\n",
            "      dtype='object')\n"
          ]
        }
      ],
      "source": [
        "# rename the dfs columns o they would be identical\n",
        "# we will use english column names for all dfs\n",
        "\n",
        "columns = uk.columns\n",
        "\n",
        "fr.columns = columns\n",
        "de.columns = columns\n",
        "\n",
        "print(\"Column nb of DE: \", len(de.columns), de.columns)\n",
        "print(\"Column nb of FR: \", len(fr.columns), fr.columns)\n",
        "print(\"Column nb of UK: \", len(uk.columns), uk.columns)"
      ]
    },
    {
      "cell_type": "code",
      "execution_count": null,
      "metadata": {
        "id": "sLHprNJd_dfd",
        "colab": {
          "base_uri": "https://localhost:8080/",
          "height": 409
        },
        "outputId": "f9281a51-c4ac-44e7-e838-f2813d553572"
      },
      "outputs": [
        {
          "output_type": "stream",
          "name": "stdout",
          "text": [
            "(1209, 15)\n"
          ]
        },
        {
          "output_type": "execute_result",
          "data": {
            "text/plain": [
              "        Date        Name    Team  Presence  Pause (min)  Presence net (min)  \\\n",
              "0 2022-04-12  Employee_1  TEAM_1     102.0          0.0                 102   \n",
              "1 2022-04-13  Employee_1  TEAM_1     299.0          0.0                 299   \n",
              "2 2022-04-19  Employee_1  TEAM_1     478.0          0.0                 478   \n",
              "3 2022-04-20  Employee_1  TEAM_1     427.0          0.0                 427   \n",
              "4 2022-04-21  Employee_1  TEAM_1     482.0          0.0                 482   \n",
              "\n",
              "   Processed (min)       DMT  Productivity hours  Processed tickets  \\\n",
              "0                4  00:02:08                 0.6                  2   \n",
              "1              168  00:42:00                 0.4                  4   \n",
              "2              275  00:16:12                 2.0                 17   \n",
              "3              142  00:12:56                 1.4                 11   \n",
              "4              129  00:16:12                 1.0                  8   \n",
              "\n",
              "   Closed tickets  FTE (process)  FTE (presence)  FTE weighted Country  \n",
              "0               1           0.00            0.25          0.00      DE  \n",
              "1               2           0.50            0.75          0.50      DE  \n",
              "2              16           0.75            1.00          0.75      DE  \n",
              "3              10           0.50            1.00          0.50      DE  \n",
              "4               8           0.50            1.00          0.50      DE  "
            ],
            "text/html": [
              "\n",
              "  <div id=\"df-08deef65-f146-4605-8244-0671f800254e\">\n",
              "    <div class=\"colab-df-container\">\n",
              "      <div>\n",
              "<style scoped>\n",
              "    .dataframe tbody tr th:only-of-type {\n",
              "        vertical-align: middle;\n",
              "    }\n",
              "\n",
              "    .dataframe tbody tr th {\n",
              "        vertical-align: top;\n",
              "    }\n",
              "\n",
              "    .dataframe thead th {\n",
              "        text-align: right;\n",
              "    }\n",
              "</style>\n",
              "<table border=\"1\" class=\"dataframe\">\n",
              "  <thead>\n",
              "    <tr style=\"text-align: right;\">\n",
              "      <th></th>\n",
              "      <th>Date</th>\n",
              "      <th>Name</th>\n",
              "      <th>Team</th>\n",
              "      <th>Presence</th>\n",
              "      <th>Pause (min)</th>\n",
              "      <th>Presence net (min)</th>\n",
              "      <th>Processed (min)</th>\n",
              "      <th>DMT</th>\n",
              "      <th>Productivity hours</th>\n",
              "      <th>Processed tickets</th>\n",
              "      <th>Closed tickets</th>\n",
              "      <th>FTE (process)</th>\n",
              "      <th>FTE (presence)</th>\n",
              "      <th>FTE weighted</th>\n",
              "      <th>Country</th>\n",
              "    </tr>\n",
              "  </thead>\n",
              "  <tbody>\n",
              "    <tr>\n",
              "      <th>0</th>\n",
              "      <td>2022-04-12</td>\n",
              "      <td>Employee_1</td>\n",
              "      <td>TEAM_1</td>\n",
              "      <td>102.0</td>\n",
              "      <td>0.0</td>\n",
              "      <td>102</td>\n",
              "      <td>4</td>\n",
              "      <td>00:02:08</td>\n",
              "      <td>0.6</td>\n",
              "      <td>2</td>\n",
              "      <td>1</td>\n",
              "      <td>0.00</td>\n",
              "      <td>0.25</td>\n",
              "      <td>0.00</td>\n",
              "      <td>DE</td>\n",
              "    </tr>\n",
              "    <tr>\n",
              "      <th>1</th>\n",
              "      <td>2022-04-13</td>\n",
              "      <td>Employee_1</td>\n",
              "      <td>TEAM_1</td>\n",
              "      <td>299.0</td>\n",
              "      <td>0.0</td>\n",
              "      <td>299</td>\n",
              "      <td>168</td>\n",
              "      <td>00:42:00</td>\n",
              "      <td>0.4</td>\n",
              "      <td>4</td>\n",
              "      <td>2</td>\n",
              "      <td>0.50</td>\n",
              "      <td>0.75</td>\n",
              "      <td>0.50</td>\n",
              "      <td>DE</td>\n",
              "    </tr>\n",
              "    <tr>\n",
              "      <th>2</th>\n",
              "      <td>2022-04-19</td>\n",
              "      <td>Employee_1</td>\n",
              "      <td>TEAM_1</td>\n",
              "      <td>478.0</td>\n",
              "      <td>0.0</td>\n",
              "      <td>478</td>\n",
              "      <td>275</td>\n",
              "      <td>00:16:12</td>\n",
              "      <td>2.0</td>\n",
              "      <td>17</td>\n",
              "      <td>16</td>\n",
              "      <td>0.75</td>\n",
              "      <td>1.00</td>\n",
              "      <td>0.75</td>\n",
              "      <td>DE</td>\n",
              "    </tr>\n",
              "    <tr>\n",
              "      <th>3</th>\n",
              "      <td>2022-04-20</td>\n",
              "      <td>Employee_1</td>\n",
              "      <td>TEAM_1</td>\n",
              "      <td>427.0</td>\n",
              "      <td>0.0</td>\n",
              "      <td>427</td>\n",
              "      <td>142</td>\n",
              "      <td>00:12:56</td>\n",
              "      <td>1.4</td>\n",
              "      <td>11</td>\n",
              "      <td>10</td>\n",
              "      <td>0.50</td>\n",
              "      <td>1.00</td>\n",
              "      <td>0.50</td>\n",
              "      <td>DE</td>\n",
              "    </tr>\n",
              "    <tr>\n",
              "      <th>4</th>\n",
              "      <td>2022-04-21</td>\n",
              "      <td>Employee_1</td>\n",
              "      <td>TEAM_1</td>\n",
              "      <td>482.0</td>\n",
              "      <td>0.0</td>\n",
              "      <td>482</td>\n",
              "      <td>129</td>\n",
              "      <td>00:16:12</td>\n",
              "      <td>1.0</td>\n",
              "      <td>8</td>\n",
              "      <td>8</td>\n",
              "      <td>0.50</td>\n",
              "      <td>1.00</td>\n",
              "      <td>0.50</td>\n",
              "      <td>DE</td>\n",
              "    </tr>\n",
              "  </tbody>\n",
              "</table>\n",
              "</div>\n",
              "      <button class=\"colab-df-convert\" onclick=\"convertToInteractive('df-08deef65-f146-4605-8244-0671f800254e')\"\n",
              "              title=\"Convert this dataframe to an interactive table.\"\n",
              "              style=\"display:none;\">\n",
              "        \n",
              "  <svg xmlns=\"http://www.w3.org/2000/svg\" height=\"24px\"viewBox=\"0 0 24 24\"\n",
              "       width=\"24px\">\n",
              "    <path d=\"M0 0h24v24H0V0z\" fill=\"none\"/>\n",
              "    <path d=\"M18.56 5.44l.94 2.06.94-2.06 2.06-.94-2.06-.94-.94-2.06-.94 2.06-2.06.94zm-11 1L8.5 8.5l.94-2.06 2.06-.94-2.06-.94L8.5 2.5l-.94 2.06-2.06.94zm10 10l.94 2.06.94-2.06 2.06-.94-2.06-.94-.94-2.06-.94 2.06-2.06.94z\"/><path d=\"M17.41 7.96l-1.37-1.37c-.4-.4-.92-.59-1.43-.59-.52 0-1.04.2-1.43.59L10.3 9.45l-7.72 7.72c-.78.78-.78 2.05 0 2.83L4 21.41c.39.39.9.59 1.41.59.51 0 1.02-.2 1.41-.59l7.78-7.78 2.81-2.81c.8-.78.8-2.07 0-2.86zM5.41 20L4 18.59l7.72-7.72 1.47 1.35L5.41 20z\"/>\n",
              "  </svg>\n",
              "      </button>\n",
              "      \n",
              "  <style>\n",
              "    .colab-df-container {\n",
              "      display:flex;\n",
              "      flex-wrap:wrap;\n",
              "      gap: 12px;\n",
              "    }\n",
              "\n",
              "    .colab-df-convert {\n",
              "      background-color: #E8F0FE;\n",
              "      border: none;\n",
              "      border-radius: 50%;\n",
              "      cursor: pointer;\n",
              "      display: none;\n",
              "      fill: #1967D2;\n",
              "      height: 32px;\n",
              "      padding: 0 0 0 0;\n",
              "      width: 32px;\n",
              "    }\n",
              "\n",
              "    .colab-df-convert:hover {\n",
              "      background-color: #E2EBFA;\n",
              "      box-shadow: 0px 1px 2px rgba(60, 64, 67, 0.3), 0px 1px 3px 1px rgba(60, 64, 67, 0.15);\n",
              "      fill: #174EA6;\n",
              "    }\n",
              "\n",
              "    [theme=dark] .colab-df-convert {\n",
              "      background-color: #3B4455;\n",
              "      fill: #D2E3FC;\n",
              "    }\n",
              "\n",
              "    [theme=dark] .colab-df-convert:hover {\n",
              "      background-color: #434B5C;\n",
              "      box-shadow: 0px 1px 3px 1px rgba(0, 0, 0, 0.15);\n",
              "      filter: drop-shadow(0px 1px 2px rgba(0, 0, 0, 0.3));\n",
              "      fill: #FFFFFF;\n",
              "    }\n",
              "  </style>\n",
              "\n",
              "      <script>\n",
              "        const buttonEl =\n",
              "          document.querySelector('#df-08deef65-f146-4605-8244-0671f800254e button.colab-df-convert');\n",
              "        buttonEl.style.display =\n",
              "          google.colab.kernel.accessAllowed ? 'block' : 'none';\n",
              "\n",
              "        async function convertToInteractive(key) {\n",
              "          const element = document.querySelector('#df-08deef65-f146-4605-8244-0671f800254e');\n",
              "          const dataTable =\n",
              "            await google.colab.kernel.invokeFunction('convertToInteractive',\n",
              "                                                     [key], {});\n",
              "          if (!dataTable) return;\n",
              "\n",
              "          const docLinkHtml = 'Like what you see? Visit the ' +\n",
              "            '<a target=\"_blank\" href=https://colab.research.google.com/notebooks/data_table.ipynb>data table notebook</a>'\n",
              "            + ' to learn more about interactive tables.';\n",
              "          element.innerHTML = '';\n",
              "          dataTable['output_type'] = 'display_data';\n",
              "          await google.colab.output.renderOutput(dataTable, element);\n",
              "          const docLink = document.createElement('div');\n",
              "          docLink.innerHTML = docLinkHtml;\n",
              "          element.appendChild(docLink);\n",
              "        }\n",
              "      </script>\n",
              "    </div>\n",
              "  </div>\n",
              "  "
            ]
          },
          "metadata": {},
          "execution_count": 97
        }
      ],
      "source": [
        "# this time the concatenation of dfs is correct\n",
        "\n",
        "df_concat = pd.concat(frames)\n",
        "\n",
        "print(df_concat.shape)\n",
        "df_concat.head()"
      ]
    },
    {
      "cell_type": "code",
      "execution_count": null,
      "metadata": {
        "id": "AY7QuVbE_dfd",
        "colab": {
          "base_uri": "https://localhost:8080/",
          "height": 392
        },
        "outputId": "08095a11-7c79-4dbf-d8a2-71905f361dcb"
      },
      "outputs": [
        {
          "output_type": "execute_result",
          "data": {
            "text/plain": [
              "          Date         Name    Team  Presence  Pause (min)  \\\n",
              "264 2022-04-14  Employee_24  TEAM_4    123.00          0.0   \n",
              "265 2022-04-24  Employee_24  TEAM_4    184.00          0.0   \n",
              "266 2022-04-29  Employee_24  TEAM_4    441.00          0.0   \n",
              "267 2022-04-24  Employee_25  TEAM_5      1.60          0.0   \n",
              "268 2022-04-29  Employee_26  TEAM_5      3.41          0.0   \n",
              "\n",
              "     Presence net (min)  Processed (min)       DMT  Productivity hours  \\\n",
              "264                 123                0       NaN                 0.0   \n",
              "265                 184               36  0.008461                 1.3   \n",
              "266                 441               64  0.003194                 1.5   \n",
              "267                 184               36  0.008461                 1.3   \n",
              "268                 441               64  0.003194                 1.5   \n",
              "\n",
              "     Processed tickets  Closed tickets  FTE (process)  FTE (presence)  \\\n",
              "264                  0               0           0.00             0.5   \n",
              "265                  3               3           0.00             0.5   \n",
              "266                 14              11           0.25             1.0   \n",
              "267                  3               3           0.00             0.5   \n",
              "268                 14              11           0.25             1.0   \n",
              "\n",
              "     FTE weighted Country  \n",
              "264          0.00      UK  \n",
              "265          0.00      UK  \n",
              "266          0.25      UK  \n",
              "267          0.00      UK  \n",
              "268          0.25      UK  "
            ],
            "text/html": [
              "\n",
              "  <div id=\"df-cc75e2a7-3a01-430f-990c-1c2f672be750\">\n",
              "    <div class=\"colab-df-container\">\n",
              "      <div>\n",
              "<style scoped>\n",
              "    .dataframe tbody tr th:only-of-type {\n",
              "        vertical-align: middle;\n",
              "    }\n",
              "\n",
              "    .dataframe tbody tr th {\n",
              "        vertical-align: top;\n",
              "    }\n",
              "\n",
              "    .dataframe thead th {\n",
              "        text-align: right;\n",
              "    }\n",
              "</style>\n",
              "<table border=\"1\" class=\"dataframe\">\n",
              "  <thead>\n",
              "    <tr style=\"text-align: right;\">\n",
              "      <th></th>\n",
              "      <th>Date</th>\n",
              "      <th>Name</th>\n",
              "      <th>Team</th>\n",
              "      <th>Presence</th>\n",
              "      <th>Pause (min)</th>\n",
              "      <th>Presence net (min)</th>\n",
              "      <th>Processed (min)</th>\n",
              "      <th>DMT</th>\n",
              "      <th>Productivity hours</th>\n",
              "      <th>Processed tickets</th>\n",
              "      <th>Closed tickets</th>\n",
              "      <th>FTE (process)</th>\n",
              "      <th>FTE (presence)</th>\n",
              "      <th>FTE weighted</th>\n",
              "      <th>Country</th>\n",
              "    </tr>\n",
              "  </thead>\n",
              "  <tbody>\n",
              "    <tr>\n",
              "      <th>264</th>\n",
              "      <td>2022-04-14</td>\n",
              "      <td>Employee_24</td>\n",
              "      <td>TEAM_4</td>\n",
              "      <td>123.00</td>\n",
              "      <td>0.0</td>\n",
              "      <td>123</td>\n",
              "      <td>0</td>\n",
              "      <td>NaN</td>\n",
              "      <td>0.0</td>\n",
              "      <td>0</td>\n",
              "      <td>0</td>\n",
              "      <td>0.00</td>\n",
              "      <td>0.5</td>\n",
              "      <td>0.00</td>\n",
              "      <td>UK</td>\n",
              "    </tr>\n",
              "    <tr>\n",
              "      <th>265</th>\n",
              "      <td>2022-04-24</td>\n",
              "      <td>Employee_24</td>\n",
              "      <td>TEAM_4</td>\n",
              "      <td>184.00</td>\n",
              "      <td>0.0</td>\n",
              "      <td>184</td>\n",
              "      <td>36</td>\n",
              "      <td>0.008461</td>\n",
              "      <td>1.3</td>\n",
              "      <td>3</td>\n",
              "      <td>3</td>\n",
              "      <td>0.00</td>\n",
              "      <td>0.5</td>\n",
              "      <td>0.00</td>\n",
              "      <td>UK</td>\n",
              "    </tr>\n",
              "    <tr>\n",
              "      <th>266</th>\n",
              "      <td>2022-04-29</td>\n",
              "      <td>Employee_24</td>\n",
              "      <td>TEAM_4</td>\n",
              "      <td>441.00</td>\n",
              "      <td>0.0</td>\n",
              "      <td>441</td>\n",
              "      <td>64</td>\n",
              "      <td>0.003194</td>\n",
              "      <td>1.5</td>\n",
              "      <td>14</td>\n",
              "      <td>11</td>\n",
              "      <td>0.25</td>\n",
              "      <td>1.0</td>\n",
              "      <td>0.25</td>\n",
              "      <td>UK</td>\n",
              "    </tr>\n",
              "    <tr>\n",
              "      <th>267</th>\n",
              "      <td>2022-04-24</td>\n",
              "      <td>Employee_25</td>\n",
              "      <td>TEAM_5</td>\n",
              "      <td>1.60</td>\n",
              "      <td>0.0</td>\n",
              "      <td>184</td>\n",
              "      <td>36</td>\n",
              "      <td>0.008461</td>\n",
              "      <td>1.3</td>\n",
              "      <td>3</td>\n",
              "      <td>3</td>\n",
              "      <td>0.00</td>\n",
              "      <td>0.5</td>\n",
              "      <td>0.00</td>\n",
              "      <td>UK</td>\n",
              "    </tr>\n",
              "    <tr>\n",
              "      <th>268</th>\n",
              "      <td>2022-04-29</td>\n",
              "      <td>Employee_26</td>\n",
              "      <td>TEAM_5</td>\n",
              "      <td>3.41</td>\n",
              "      <td>0.0</td>\n",
              "      <td>441</td>\n",
              "      <td>64</td>\n",
              "      <td>0.003194</td>\n",
              "      <td>1.5</td>\n",
              "      <td>14</td>\n",
              "      <td>11</td>\n",
              "      <td>0.25</td>\n",
              "      <td>1.0</td>\n",
              "      <td>0.25</td>\n",
              "      <td>UK</td>\n",
              "    </tr>\n",
              "  </tbody>\n",
              "</table>\n",
              "</div>\n",
              "      <button class=\"colab-df-convert\" onclick=\"convertToInteractive('df-cc75e2a7-3a01-430f-990c-1c2f672be750')\"\n",
              "              title=\"Convert this dataframe to an interactive table.\"\n",
              "              style=\"display:none;\">\n",
              "        \n",
              "  <svg xmlns=\"http://www.w3.org/2000/svg\" height=\"24px\"viewBox=\"0 0 24 24\"\n",
              "       width=\"24px\">\n",
              "    <path d=\"M0 0h24v24H0V0z\" fill=\"none\"/>\n",
              "    <path d=\"M18.56 5.44l.94 2.06.94-2.06 2.06-.94-2.06-.94-.94-2.06-.94 2.06-2.06.94zm-11 1L8.5 8.5l.94-2.06 2.06-.94-2.06-.94L8.5 2.5l-.94 2.06-2.06.94zm10 10l.94 2.06.94-2.06 2.06-.94-2.06-.94-.94-2.06-.94 2.06-2.06.94z\"/><path d=\"M17.41 7.96l-1.37-1.37c-.4-.4-.92-.59-1.43-.59-.52 0-1.04.2-1.43.59L10.3 9.45l-7.72 7.72c-.78.78-.78 2.05 0 2.83L4 21.41c.39.39.9.59 1.41.59.51 0 1.02-.2 1.41-.59l7.78-7.78 2.81-2.81c.8-.78.8-2.07 0-2.86zM5.41 20L4 18.59l7.72-7.72 1.47 1.35L5.41 20z\"/>\n",
              "  </svg>\n",
              "      </button>\n",
              "      \n",
              "  <style>\n",
              "    .colab-df-container {\n",
              "      display:flex;\n",
              "      flex-wrap:wrap;\n",
              "      gap: 12px;\n",
              "    }\n",
              "\n",
              "    .colab-df-convert {\n",
              "      background-color: #E8F0FE;\n",
              "      border: none;\n",
              "      border-radius: 50%;\n",
              "      cursor: pointer;\n",
              "      display: none;\n",
              "      fill: #1967D2;\n",
              "      height: 32px;\n",
              "      padding: 0 0 0 0;\n",
              "      width: 32px;\n",
              "    }\n",
              "\n",
              "    .colab-df-convert:hover {\n",
              "      background-color: #E2EBFA;\n",
              "      box-shadow: 0px 1px 2px rgba(60, 64, 67, 0.3), 0px 1px 3px 1px rgba(60, 64, 67, 0.15);\n",
              "      fill: #174EA6;\n",
              "    }\n",
              "\n",
              "    [theme=dark] .colab-df-convert {\n",
              "      background-color: #3B4455;\n",
              "      fill: #D2E3FC;\n",
              "    }\n",
              "\n",
              "    [theme=dark] .colab-df-convert:hover {\n",
              "      background-color: #434B5C;\n",
              "      box-shadow: 0px 1px 3px 1px rgba(0, 0, 0, 0.15);\n",
              "      filter: drop-shadow(0px 1px 2px rgba(0, 0, 0, 0.3));\n",
              "      fill: #FFFFFF;\n",
              "    }\n",
              "  </style>\n",
              "\n",
              "      <script>\n",
              "        const buttonEl =\n",
              "          document.querySelector('#df-cc75e2a7-3a01-430f-990c-1c2f672be750 button.colab-df-convert');\n",
              "        buttonEl.style.display =\n",
              "          google.colab.kernel.accessAllowed ? 'block' : 'none';\n",
              "\n",
              "        async function convertToInteractive(key) {\n",
              "          const element = document.querySelector('#df-cc75e2a7-3a01-430f-990c-1c2f672be750');\n",
              "          const dataTable =\n",
              "            await google.colab.kernel.invokeFunction('convertToInteractive',\n",
              "                                                     [key], {});\n",
              "          if (!dataTable) return;\n",
              "\n",
              "          const docLinkHtml = 'Like what you see? Visit the ' +\n",
              "            '<a target=\"_blank\" href=https://colab.research.google.com/notebooks/data_table.ipynb>data table notebook</a>'\n",
              "            + ' to learn more about interactive tables.';\n",
              "          element.innerHTML = '';\n",
              "          dataTable['output_type'] = 'display_data';\n",
              "          await google.colab.output.renderOutput(dataTable, element);\n",
              "          const docLink = document.createElement('div');\n",
              "          docLink.innerHTML = docLinkHtml;\n",
              "          element.appendChild(docLink);\n",
              "        }\n",
              "      </script>\n",
              "    </div>\n",
              "  </div>\n",
              "  "
            ]
          },
          "metadata": {},
          "execution_count": 98
        }
      ],
      "source": [
        "# last rows\n",
        "df_concat.tail()"
      ]
    },
    {
      "cell_type": "code",
      "execution_count": null,
      "metadata": {
        "id": "_lWwQnt7_dfd"
      },
      "outputs": [],
      "source": [
        "# create excel writer in the Processed_Files with the name 'Consolidation'\n",
        "writer = pd.ExcelWriter('Processed_Files/Consolidation.xlsx')\n",
        "\n",
        "# write dataframe to excel sheet named 'marks'\n",
        "df_concat.to_excel(writer, 'Consolidation')\n",
        "\n",
        "# save the excel file\n",
        "writer.save()\n",
        "writer.close()"
      ]
    },
    {
      "cell_type": "code",
      "source": [
        "# and now in Processed_Files folder you'll have the new excel file \"Consolidation.xlsx\" that you just created \n",
        "os.listdir('Processed_Files')"
      ],
      "metadata": {
        "colab": {
          "base_uri": "https://localhost:8080/"
        },
        "id": "DPI15it8OxQZ",
        "outputId": "07d29f93-ee52-4121-8447-f8230735f01f"
      },
      "execution_count": null,
      "outputs": [
        {
          "output_type": "execute_result",
          "data": {
            "text/plain": [
              "['uk_df.xlsx', 'Consolidated_by_sheet.xlsx', 'Consolidation.xlsx']"
            ]
          },
          "metadata": {},
          "execution_count": 100
        }
      ]
    },
    {
      "cell_type": "code",
      "source": [
        "#download file to local machine\n",
        "files.download(\"Processed_Files/Consolidation.xlsx\")"
      ],
      "metadata": {
        "colab": {
          "base_uri": "https://localhost:8080/",
          "height": 17
        },
        "id": "MGcx_H0YlO1D",
        "outputId": "a2ec1c66-ce1f-4a52-cf20-b0267f5712c1"
      },
      "execution_count": null,
      "outputs": [
        {
          "output_type": "display_data",
          "data": {
            "text/plain": [
              "<IPython.core.display.Javascript object>"
            ],
            "application/javascript": [
              "\n",
              "    async function download(id, filename, size) {\n",
              "      if (!google.colab.kernel.accessAllowed) {\n",
              "        return;\n",
              "      }\n",
              "      const div = document.createElement('div');\n",
              "      const label = document.createElement('label');\n",
              "      label.textContent = `Downloading \"${filename}\": `;\n",
              "      div.appendChild(label);\n",
              "      const progress = document.createElement('progress');\n",
              "      progress.max = size;\n",
              "      div.appendChild(progress);\n",
              "      document.body.appendChild(div);\n",
              "\n",
              "      const buffers = [];\n",
              "      let downloaded = 0;\n",
              "\n",
              "      const channel = await google.colab.kernel.comms.open(id);\n",
              "      // Send a message to notify the kernel that we're ready.\n",
              "      channel.send({})\n",
              "\n",
              "      for await (const message of channel.messages) {\n",
              "        // Send a message to notify the kernel that we're ready.\n",
              "        channel.send({})\n",
              "        if (message.buffers) {\n",
              "          for (const buffer of message.buffers) {\n",
              "            buffers.push(buffer);\n",
              "            downloaded += buffer.byteLength;\n",
              "            progress.value = downloaded;\n",
              "          }\n",
              "        }\n",
              "      }\n",
              "      const blob = new Blob(buffers, {type: 'application/binary'});\n",
              "      const a = document.createElement('a');\n",
              "      a.href = window.URL.createObjectURL(blob);\n",
              "      a.download = filename;\n",
              "      div.appendChild(a);\n",
              "      a.click();\n",
              "      div.remove();\n",
              "    }\n",
              "  "
            ]
          },
          "metadata": {}
        },
        {
          "output_type": "display_data",
          "data": {
            "text/plain": [
              "<IPython.core.display.Javascript object>"
            ],
            "application/javascript": [
              "download(\"download_9daec64e-cd1a-4e90-8330-fd00c05e915b\", \"Consolidation.xlsx\", 181492)"
            ]
          },
          "metadata": {}
        }
      ]
    },
    {
      "cell_type": "markdown",
      "source": [
        "# 7.&nbsp;Reorganize Module_2 files"
      ],
      "metadata": {
        "id": "2fPr5VEBQq_2"
      }
    },
    {
      "cell_type": "markdown",
      "source": [
        "Reorganize your file in Drive...\n",
        "Create a new folder Module_2\n",
        "In this folder you want to add the notebook of the Module_2: \n",
        "\n",
        "*   File_Manipulation_Module_2.ipynb\n",
        "*   Raw_Excel_Files folder with thier respectife files\n",
        "*   Processed_Files folder with thier respectife files\n",
        "\n"
      ],
      "metadata": {
        "id": "ry4QXVI1RHx9"
      }
    },
    {
      "cell_type": "code",
      "source": [
        "# First: \n",
        "# write the path to the \"Raw_Files\" sub_directory\n",
        "folder = cwd + '/' + 'Module_2' # == > /content/gdrive/MyDrive/Module_2\n",
        "print(folder)\n",
        "\n",
        "# create the folder at the indicated path\n",
        "os.makedirs(folder) # create an empty folder called << Module_2 >>"
      ],
      "metadata": {
        "colab": {
          "base_uri": "https://localhost:8080/",
          "height": 339
        },
        "id": "4HvQn5JhQgrb",
        "outputId": "6149e4bc-72d4-4c64-82e4-1f1f9779acb0"
      },
      "execution_count": null,
      "outputs": [
        {
          "output_type": "stream",
          "name": "stdout",
          "text": [
            "/content/gdrive/MyDrive/Module_2\n"
          ]
        },
        {
          "output_type": "error",
          "ename": "FileExistsError",
          "evalue": "ignored",
          "traceback": [
            "\u001b[0;31m---------------------------------------------------------------------------\u001b[0m",
            "\u001b[0;31mFileExistsError\u001b[0m                           Traceback (most recent call last)",
            "\u001b[0;32m<ipython-input-102-618b9dc9fc36>\u001b[0m in \u001b[0;36m<module>\u001b[0;34m\u001b[0m\n\u001b[1;32m      5\u001b[0m \u001b[0;34m\u001b[0m\u001b[0m\n\u001b[1;32m      6\u001b[0m \u001b[0;31m# create the folder at the indicated path\u001b[0m\u001b[0;34m\u001b[0m\u001b[0;34m\u001b[0m\u001b[0m\n\u001b[0;32m----> 7\u001b[0;31m \u001b[0mos\u001b[0m\u001b[0;34m.\u001b[0m\u001b[0mmakedirs\u001b[0m\u001b[0;34m(\u001b[0m\u001b[0mfolder\u001b[0m\u001b[0;34m)\u001b[0m \u001b[0;31m# create an empty folder called << Module_2 >>\u001b[0m\u001b[0;34m\u001b[0m\u001b[0;34m\u001b[0m\u001b[0m\n\u001b[0m",
            "\u001b[0;32m/usr/lib/python3.9/os.py\u001b[0m in \u001b[0;36mmakedirs\u001b[0;34m(name, mode, exist_ok)\u001b[0m\n\u001b[1;32m    223\u001b[0m             \u001b[0;32mreturn\u001b[0m\u001b[0;34m\u001b[0m\u001b[0;34m\u001b[0m\u001b[0m\n\u001b[1;32m    224\u001b[0m     \u001b[0;32mtry\u001b[0m\u001b[0;34m:\u001b[0m\u001b[0;34m\u001b[0m\u001b[0;34m\u001b[0m\u001b[0m\n\u001b[0;32m--> 225\u001b[0;31m         \u001b[0mmkdir\u001b[0m\u001b[0;34m(\u001b[0m\u001b[0mname\u001b[0m\u001b[0;34m,\u001b[0m \u001b[0mmode\u001b[0m\u001b[0;34m)\u001b[0m\u001b[0;34m\u001b[0m\u001b[0;34m\u001b[0m\u001b[0m\n\u001b[0m\u001b[1;32m    226\u001b[0m     \u001b[0;32mexcept\u001b[0m \u001b[0mOSError\u001b[0m\u001b[0;34m:\u001b[0m\u001b[0;34m\u001b[0m\u001b[0;34m\u001b[0m\u001b[0m\n\u001b[1;32m    227\u001b[0m         \u001b[0;31m# Cannot rely on checking for EEXIST, since the operating system\u001b[0m\u001b[0;34m\u001b[0m\u001b[0;34m\u001b[0m\u001b[0m\n",
            "\u001b[0;31mFileExistsError\u001b[0m: [Errno 17] File exists: '/content/gdrive/MyDrive/Module_2'"
          ]
        }
      ]
    },
    {
      "cell_type": "code",
      "source": [
        "os.listdir('.')"
      ],
      "metadata": {
        "colab": {
          "base_uri": "https://localhost:8080/"
        },
        "id": "Ri_8sh32R_Yv",
        "outputId": "50790873-fda6-49cb-8407-1350846adfb8"
      },
      "execution_count": null,
      "outputs": [
        {
          "output_type": "execute_result",
          "data": {
            "text/plain": [
              "['Colab Notebooks',\n",
              " 'UK.xlsx',\n",
              " 'FR.xlsx',\n",
              " 'DE.xlsx',\n",
              " 'UK_old.xlsx',\n",
              " 'Module_2',\n",
              " 'Raw_Excel_Files',\n",
              " 'Processed_Files']"
            ]
          },
          "metadata": {},
          "execution_count": 103
        }
      ]
    },
    {
      "cell_type": "markdown",
      "source": [
        "Files_Manipulation_Module_2.ipynb"
      ],
      "metadata": {
        "id": "ODVpn4znSkXY"
      }
    },
    {
      "cell_type": "code",
      "source": [
        "# Files_Manipulation_Module_2.ipynb notebook is in Colab Notebooks folder\n",
        "\n",
        "os.listdir('Colab Notebooks')"
      ],
      "metadata": {
        "colab": {
          "base_uri": "https://localhost:8080/"
        },
        "id": "BDO4Z9J0SvbW",
        "outputId": "d930ddd4-75d5-4532-ce3f-dc4f005ba14d"
      },
      "execution_count": null,
      "outputs": [
        {
          "output_type": "execute_result",
          "data": {
            "text/plain": [
              "['Copy_Files_Manipulation_Collab-Sparrow.ipynb',\n",
              " 'Files_Manipulation_Module_2.ipynb']"
            ]
          },
          "metadata": {},
          "execution_count": 87
        }
      ]
    },
    {
      "cell_type": "code",
      "source": [
        "# destination WHERE we want to copy \n",
        "dest = 'Module_2'\n",
        "\n",
        "# source file : WHAT we want to copy from Colab Notebooks grab File_Manipulation notebook\n",
        "# don't forget to add the extension .ipynb\n",
        "src=  'Colab Notebooks/Files_Manipulation_Module_2.ipynb' \n",
        "\n",
        "#  copy the file from the source <<src>> in the folder we want << dest >>\n",
        "shutil.copy(src, # what file we want to copy, more specifically its path\n",
        "            dest) # path to the folder we want to paste the copied file\n",
        "\n",
        "# check if the notebook was copied in Module_2 folder\n",
        "os.listdir('Module_2')"
      ],
      "metadata": {
        "colab": {
          "base_uri": "https://localhost:8080/"
        },
        "id": "_grdfCLARHP2",
        "outputId": "c3773442-d8f7-4c05-cae6-b8b29a717b4c"
      },
      "execution_count": null,
      "outputs": [
        {
          "output_type": "execute_result",
          "data": {
            "text/plain": [
              "['Files_Manipulation_Module_2.ipynb']"
            ]
          },
          "metadata": {},
          "execution_count": 104
        }
      ]
    },
    {
      "cell_type": "markdown",
      "source": [
        "Processed Files Folder"
      ],
      "metadata": {
        "id": "X6lCI8w6UHFj"
      }
    },
    {
      "cell_type": "code",
      "source": [
        "os.listdir('Module_2')"
      ],
      "metadata": {
        "colab": {
          "base_uri": "https://localhost:8080/"
        },
        "id": "PWC0y_HPUV0V",
        "outputId": "c7f83944-5a9c-4502-8444-b27294e7f707"
      },
      "execution_count": null,
      "outputs": [
        {
          "output_type": "execute_result",
          "data": {
            "text/plain": [
              "['Files_Manipulation_Module_2.ipynb']"
            ]
          },
          "metadata": {},
          "execution_count": 89
        }
      ]
    },
    {
      "cell_type": "code",
      "source": [
        "# create first a folder Processed Files\n",
        "\n",
        "# write the path to the \"Raw_Files\" sub_directory\n",
        "folder = 'Module_2/Processed_Files' # == > /content/gdrive/MyDrive/Module_2/Processed_Files\n",
        "print(folder)\n",
        "\n",
        "# create the folder at the indicated path\n",
        "os.makedirs(folder) # create an empty folder called << Module_2 >>\n",
        "\n",
        "os.listdir('Module_2')"
      ],
      "metadata": {
        "colab": {
          "base_uri": "https://localhost:8080/"
        },
        "id": "UfbO3OMCW2zp",
        "outputId": "89459659-bfb2-45bb-c16b-b9a8621617fe"
      },
      "execution_count": null,
      "outputs": [
        {
          "output_type": "stream",
          "name": "stdout",
          "text": [
            "Module_2/Processed_Files\n"
          ]
        },
        {
          "output_type": "execute_result",
          "data": {
            "text/plain": [
              "['Files_Manipulation_Module_2.ipynb', 'Processed_Files']"
            ]
          },
          "metadata": {},
          "execution_count": 105
        }
      ]
    },
    {
      "cell_type": "code",
      "source": [
        "os.listdir('Module_2')"
      ],
      "metadata": {
        "colab": {
          "base_uri": "https://localhost:8080/"
        },
        "id": "odsfRjprXQly",
        "outputId": "59887924-184a-4d93-af63-03b37a003217"
      },
      "execution_count": null,
      "outputs": [
        {
          "output_type": "execute_result",
          "data": {
            "text/plain": [
              "['Files_Manipulation_Module_2.ipynb', 'Processed_Files']"
            ]
          },
          "metadata": {},
          "execution_count": 106
        }
      ]
    },
    {
      "cell_type": "code",
      "source": [
        "# dest and source\n",
        "src=  'Processed_Files' # from MyDrive\n",
        "dest = 'Module_2/Processed_Files'\n",
        "\n",
        "# copy the the excel files in 'Processed_Files'\n",
        "shutil.copytree(src, # what file we want to copy, more specifically its path\n",
        "                dest, # path to the folder we want to paste the copied file\n",
        "                dirs_exist_ok=True)  # add dirs_exist_ok=True or remove if you get an error\n",
        "\n",
        "# check if the notebook was copied in Module_2 folder\n",
        "os.listdir('Module_2/Processed_Files')"
      ],
      "metadata": {
        "colab": {
          "base_uri": "https://localhost:8080/"
        },
        "id": "KXAGY_w5ULXe",
        "outputId": "f46d601d-a7c1-4291-b2f1-a5acf3949b78"
      },
      "execution_count": null,
      "outputs": [
        {
          "output_type": "execute_result",
          "data": {
            "text/plain": [
              "['uk_df.xlsx', 'Consolidated_by_sheet.xlsx', 'Consolidation.xlsx']"
            ]
          },
          "metadata": {},
          "execution_count": 107
        }
      ]
    },
    {
      "cell_type": "markdown",
      "source": [
        "Raw_Excel_Files"
      ],
      "metadata": {
        "id": "QQV1--rOUL6w"
      }
    },
    {
      "cell_type": "code",
      "source": [
        "# create first a folder Row Files\n",
        "\n",
        "# write the path to the \"Raw_Files\" sub_directory\n",
        "folder = 'Module_2/Raw_Excel_Files' # == > /content/gdrive/MyDrive/Module_2/Raw_Excel_Files\n",
        "print(folder)\n",
        "\n",
        "# create the folder at the indicated path\n",
        "os.makedirs(folder) # create an empty folder called << Module_2 >>\n",
        "\n",
        "os.listdir('Module_2')"
      ],
      "metadata": {
        "colab": {
          "base_uri": "https://localhost:8080/"
        },
        "id": "Yh4-g28HUN7a",
        "outputId": "219324b7-a881-45e5-97fb-b1eea44e2040"
      },
      "execution_count": null,
      "outputs": [
        {
          "output_type": "stream",
          "name": "stdout",
          "text": [
            "Module_2/Raw_Excel_Files\n"
          ]
        },
        {
          "output_type": "execute_result",
          "data": {
            "text/plain": [
              "['Files_Manipulation_Module_2.ipynb', 'Processed_Files', 'Raw_Excel_Files']"
            ]
          },
          "metadata": {},
          "execution_count": 108
        }
      ]
    },
    {
      "cell_type": "code",
      "source": [
        "# dest and source\n",
        "src=  'Raw_Excel_Files' # from MyDrive\n",
        "dest = 'Module_2/Raw_Excel_Files'\n",
        "\n",
        "# copy the the excel files in 'Processed_Files'\n",
        "shutil.copytree( src, dest,  dirs_exist_ok=True)  # add dirs_exist_ok=True or remove if you get an error\n",
        "\n",
        "# check if the notebook was copied in Module_2 folder\n",
        "os.listdir('Module_2/Raw_Excel_Files')"
      ],
      "metadata": {
        "colab": {
          "base_uri": "https://localhost:8080/"
        },
        "id": "124ubcuaYXOe",
        "outputId": "fd3bcb43-9dc5-4f90-ac92-efda1d897243"
      },
      "execution_count": null,
      "outputs": [
        {
          "output_type": "execute_result",
          "data": {
            "text/plain": [
              "['UK.xlsx', 'FR.xlsx', 'DE.xlsx', 'UK_old.xlsx']"
            ]
          },
          "metadata": {},
          "execution_count": 109
        }
      ]
    },
    {
      "cell_type": "code",
      "source": [
        "os.listdir('Module_2')"
      ],
      "metadata": {
        "colab": {
          "base_uri": "https://localhost:8080/"
        },
        "id": "KQ8MQOpnalbb",
        "outputId": "d8c6b9dd-093e-4e69-9b17-0d3d577022c9"
      },
      "execution_count": null,
      "outputs": [
        {
          "output_type": "execute_result",
          "data": {
            "text/plain": [
              "['Files_Manipulation_Module_2.ipynb', 'Processed_Files', 'Raw_Excel_Files']"
            ]
          },
          "metadata": {},
          "execution_count": 110
        }
      ]
    },
    {
      "cell_type": "markdown",
      "metadata": {
        "id": "ktm1SmGr_dfe"
      },
      "source": [
        "# 8.&nbsp;Reinitiate original folder"
      ]
    },
    {
      "cell_type": "markdown",
      "metadata": {
        "id": "-p9kawthUCMf"
      },
      "source": [
        "***!!!!!    Execute this section if you are sure you want to remove files/folders !!!!***"
      ]
    },
    {
      "cell_type": "code",
      "source": [
        "os.listdir('/content')"
      ],
      "metadata": {
        "colab": {
          "base_uri": "https://localhost:8080/"
        },
        "id": "zsKtNUYSPeMe",
        "outputId": "af2e0925-fd1f-4d2c-9949-6cb816d1246a"
      },
      "execution_count": null,
      "outputs": [
        {
          "output_type": "execute_result",
          "data": {
            "text/plain": [
              "['.config', 'DE.xlsx', 'UK.xlsx', 'gdrive', 'FR.xlsx', 'sample_data']"
            ]
          },
          "metadata": {},
          "execution_count": 105
        }
      ]
    },
    {
      "cell_type": "code",
      "source": [
        "# remove files from /content\n",
        "\n",
        "os.unlink('/content/UK.xlsx')\n",
        "os.unlink('/content/FR.xlsx')\n",
        "os.unlink('/content/DE.xlsx')"
      ],
      "metadata": {
        "id": "_MIOBUraPdFk"
      },
      "execution_count": null,
      "outputs": []
    },
    {
      "cell_type": "code",
      "execution_count": null,
      "metadata": {
        "id": "klaPBqrQurZZ",
        "colab": {
          "base_uri": "https://localhost:8080/",
          "height": 35
        },
        "outputId": "6908a1a4-7f31-4797-8f5a-0a0112d8ea7c"
      },
      "outputs": [
        {
          "output_type": "execute_result",
          "data": {
            "text/plain": [
              "'/content/gdrive/MyDrive'"
            ],
            "application/vnd.google.colaboratory.intrinsic+json": {
              "type": "string"
            }
          },
          "metadata": {},
          "execution_count": 107
        }
      ],
      "source": [
        "cwd"
      ]
    },
    {
      "cell_type": "code",
      "execution_count": null,
      "metadata": {
        "id": "lcou2vbv_dfe",
        "colab": {
          "base_uri": "https://localhost:8080/"
        },
        "outputId": "7a8d7981-2aa9-49ef-bb71-d2790aeeabe6"
      },
      "outputs": [
        {
          "output_type": "execute_result",
          "data": {
            "text/plain": [
              "['Colab Notebooks', 'Module_2']"
            ]
          },
          "metadata": {},
          "execution_count": 115
        }
      ],
      "source": [
        "os.listdir('.')"
      ]
    },
    {
      "cell_type": "code",
      "source": [
        "# remove files from cwd\n",
        "\n",
        "os.unlink('UK.xlsx')\n",
        "os.unlink('UK_old.xlsx')\n",
        "os.unlink('FR.xlsx')\n",
        "os.unlink('DE.xlsx')"
      ],
      "metadata": {
        "id": "rRzEag6ePzMr"
      },
      "execution_count": null,
      "outputs": []
    },
    {
      "cell_type": "code",
      "execution_count": null,
      "metadata": {
        "id": "TakbtTKp_dfe",
        "colab": {
          "base_uri": "https://localhost:8080/",
          "height": 380
        },
        "outputId": "1bb66286-daea-4b8a-8536-c89cfc591f4b"
      },
      "outputs": [
        {
          "output_type": "error",
          "ename": "FileNotFoundError",
          "evalue": "ignored",
          "traceback": [
            "\u001b[0;31m---------------------------------------------------------------------------\u001b[0m",
            "\u001b[0;31mFileNotFoundError\u001b[0m                         Traceback (most recent call last)",
            "\u001b[0;32m<ipython-input-114-252fb272a4fa>\u001b[0m in \u001b[0;36m<module>\u001b[0;34m\u001b[0m\n\u001b[1;32m      1\u001b[0m \u001b[0;31m# delete Raw_Excel_Files and 'Processed_Files' to reinitiate the whole folder\u001b[0m\u001b[0;34m\u001b[0m\u001b[0;34m\u001b[0m\u001b[0m\n\u001b[1;32m      2\u001b[0m \u001b[0;34m\u001b[0m\u001b[0m\n\u001b[0;32m----> 3\u001b[0;31m \u001b[0mshutil\u001b[0m\u001b[0;34m.\u001b[0m\u001b[0mrmtree\u001b[0m\u001b[0;34m(\u001b[0m\u001b[0;34m'Processed_Files'\u001b[0m\u001b[0;34m)\u001b[0m\u001b[0;34m\u001b[0m\u001b[0;34m\u001b[0m\u001b[0m\n\u001b[0m\u001b[1;32m      4\u001b[0m \u001b[0mshutil\u001b[0m\u001b[0;34m.\u001b[0m\u001b[0mrmtree\u001b[0m\u001b[0;34m(\u001b[0m\u001b[0;34m'Raw_Excel_Files'\u001b[0m\u001b[0;34m)\u001b[0m\u001b[0;34m\u001b[0m\u001b[0;34m\u001b[0m\u001b[0m\n\u001b[1;32m      5\u001b[0m \u001b[0;34m\u001b[0m\u001b[0m\n",
            "\u001b[0;32m/usr/lib/python3.9/shutil.py\u001b[0m in \u001b[0;36mrmtree\u001b[0;34m(path, ignore_errors, onerror)\u001b[0m\n\u001b[1;32m    722\u001b[0m             \u001b[0morig_st\u001b[0m \u001b[0;34m=\u001b[0m \u001b[0mos\u001b[0m\u001b[0;34m.\u001b[0m\u001b[0mlstat\u001b[0m\u001b[0;34m(\u001b[0m\u001b[0mpath\u001b[0m\u001b[0;34m)\u001b[0m\u001b[0;34m\u001b[0m\u001b[0;34m\u001b[0m\u001b[0m\n\u001b[1;32m    723\u001b[0m         \u001b[0;32mexcept\u001b[0m \u001b[0mException\u001b[0m\u001b[0;34m:\u001b[0m\u001b[0;34m\u001b[0m\u001b[0;34m\u001b[0m\u001b[0m\n\u001b[0;32m--> 724\u001b[0;31m             \u001b[0monerror\u001b[0m\u001b[0;34m(\u001b[0m\u001b[0mos\u001b[0m\u001b[0;34m.\u001b[0m\u001b[0mlstat\u001b[0m\u001b[0;34m,\u001b[0m \u001b[0mpath\u001b[0m\u001b[0;34m,\u001b[0m \u001b[0msys\u001b[0m\u001b[0;34m.\u001b[0m\u001b[0mexc_info\u001b[0m\u001b[0;34m(\u001b[0m\u001b[0;34m)\u001b[0m\u001b[0;34m)\u001b[0m\u001b[0;34m\u001b[0m\u001b[0;34m\u001b[0m\u001b[0m\n\u001b[0m\u001b[1;32m    725\u001b[0m             \u001b[0;32mreturn\u001b[0m\u001b[0;34m\u001b[0m\u001b[0;34m\u001b[0m\u001b[0m\n\u001b[1;32m    726\u001b[0m         \u001b[0;32mtry\u001b[0m\u001b[0;34m:\u001b[0m\u001b[0;34m\u001b[0m\u001b[0;34m\u001b[0m\u001b[0m\n",
            "\u001b[0;32m/usr/lib/python3.9/shutil.py\u001b[0m in \u001b[0;36mrmtree\u001b[0;34m(path, ignore_errors, onerror)\u001b[0m\n\u001b[1;32m    720\u001b[0m         \u001b[0;31m# lstat()/open()/fstat() trick.\u001b[0m\u001b[0;34m\u001b[0m\u001b[0;34m\u001b[0m\u001b[0m\n\u001b[1;32m    721\u001b[0m         \u001b[0;32mtry\u001b[0m\u001b[0;34m:\u001b[0m\u001b[0;34m\u001b[0m\u001b[0;34m\u001b[0m\u001b[0m\n\u001b[0;32m--> 722\u001b[0;31m             \u001b[0morig_st\u001b[0m \u001b[0;34m=\u001b[0m \u001b[0mos\u001b[0m\u001b[0;34m.\u001b[0m\u001b[0mlstat\u001b[0m\u001b[0;34m(\u001b[0m\u001b[0mpath\u001b[0m\u001b[0;34m)\u001b[0m\u001b[0;34m\u001b[0m\u001b[0;34m\u001b[0m\u001b[0m\n\u001b[0m\u001b[1;32m    723\u001b[0m         \u001b[0;32mexcept\u001b[0m \u001b[0mException\u001b[0m\u001b[0;34m:\u001b[0m\u001b[0;34m\u001b[0m\u001b[0;34m\u001b[0m\u001b[0m\n\u001b[1;32m    724\u001b[0m             \u001b[0monerror\u001b[0m\u001b[0;34m(\u001b[0m\u001b[0mos\u001b[0m\u001b[0;34m.\u001b[0m\u001b[0mlstat\u001b[0m\u001b[0;34m,\u001b[0m \u001b[0mpath\u001b[0m\u001b[0;34m,\u001b[0m \u001b[0msys\u001b[0m\u001b[0;34m.\u001b[0m\u001b[0mexc_info\u001b[0m\u001b[0;34m(\u001b[0m\u001b[0;34m)\u001b[0m\u001b[0;34m)\u001b[0m\u001b[0;34m\u001b[0m\u001b[0;34m\u001b[0m\u001b[0m\n",
            "\u001b[0;31mFileNotFoundError\u001b[0m: [Errno 2] No such file or directory: 'Processed_Files'"
          ]
        }
      ],
      "source": [
        "# delete Raw_Excel_Files and 'Processed_Files' to reinitiate the whole folder\n",
        "\n",
        "shutil.rmtree('Processed_Files')\n",
        "shutil.rmtree('Raw_Excel_Files') \n",
        "\n",
        "os.listdir('.')"
      ]
    },
    {
      "cell_type": "code",
      "source": [
        "# remove folder Module_2\n",
        "\n",
        "shutil.rmtree('Module_2') "
      ],
      "metadata": {
        "id": "JNZpxbk3aFXn"
      },
      "execution_count": null,
      "outputs": []
    },
    {
      "cell_type": "code",
      "execution_count": null,
      "metadata": {
        "id": "lsnZqD0xToBn",
        "colab": {
          "base_uri": "https://localhost:8080/"
        },
        "outputId": "1989ed6e-bfd0-41cb-df08-7b5cc91646b0"
      },
      "outputs": [
        {
          "output_type": "execute_result",
          "data": {
            "text/plain": [
              "['Colab Notebooks', 'Module_2']"
            ]
          },
          "metadata": {},
          "execution_count": 116
        }
      ],
      "source": [
        "os.listdir('.')"
      ]
    },
    {
      "cell_type": "code",
      "source": [
        "os.listdir('Module_2')"
      ],
      "metadata": {
        "colab": {
          "base_uri": "https://localhost:8080/"
        },
        "id": "KyIuRE0boJks",
        "outputId": "1f2a846a-0d61-433f-c8e5-9cea59192c72"
      },
      "execution_count": null,
      "outputs": [
        {
          "output_type": "execute_result",
          "data": {
            "text/plain": [
              "['Files_Manipulation_Module_2.ipynb', 'Processed_Files', 'Raw_Excel_Files']"
            ]
          },
          "metadata": {},
          "execution_count": 117
        }
      ]
    },
    {
      "cell_type": "code",
      "execution_count": null,
      "metadata": {
        "id": "M8I-m6UGurZa",
        "colab": {
          "base_uri": "https://localhost:8080/"
        },
        "outputId": "d95cb866-1c48-4a06-dc7f-0fc4573d4e30"
      },
      "outputs": [
        {
          "output_type": "execute_result",
          "data": {
            "text/plain": [
              "['uk_df.xlsx', 'Consolidated_by_sheet.xlsx', 'Consolidation.xlsx']"
            ]
          },
          "metadata": {},
          "execution_count": 119
        }
      ],
      "source": [
        "os.listdir('Module_2/Processed_Files')"
      ]
    }
  ],
  "metadata": {
    "colab": {
      "provenance": [],
      "toc_visible": true,
      "include_colab_link": true
    },
    "kernelspec": {
      "display_name": "Python 3 (ipykernel)",
      "language": "python",
      "name": "python3"
    },
    "language_info": {
      "codemirror_mode": {
        "name": "ipython",
        "version": 3
      },
      "file_extension": ".py",
      "mimetype": "text/x-python",
      "name": "python",
      "nbconvert_exporter": "python",
      "pygments_lexer": "ipython3",
      "version": "3.9.7"
    },
    "toc-autonumbering": true
  },
  "nbformat": 4,
  "nbformat_minor": 0
}